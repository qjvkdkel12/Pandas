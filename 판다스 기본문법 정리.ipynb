{
 "cells": [
  {
   "cell_type": "markdown",
   "metadata": {},
   "source": [
    "## 판다스를 사용하기 위한 패키지 불러오기"
   ]
  },
  {
   "cell_type": "code",
   "execution_count": 4,
   "metadata": {},
   "outputs": [],
   "source": [
    "import pandas as pd\n",
    "import numpy as np\n",
    "import matplotlib.pyplot as plt"
   ]
  },
  {
   "cell_type": "markdown",
   "metadata": {},
   "source": [
    "## 1. 객채 생성\n",
    "값을 가지고 있는 리스트를 통해 Series를 만들고, 정수로 만들어진 인덱스를 기본값으로 불러오자."
   ]
  },
  {
   "cell_type": "code",
   "execution_count": 5,
   "metadata": {},
   "outputs": [],
   "source": [
    "s = pd.Series([1, 2, 3, 6, 8, np.nan]) # Series를 정의할 때 pd.Series() 함수를 이용하는데, Python의 list나 numpy의 array가 인자로 된다."
   ]
  },
  {
   "cell_type": "code",
   "execution_count": 6,
   "metadata": {},
   "outputs": [
    {
     "data": {
      "text/plain": [
       "0    1.0\n",
       "1    2.0\n",
       "2    3.0\n",
       "3    6.0\n",
       "4    8.0\n",
       "5    NaN\n",
       "dtype: float64"
      ]
     },
     "execution_count": 6,
     "metadata": {},
     "output_type": "execute_result"
    }
   ],
   "source": [
    "s # 출력"
   ]
  },
  {
   "cell_type": "markdown",
   "metadata": {},
   "source": [
    "datetime 인덱스와 레이블이 있는 열을 가지고 있는 numpy 배열을 전달하여 데이터프레임을 만들자.\n",
    "\n",
    "**pd.date_range()** 함수를 쓰면 날짜/시간을 일일히 입력할 필요없이 시작일과 종료일 또는\n",
    "시작일과 기간을 입력하면 범위 내의 인덱스를 생성해준다."
   ]
  },
  {
   "cell_type": "code",
   "execution_count": 7,
   "metadata": {
    "scrolled": true
   },
   "outputs": [],
   "source": [
    "date = pd.date_range(\"20190801\", periods = 6) # dara_range()함수를 사용해서 시작일을 2019-08-01로 시작해서 Periods를 사용해서 6번(2019-08-06까지 자동으로 생성)"
   ]
  },
  {
   "cell_type": "code",
   "execution_count": 8,
   "metadata": {},
   "outputs": [
    {
     "data": {
      "text/plain": [
       "DatetimeIndex(['2019-08-01', '2019-08-02', '2019-08-03', '2019-08-04',\n",
       "               '2019-08-05', '2019-08-06'],\n",
       "              dtype='datetime64[ns]', freq='D')"
      ]
     },
     "execution_count": 8,
     "metadata": {},
     "output_type": "execute_result"
    }
   ],
   "source": [
    "date # 출력"
   ]
  },
  {
   "cell_type": "markdown",
   "metadata": {},
   "source": [
    "**DataFrame()**를 이용하여 랜덤 난수를 생성하고, 행의 이름을 A, B, C, D로 생성하자."
   ]
  },
  {
   "cell_type": "code",
   "execution_count": 9,
   "metadata": {},
   "outputs": [],
   "source": [
    "df = pd.DataFrame(np.random.randn(6, 4), index = date, columns = list(\"ABCD\"))"
   ]
  },
  {
   "cell_type": "markdown",
   "metadata": {},
   "source": [
    "행이 6, 열이 4 이므로 **np.random.randn**을 6, 4로 이용하여 랜덤난수를 생성하고, 인덱스는 **date**, 행의 이름을 **A, B, C, D**로 생성"
   ]
  },
  {
   "cell_type": "code",
   "execution_count": 10,
   "metadata": {
    "scrolled": true
   },
   "outputs": [
    {
     "data": {
      "text/html": [
       "<div>\n",
       "<style scoped>\n",
       "    .dataframe tbody tr th:only-of-type {\n",
       "        vertical-align: middle;\n",
       "    }\n",
       "\n",
       "    .dataframe tbody tr th {\n",
       "        vertical-align: top;\n",
       "    }\n",
       "\n",
       "    .dataframe thead th {\n",
       "        text-align: right;\n",
       "    }\n",
       "</style>\n",
       "<table border=\"1\" class=\"dataframe\">\n",
       "  <thead>\n",
       "    <tr style=\"text-align: right;\">\n",
       "      <th></th>\n",
       "      <th>A</th>\n",
       "      <th>B</th>\n",
       "      <th>C</th>\n",
       "      <th>D</th>\n",
       "    </tr>\n",
       "  </thead>\n",
       "  <tbody>\n",
       "    <tr>\n",
       "      <th>2019-08-01</th>\n",
       "      <td>-0.001821</td>\n",
       "      <td>1.136318</td>\n",
       "      <td>-0.212192</td>\n",
       "      <td>0.335208</td>\n",
       "    </tr>\n",
       "    <tr>\n",
       "      <th>2019-08-02</th>\n",
       "      <td>0.784536</td>\n",
       "      <td>0.232398</td>\n",
       "      <td>-0.889879</td>\n",
       "      <td>0.365245</td>\n",
       "    </tr>\n",
       "    <tr>\n",
       "      <th>2019-08-03</th>\n",
       "      <td>-1.395550</td>\n",
       "      <td>0.695026</td>\n",
       "      <td>0.007378</td>\n",
       "      <td>-0.174264</td>\n",
       "    </tr>\n",
       "    <tr>\n",
       "      <th>2019-08-04</th>\n",
       "      <td>-0.297056</td>\n",
       "      <td>0.576387</td>\n",
       "      <td>-1.072282</td>\n",
       "      <td>1.116366</td>\n",
       "    </tr>\n",
       "    <tr>\n",
       "      <th>2019-08-05</th>\n",
       "      <td>-0.251807</td>\n",
       "      <td>-0.326359</td>\n",
       "      <td>1.031922</td>\n",
       "      <td>-0.943760</td>\n",
       "    </tr>\n",
       "    <tr>\n",
       "      <th>2019-08-06</th>\n",
       "      <td>0.925067</td>\n",
       "      <td>-0.093671</td>\n",
       "      <td>0.397192</td>\n",
       "      <td>-2.134656</td>\n",
       "    </tr>\n",
       "  </tbody>\n",
       "</table>\n",
       "</div>"
      ],
      "text/plain": [
       "                   A         B         C         D\n",
       "2019-08-01 -0.001821  1.136318 -0.212192  0.335208\n",
       "2019-08-02  0.784536  0.232398 -0.889879  0.365245\n",
       "2019-08-03 -1.395550  0.695026  0.007378 -0.174264\n",
       "2019-08-04 -0.297056  0.576387 -1.072282  1.116366\n",
       "2019-08-05 -0.251807 -0.326359  1.031922 -0.943760\n",
       "2019-08-06  0.925067 -0.093671  0.397192 -2.134656"
      ]
     },
     "execution_count": 10,
     "metadata": {},
     "output_type": "execute_result"
    }
   ],
   "source": [
    "df # 출력"
   ]
  },
  {
   "cell_type": "markdown",
   "metadata": {},
   "source": [
    "Series와 같은 것으로 변환할 수 있는 객체들의 dict로 구성된 데이터 프레임을 만들어보자."
   ]
  },
  {
   "cell_type": "code",
   "execution_count": 11,
   "metadata": {},
   "outputs": [],
   "source": [
    "df2 = pd.DataFrame({\"A\" : 1.,\n",
    "                            \"B\" : pd.Timestamp(\"20190803\"), # B의 모두 2019-08-03을 대입하고,\n",
    "                            \"C\" : pd.Series(1, index = list(range(4)), dtype = \"float32\"), # C에 1을 대입한 뒤, 실수 타입으로 해놓은다.\n",
    "                            \"D\" : np.array([3] * 4, dtype = \"int32\"), # D에 모두 3을 대입하고 정수 타입으로 해놓은다.\n",
    "                            \"E\" : pd.Categorical([\"test\", \"train\", \"test\", \"train\"]), # E에 test, train, test, train을 대입한다.\n",
    "                            \"F\" : \"too\"}) # F에 모두 too를 대입한다."
   ]
  },
  {
   "cell_type": "markdown",
   "metadata": {},
   "source": [
    "                                    <위 코드의 함수 정리>\n",
    "                                    \n",
    "                          cut : 실수 값의 경계선을 지정하는 경우\n",
    "                          Timestamp는 타임스탬프 형식의 시계열 자료를 다루기 위한 인덱스이다. \n",
    "                          Categorical은 cut 명령을 반환하는 클래스 객체이다.\n",
    "                          Series은 Python의 list나 numpy의 array가 인자로 된다."
   ]
  },
  {
   "cell_type": "code",
   "execution_count": 12,
   "metadata": {},
   "outputs": [
    {
     "data": {
      "text/html": [
       "<div>\n",
       "<style scoped>\n",
       "    .dataframe tbody tr th:only-of-type {\n",
       "        vertical-align: middle;\n",
       "    }\n",
       "\n",
       "    .dataframe tbody tr th {\n",
       "        vertical-align: top;\n",
       "    }\n",
       "\n",
       "    .dataframe thead th {\n",
       "        text-align: right;\n",
       "    }\n",
       "</style>\n",
       "<table border=\"1\" class=\"dataframe\">\n",
       "  <thead>\n",
       "    <tr style=\"text-align: right;\">\n",
       "      <th></th>\n",
       "      <th>A</th>\n",
       "      <th>B</th>\n",
       "      <th>C</th>\n",
       "      <th>D</th>\n",
       "      <th>E</th>\n",
       "      <th>F</th>\n",
       "    </tr>\n",
       "  </thead>\n",
       "  <tbody>\n",
       "    <tr>\n",
       "      <th>0</th>\n",
       "      <td>1.0</td>\n",
       "      <td>2019-08-03</td>\n",
       "      <td>1.0</td>\n",
       "      <td>3</td>\n",
       "      <td>test</td>\n",
       "      <td>too</td>\n",
       "    </tr>\n",
       "    <tr>\n",
       "      <th>1</th>\n",
       "      <td>1.0</td>\n",
       "      <td>2019-08-03</td>\n",
       "      <td>1.0</td>\n",
       "      <td>3</td>\n",
       "      <td>train</td>\n",
       "      <td>too</td>\n",
       "    </tr>\n",
       "    <tr>\n",
       "      <th>2</th>\n",
       "      <td>1.0</td>\n",
       "      <td>2019-08-03</td>\n",
       "      <td>1.0</td>\n",
       "      <td>3</td>\n",
       "      <td>test</td>\n",
       "      <td>too</td>\n",
       "    </tr>\n",
       "    <tr>\n",
       "      <th>3</th>\n",
       "      <td>1.0</td>\n",
       "      <td>2019-08-03</td>\n",
       "      <td>1.0</td>\n",
       "      <td>3</td>\n",
       "      <td>train</td>\n",
       "      <td>too</td>\n",
       "    </tr>\n",
       "  </tbody>\n",
       "</table>\n",
       "</div>"
      ],
      "text/plain": [
       "     A          B    C  D      E    F\n",
       "0  1.0 2019-08-03  1.0  3   test  too\n",
       "1  1.0 2019-08-03  1.0  3  train  too\n",
       "2  1.0 2019-08-03  1.0  3   test  too\n",
       "3  1.0 2019-08-03  1.0  3  train  too"
      ]
     },
     "execution_count": 12,
     "metadata": {},
     "output_type": "execute_result"
    }
   ],
   "source": [
    "df2 # 실행"
   ]
  },
  {
   "cell_type": "markdown",
   "metadata": {},
   "source": [
    "데이터프레임 결과물의 열은 다양한 **데이터 타입 (dtypes)**으로 구성된다."
   ]
  },
  {
   "cell_type": "code",
   "execution_count": 13,
   "metadata": {},
   "outputs": [
    {
     "data": {
      "text/plain": [
       "A           float64\n",
       "B    datetime64[ns]\n",
       "C           float32\n",
       "D             int32\n",
       "E          category\n",
       "F            object\n",
       "dtype: object"
      ]
     },
     "execution_count": 13,
     "metadata": {},
     "output_type": "execute_result"
    }
   ],
   "source": [
    "df2.dtypes"
   ]
  },
  {
   "cell_type": "markdown",
   "metadata": {},
   "source": [
    "## 2. 데이터 확인하기"
   ]
  },
  {
   "cell_type": "markdown",
   "metadata": {},
   "source": [
    "데이터프레임의 가장 윗 줄과 마지막 줄을 확인하고 싶을 때에 사용하는 방법은 다음과 같다.\n",
    "\n",
    "역자 주: 괄호() 안에는 숫자가 들어갈 수도 있고 안 들어갈 수도 있다. 숫자가 들어간다면, 윗 / 마지막 줄의 특정 줄을 불러올 수 있다. 숫자가 들어가지 않다면, 기본값인 5로 처리된다."
   ]
  },
  {
   "cell_type": "code",
   "execution_count": 14,
   "metadata": {},
   "outputs": [
    {
     "data": {
      "text/html": [
       "<div>\n",
       "<style scoped>\n",
       "    .dataframe tbody tr th:only-of-type {\n",
       "        vertical-align: middle;\n",
       "    }\n",
       "\n",
       "    .dataframe tbody tr th {\n",
       "        vertical-align: top;\n",
       "    }\n",
       "\n",
       "    .dataframe thead th {\n",
       "        text-align: right;\n",
       "    }\n",
       "</style>\n",
       "<table border=\"1\" class=\"dataframe\">\n",
       "  <thead>\n",
       "    <tr style=\"text-align: right;\">\n",
       "      <th></th>\n",
       "      <th>A</th>\n",
       "      <th>B</th>\n",
       "      <th>C</th>\n",
       "      <th>D</th>\n",
       "    </tr>\n",
       "  </thead>\n",
       "  <tbody>\n",
       "    <tr>\n",
       "      <th>2019-08-02</th>\n",
       "      <td>0.784536</td>\n",
       "      <td>0.232398</td>\n",
       "      <td>-0.889879</td>\n",
       "      <td>0.365245</td>\n",
       "    </tr>\n",
       "    <tr>\n",
       "      <th>2019-08-03</th>\n",
       "      <td>-1.395550</td>\n",
       "      <td>0.695026</td>\n",
       "      <td>0.007378</td>\n",
       "      <td>-0.174264</td>\n",
       "    </tr>\n",
       "    <tr>\n",
       "      <th>2019-08-04</th>\n",
       "      <td>-0.297056</td>\n",
       "      <td>0.576387</td>\n",
       "      <td>-1.072282</td>\n",
       "      <td>1.116366</td>\n",
       "    </tr>\n",
       "    <tr>\n",
       "      <th>2019-08-05</th>\n",
       "      <td>-0.251807</td>\n",
       "      <td>-0.326359</td>\n",
       "      <td>1.031922</td>\n",
       "      <td>-0.943760</td>\n",
       "    </tr>\n",
       "    <tr>\n",
       "      <th>2019-08-06</th>\n",
       "      <td>0.925067</td>\n",
       "      <td>-0.093671</td>\n",
       "      <td>0.397192</td>\n",
       "      <td>-2.134656</td>\n",
       "    </tr>\n",
       "  </tbody>\n",
       "</table>\n",
       "</div>"
      ],
      "text/plain": [
       "                   A         B         C         D\n",
       "2019-08-02  0.784536  0.232398 -0.889879  0.365245\n",
       "2019-08-03 -1.395550  0.695026  0.007378 -0.174264\n",
       "2019-08-04 -0.297056  0.576387 -1.072282  1.116366\n",
       "2019-08-05 -0.251807 -0.326359  1.031922 -0.943760\n",
       "2019-08-06  0.925067 -0.093671  0.397192 -2.134656"
      ]
     },
     "execution_count": 14,
     "metadata": {},
     "output_type": "execute_result"
    }
   ],
   "source": [
    "df.tail() # 끝에서 마지막 5줄을 출력한다."
   ]
  },
  {
   "cell_type": "code",
   "execution_count": 15,
   "metadata": {},
   "outputs": [
    {
     "data": {
      "text/html": [
       "<div>\n",
       "<style scoped>\n",
       "    .dataframe tbody tr th:only-of-type {\n",
       "        vertical-align: middle;\n",
       "    }\n",
       "\n",
       "    .dataframe tbody tr th {\n",
       "        vertical-align: top;\n",
       "    }\n",
       "\n",
       "    .dataframe thead th {\n",
       "        text-align: right;\n",
       "    }\n",
       "</style>\n",
       "<table border=\"1\" class=\"dataframe\">\n",
       "  <thead>\n",
       "    <tr style=\"text-align: right;\">\n",
       "      <th></th>\n",
       "      <th>A</th>\n",
       "      <th>B</th>\n",
       "      <th>C</th>\n",
       "      <th>D</th>\n",
       "    </tr>\n",
       "  </thead>\n",
       "  <tbody>\n",
       "    <tr>\n",
       "      <th>2019-08-04</th>\n",
       "      <td>-0.297056</td>\n",
       "      <td>0.576387</td>\n",
       "      <td>-1.072282</td>\n",
       "      <td>1.116366</td>\n",
       "    </tr>\n",
       "    <tr>\n",
       "      <th>2019-08-05</th>\n",
       "      <td>-0.251807</td>\n",
       "      <td>-0.326359</td>\n",
       "      <td>1.031922</td>\n",
       "      <td>-0.943760</td>\n",
       "    </tr>\n",
       "    <tr>\n",
       "      <th>2019-08-06</th>\n",
       "      <td>0.925067</td>\n",
       "      <td>-0.093671</td>\n",
       "      <td>0.397192</td>\n",
       "      <td>-2.134656</td>\n",
       "    </tr>\n",
       "  </tbody>\n",
       "</table>\n",
       "</div>"
      ],
      "text/plain": [
       "                   A         B         C         D\n",
       "2019-08-04 -0.297056  0.576387 -1.072282  1.116366\n",
       "2019-08-05 -0.251807 -0.326359  1.031922 -0.943760\n",
       "2019-08-06  0.925067 -0.093671  0.397192 -2.134656"
      ]
     },
     "execution_count": 15,
     "metadata": {},
     "output_type": "execute_result"
    }
   ],
   "source": [
    "df.tail(3) # 끝에서 마지막 3줄을 출력한다."
   ]
  },
  {
   "cell_type": "code",
   "execution_count": 16,
   "metadata": {},
   "outputs": [
    {
     "data": {
      "text/html": [
       "<div>\n",
       "<style scoped>\n",
       "    .dataframe tbody tr th:only-of-type {\n",
       "        vertical-align: middle;\n",
       "    }\n",
       "\n",
       "    .dataframe tbody tr th {\n",
       "        vertical-align: top;\n",
       "    }\n",
       "\n",
       "    .dataframe thead th {\n",
       "        text-align: right;\n",
       "    }\n",
       "</style>\n",
       "<table border=\"1\" class=\"dataframe\">\n",
       "  <thead>\n",
       "    <tr style=\"text-align: right;\">\n",
       "      <th></th>\n",
       "      <th>A</th>\n",
       "      <th>B</th>\n",
       "      <th>C</th>\n",
       "      <th>D</th>\n",
       "    </tr>\n",
       "  </thead>\n",
       "  <tbody>\n",
       "    <tr>\n",
       "      <th>2019-08-01</th>\n",
       "      <td>-0.001821</td>\n",
       "      <td>1.136318</td>\n",
       "      <td>-0.212192</td>\n",
       "      <td>0.335208</td>\n",
       "    </tr>\n",
       "    <tr>\n",
       "      <th>2019-08-02</th>\n",
       "      <td>0.784536</td>\n",
       "      <td>0.232398</td>\n",
       "      <td>-0.889879</td>\n",
       "      <td>0.365245</td>\n",
       "    </tr>\n",
       "    <tr>\n",
       "      <th>2019-08-03</th>\n",
       "      <td>-1.395550</td>\n",
       "      <td>0.695026</td>\n",
       "      <td>0.007378</td>\n",
       "      <td>-0.174264</td>\n",
       "    </tr>\n",
       "    <tr>\n",
       "      <th>2019-08-04</th>\n",
       "      <td>-0.297056</td>\n",
       "      <td>0.576387</td>\n",
       "      <td>-1.072282</td>\n",
       "      <td>1.116366</td>\n",
       "    </tr>\n",
       "    <tr>\n",
       "      <th>2019-08-05</th>\n",
       "      <td>-0.251807</td>\n",
       "      <td>-0.326359</td>\n",
       "      <td>1.031922</td>\n",
       "      <td>-0.943760</td>\n",
       "    </tr>\n",
       "  </tbody>\n",
       "</table>\n",
       "</div>"
      ],
      "text/plain": [
       "                   A         B         C         D\n",
       "2019-08-01 -0.001821  1.136318 -0.212192  0.335208\n",
       "2019-08-02  0.784536  0.232398 -0.889879  0.365245\n",
       "2019-08-03 -1.395550  0.695026  0.007378 -0.174264\n",
       "2019-08-04 -0.297056  0.576387 -1.072282  1.116366\n",
       "2019-08-05 -0.251807 -0.326359  1.031922 -0.943760"
      ]
     },
     "execution_count": 16,
     "metadata": {},
     "output_type": "execute_result"
    }
   ],
   "source": [
    "df.head() # 첫 번째에서 5줄을 출력한다."
   ]
  },
  {
   "cell_type": "code",
   "execution_count": 17,
   "metadata": {},
   "outputs": [
    {
     "data": {
      "text/plain": [
       "DatetimeIndex(['2019-08-01', '2019-08-02', '2019-08-03', '2019-08-04',\n",
       "               '2019-08-05', '2019-08-06'],\n",
       "              dtype='datetime64[ns]', freq='D')"
      ]
     },
     "execution_count": 17,
     "metadata": {},
     "output_type": "execute_result"
    }
   ],
   "source": [
    "df.index # DataFrame의 인덱스 확인"
   ]
  },
  {
   "cell_type": "code",
   "execution_count": 18,
   "metadata": {},
   "outputs": [
    {
     "data": {
      "text/plain": [
       "Index(['A', 'B', 'C', 'D'], dtype='object')"
      ]
     },
     "execution_count": 18,
     "metadata": {},
     "output_type": "execute_result"
    }
   ],
   "source": [
    "df.columns # DataFrame의 컬럼 확인"
   ]
  },
  {
   "cell_type": "code",
   "execution_count": 19,
   "metadata": {},
   "outputs": [
    {
     "data": {
      "text/plain": [
       "array([[-1.82064181e-03,  1.13631838e+00, -2.12191577e-01,\n",
       "         3.35207842e-01],\n",
       "       [ 7.84536410e-01,  2.32398142e-01, -8.89879050e-01,\n",
       "         3.65244951e-01],\n",
       "       [-1.39555012e+00,  6.95026062e-01,  7.37814932e-03,\n",
       "        -1.74263746e-01],\n",
       "       [-2.97056338e-01,  5.76387025e-01, -1.07228174e+00,\n",
       "         1.11636573e+00],\n",
       "       [-2.51806726e-01, -3.26359355e-01,  1.03192158e+00,\n",
       "        -9.43760010e-01],\n",
       "       [ 9.25067115e-01, -9.36712511e-02,  3.97191836e-01,\n",
       "        -2.13465559e+00]])"
      ]
     },
     "execution_count": 19,
     "metadata": {},
     "output_type": "execute_result"
    }
   ],
   "source": [
    "df.values # 안에 들어있는 numpy데이터를 확인"
   ]
  },
  {
   "cell_type": "code",
   "execution_count": 20,
   "metadata": {},
   "outputs": [
    {
     "data": {
      "text/html": [
       "<div>\n",
       "<style scoped>\n",
       "    .dataframe tbody tr th:only-of-type {\n",
       "        vertical-align: middle;\n",
       "    }\n",
       "\n",
       "    .dataframe tbody tr th {\n",
       "        vertical-align: top;\n",
       "    }\n",
       "\n",
       "    .dataframe thead th {\n",
       "        text-align: right;\n",
       "    }\n",
       "</style>\n",
       "<table border=\"1\" class=\"dataframe\">\n",
       "  <thead>\n",
       "    <tr style=\"text-align: right;\">\n",
       "      <th></th>\n",
       "      <th>A</th>\n",
       "      <th>B</th>\n",
       "      <th>C</th>\n",
       "      <th>D</th>\n",
       "    </tr>\n",
       "  </thead>\n",
       "  <tbody>\n",
       "    <tr>\n",
       "      <th>count</th>\n",
       "      <td>6.000000</td>\n",
       "      <td>6.000000</td>\n",
       "      <td>6.000000</td>\n",
       "      <td>6.000000</td>\n",
       "    </tr>\n",
       "    <tr>\n",
       "      <th>mean</th>\n",
       "      <td>-0.039438</td>\n",
       "      <td>0.370017</td>\n",
       "      <td>-0.122977</td>\n",
       "      <td>-0.239310</td>\n",
       "    </tr>\n",
       "    <tr>\n",
       "      <th>std</th>\n",
       "      <td>0.843934</td>\n",
       "      <td>0.539319</td>\n",
       "      <td>0.789764</td>\n",
       "      <td>1.151193</td>\n",
       "    </tr>\n",
       "    <tr>\n",
       "      <th>min</th>\n",
       "      <td>-1.395550</td>\n",
       "      <td>-0.326359</td>\n",
       "      <td>-1.072282</td>\n",
       "      <td>-2.134656</td>\n",
       "    </tr>\n",
       "    <tr>\n",
       "      <th>25%</th>\n",
       "      <td>-0.285744</td>\n",
       "      <td>-0.012154</td>\n",
       "      <td>-0.720457</td>\n",
       "      <td>-0.751386</td>\n",
       "    </tr>\n",
       "    <tr>\n",
       "      <th>50%</th>\n",
       "      <td>-0.126814</td>\n",
       "      <td>0.404393</td>\n",
       "      <td>-0.102407</td>\n",
       "      <td>0.080472</td>\n",
       "    </tr>\n",
       "    <tr>\n",
       "      <th>75%</th>\n",
       "      <td>0.587947</td>\n",
       "      <td>0.665366</td>\n",
       "      <td>0.299738</td>\n",
       "      <td>0.357736</td>\n",
       "    </tr>\n",
       "    <tr>\n",
       "      <th>max</th>\n",
       "      <td>0.925067</td>\n",
       "      <td>1.136318</td>\n",
       "      <td>1.031922</td>\n",
       "      <td>1.116366</td>\n",
       "    </tr>\n",
       "  </tbody>\n",
       "</table>\n",
       "</div>"
      ],
      "text/plain": [
       "              A         B         C         D\n",
       "count  6.000000  6.000000  6.000000  6.000000\n",
       "mean  -0.039438  0.370017 -0.122977 -0.239310\n",
       "std    0.843934  0.539319  0.789764  1.151193\n",
       "min   -1.395550 -0.326359 -1.072282 -2.134656\n",
       "25%   -0.285744 -0.012154 -0.720457 -0.751386\n",
       "50%   -0.126814  0.404393 -0.102407  0.080472\n",
       "75%    0.587947  0.665366  0.299738  0.357736\n",
       "max    0.925067  1.136318  1.031922  1.116366"
      ]
     },
     "execution_count": 20,
     "metadata": {},
     "output_type": "execute_result"
    }
   ],
   "source": [
    "df.describe() # df.describe()는 데이터의 대략적인 통계적 정보 요약을 보여준다."
   ]
  },
  {
   "cell_type": "markdown",
   "metadata": {},
   "source": [
    "위 코드의 함수에서 **describe()** 메소드는 생성했던 DataFrame의 간단한 통계 정보를 보여준다. **컬럼별로 데이터의 개수(count), 데이터의 평균 값(mean), 표준 편차(std), 최솟값(min), 4분위수(25%, 50%, 75%), 그리고 최댓값(max)들의 정보를 알 수 있다.**"
   ]
  },
  {
   "cell_type": "code",
   "execution_count": 21,
   "metadata": {},
   "outputs": [
    {
     "data": {
      "text/html": [
       "<div>\n",
       "<style scoped>\n",
       "    .dataframe tbody tr th:only-of-type {\n",
       "        vertical-align: middle;\n",
       "    }\n",
       "\n",
       "    .dataframe tbody tr th {\n",
       "        vertical-align: top;\n",
       "    }\n",
       "\n",
       "    .dataframe thead th {\n",
       "        text-align: right;\n",
       "    }\n",
       "</style>\n",
       "<table border=\"1\" class=\"dataframe\">\n",
       "  <thead>\n",
       "    <tr style=\"text-align: right;\">\n",
       "      <th></th>\n",
       "      <th>2019-08-01 00:00:00</th>\n",
       "      <th>2019-08-02 00:00:00</th>\n",
       "      <th>2019-08-03 00:00:00</th>\n",
       "      <th>2019-08-04 00:00:00</th>\n",
       "      <th>2019-08-05 00:00:00</th>\n",
       "      <th>2019-08-06 00:00:00</th>\n",
       "    </tr>\n",
       "  </thead>\n",
       "  <tbody>\n",
       "    <tr>\n",
       "      <th>A</th>\n",
       "      <td>-0.001821</td>\n",
       "      <td>0.784536</td>\n",
       "      <td>-1.395550</td>\n",
       "      <td>-0.297056</td>\n",
       "      <td>-0.251807</td>\n",
       "      <td>0.925067</td>\n",
       "    </tr>\n",
       "    <tr>\n",
       "      <th>B</th>\n",
       "      <td>1.136318</td>\n",
       "      <td>0.232398</td>\n",
       "      <td>0.695026</td>\n",
       "      <td>0.576387</td>\n",
       "      <td>-0.326359</td>\n",
       "      <td>-0.093671</td>\n",
       "    </tr>\n",
       "    <tr>\n",
       "      <th>C</th>\n",
       "      <td>-0.212192</td>\n",
       "      <td>-0.889879</td>\n",
       "      <td>0.007378</td>\n",
       "      <td>-1.072282</td>\n",
       "      <td>1.031922</td>\n",
       "      <td>0.397192</td>\n",
       "    </tr>\n",
       "    <tr>\n",
       "      <th>D</th>\n",
       "      <td>0.335208</td>\n",
       "      <td>0.365245</td>\n",
       "      <td>-0.174264</td>\n",
       "      <td>1.116366</td>\n",
       "      <td>-0.943760</td>\n",
       "      <td>-2.134656</td>\n",
       "    </tr>\n",
       "  </tbody>\n",
       "</table>\n",
       "</div>"
      ],
      "text/plain": [
       "   2019-08-01  2019-08-02  2019-08-03  2019-08-04  2019-08-05  2019-08-06\n",
       "A   -0.001821    0.784536   -1.395550   -0.297056   -0.251807    0.925067\n",
       "B    1.136318    0.232398    0.695026    0.576387   -0.326359   -0.093671\n",
       "C   -0.212192   -0.889879    0.007378   -1.072282    1.031922    0.397192\n",
       "D    0.335208    0.365245   -0.174264    1.116366   -0.943760   -2.134656"
      ]
     },
     "execution_count": 21,
     "metadata": {},
     "output_type": "execute_result"
    }
   ],
   "source": [
    "df.T # T()는 DataFrame에서 index와 column을 바꾼형태의 DataFrame이다."
   ]
  },
  {
   "cell_type": "code",
   "execution_count": 22,
   "metadata": {},
   "outputs": [
    {
     "data": {
      "text/html": [
       "<div>\n",
       "<style scoped>\n",
       "    .dataframe tbody tr th:only-of-type {\n",
       "        vertical-align: middle;\n",
       "    }\n",
       "\n",
       "    .dataframe tbody tr th {\n",
       "        vertical-align: top;\n",
       "    }\n",
       "\n",
       "    .dataframe thead th {\n",
       "        text-align: right;\n",
       "    }\n",
       "</style>\n",
       "<table border=\"1\" class=\"dataframe\">\n",
       "  <thead>\n",
       "    <tr style=\"text-align: right;\">\n",
       "      <th></th>\n",
       "      <th>D</th>\n",
       "      <th>C</th>\n",
       "      <th>B</th>\n",
       "      <th>A</th>\n",
       "    </tr>\n",
       "  </thead>\n",
       "  <tbody>\n",
       "    <tr>\n",
       "      <th>2019-08-01</th>\n",
       "      <td>0.335208</td>\n",
       "      <td>-0.212192</td>\n",
       "      <td>1.136318</td>\n",
       "      <td>-0.001821</td>\n",
       "    </tr>\n",
       "    <tr>\n",
       "      <th>2019-08-02</th>\n",
       "      <td>0.365245</td>\n",
       "      <td>-0.889879</td>\n",
       "      <td>0.232398</td>\n",
       "      <td>0.784536</td>\n",
       "    </tr>\n",
       "    <tr>\n",
       "      <th>2019-08-03</th>\n",
       "      <td>-0.174264</td>\n",
       "      <td>0.007378</td>\n",
       "      <td>0.695026</td>\n",
       "      <td>-1.395550</td>\n",
       "    </tr>\n",
       "    <tr>\n",
       "      <th>2019-08-04</th>\n",
       "      <td>1.116366</td>\n",
       "      <td>-1.072282</td>\n",
       "      <td>0.576387</td>\n",
       "      <td>-0.297056</td>\n",
       "    </tr>\n",
       "    <tr>\n",
       "      <th>2019-08-05</th>\n",
       "      <td>-0.943760</td>\n",
       "      <td>1.031922</td>\n",
       "      <td>-0.326359</td>\n",
       "      <td>-0.251807</td>\n",
       "    </tr>\n",
       "    <tr>\n",
       "      <th>2019-08-06</th>\n",
       "      <td>-2.134656</td>\n",
       "      <td>0.397192</td>\n",
       "      <td>-0.093671</td>\n",
       "      <td>0.925067</td>\n",
       "    </tr>\n",
       "  </tbody>\n",
       "</table>\n",
       "</div>"
      ],
      "text/plain": [
       "                   D         C         B         A\n",
       "2019-08-01  0.335208 -0.212192  1.136318 -0.001821\n",
       "2019-08-02  0.365245 -0.889879  0.232398  0.784536\n",
       "2019-08-03 -0.174264  0.007378  0.695026 -1.395550\n",
       "2019-08-04  1.116366 -1.072282  0.576387 -0.297056\n",
       "2019-08-05 -0.943760  1.031922 -0.326359 -0.251807\n",
       "2019-08-06 -2.134656  0.397192 -0.093671  0.925067"
      ]
     },
     "execution_count": 22,
     "metadata": {},
     "output_type": "execute_result"
    }
   ],
   "source": [
    "df.sort_index(axis = 1, ascending = False) # 축 별로 정렬한다."
   ]
  },
  {
   "cell_type": "markdown",
   "metadata": {},
   "source": [
    "                                                                     <위 코드의 함수 알아보기>\n",
    "                            위 코드의 sort_index()는 메소드로 행과 열 이름을 정렬해서 나타낼 수도있다. \n",
    "                            \n",
    "      정렬할 대상 축을 결정할 때에는 axis를 이용한다. axis = 0(디폴트) 이라고 써주면 인덱스를 기준으로 정렬하고 axis = 1라고 써 주면 컬럼이 기준이다.\n",
    "      \n",
    "      정렬의 방향은 ascending를 이용한다. ascending = True는 오름차순(디폴트)이고, 반대로 False는 내림차순 이다."
   ]
  },
  {
   "cell_type": "markdown",
   "metadata": {},
   "source": [
    "## 3. 데이터 선택하기"
   ]
  },
  {
   "cell_type": "markdown",
   "metadata": {},
   "source": [
    "## Getting (데이터 얻기)"
   ]
  },
  {
   "cell_type": "markdown",
   "metadata": {},
   "source": [
    "df.A 와 동일한 Series를 생성하는 단일 열을 선택"
   ]
  },
  {
   "cell_type": "code",
   "execution_count": 23,
   "metadata": {},
   "outputs": [
    {
     "data": {
      "text/plain": [
       "2019-08-01   -0.001821\n",
       "2019-08-02    0.784536\n",
       "2019-08-03   -1.395550\n",
       "2019-08-04   -0.297056\n",
       "2019-08-05   -0.251807\n",
       "2019-08-06    0.925067\n",
       "Freq: D, Name: A, dtype: float64"
      ]
     },
     "execution_count": 23,
     "metadata": {},
     "output_type": "execute_result"
    }
   ],
   "source": [
    "df[\"A\"] # 특정 컬럼의 값들만 출력하고 싶으면 이 코드를 실행한다. 이는 df.A와 동일하다. "
   ]
  },
  {
   "cell_type": "code",
   "execution_count": 24,
   "metadata": {},
   "outputs": [
    {
     "data": {
      "text/html": [
       "<div>\n",
       "<style scoped>\n",
       "    .dataframe tbody tr th:only-of-type {\n",
       "        vertical-align: middle;\n",
       "    }\n",
       "\n",
       "    .dataframe tbody tr th {\n",
       "        vertical-align: top;\n",
       "    }\n",
       "\n",
       "    .dataframe thead th {\n",
       "        text-align: right;\n",
       "    }\n",
       "</style>\n",
       "<table border=\"1\" class=\"dataframe\">\n",
       "  <thead>\n",
       "    <tr style=\"text-align: right;\">\n",
       "      <th></th>\n",
       "      <th>A</th>\n",
       "      <th>B</th>\n",
       "      <th>C</th>\n",
       "      <th>D</th>\n",
       "    </tr>\n",
       "  </thead>\n",
       "  <tbody>\n",
       "    <tr>\n",
       "      <th>2019-08-01</th>\n",
       "      <td>-0.001821</td>\n",
       "      <td>1.136318</td>\n",
       "      <td>-0.212192</td>\n",
       "      <td>0.335208</td>\n",
       "    </tr>\n",
       "    <tr>\n",
       "      <th>2019-08-02</th>\n",
       "      <td>0.784536</td>\n",
       "      <td>0.232398</td>\n",
       "      <td>-0.889879</td>\n",
       "      <td>0.365245</td>\n",
       "    </tr>\n",
       "    <tr>\n",
       "      <th>2019-08-03</th>\n",
       "      <td>-1.395550</td>\n",
       "      <td>0.695026</td>\n",
       "      <td>0.007378</td>\n",
       "      <td>-0.174264</td>\n",
       "    </tr>\n",
       "  </tbody>\n",
       "</table>\n",
       "</div>"
      ],
      "text/plain": [
       "                   A         B         C         D\n",
       "2019-08-01 -0.001821  1.136318 -0.212192  0.335208\n",
       "2019-08-02  0.784536  0.232398 -0.889879  0.365245\n",
       "2019-08-03 -1.395550  0.695026  0.007378 -0.174264"
      ]
     },
     "execution_count": 24,
     "metadata": {},
     "output_type": "execute_result"
    }
   ],
   "source": [
    "df[0:3] # 0, 1, 2 행을 가져온다."
   ]
  },
  {
   "cell_type": "code",
   "execution_count": 25,
   "metadata": {},
   "outputs": [
    {
     "data": {
      "text/html": [
       "<div>\n",
       "<style scoped>\n",
       "    .dataframe tbody tr th:only-of-type {\n",
       "        vertical-align: middle;\n",
       "    }\n",
       "\n",
       "    .dataframe tbody tr th {\n",
       "        vertical-align: top;\n",
       "    }\n",
       "\n",
       "    .dataframe thead th {\n",
       "        text-align: right;\n",
       "    }\n",
       "</style>\n",
       "<table border=\"1\" class=\"dataframe\">\n",
       "  <thead>\n",
       "    <tr style=\"text-align: right;\">\n",
       "      <th></th>\n",
       "      <th>A</th>\n",
       "      <th>B</th>\n",
       "      <th>C</th>\n",
       "      <th>D</th>\n",
       "    </tr>\n",
       "  </thead>\n",
       "  <tbody>\n",
       "    <tr>\n",
       "      <th>2019-08-01</th>\n",
       "      <td>-0.001821</td>\n",
       "      <td>1.136318</td>\n",
       "      <td>-0.212192</td>\n",
       "      <td>0.335208</td>\n",
       "    </tr>\n",
       "    <tr>\n",
       "      <th>2019-08-02</th>\n",
       "      <td>0.784536</td>\n",
       "      <td>0.232398</td>\n",
       "      <td>-0.889879</td>\n",
       "      <td>0.365245</td>\n",
       "    </tr>\n",
       "    <tr>\n",
       "      <th>2019-08-03</th>\n",
       "      <td>-1.395550</td>\n",
       "      <td>0.695026</td>\n",
       "      <td>0.007378</td>\n",
       "      <td>-0.174264</td>\n",
       "    </tr>\n",
       "    <tr>\n",
       "      <th>2019-08-04</th>\n",
       "      <td>-0.297056</td>\n",
       "      <td>0.576387</td>\n",
       "      <td>-1.072282</td>\n",
       "      <td>1.116366</td>\n",
       "    </tr>\n",
       "    <tr>\n",
       "      <th>2019-08-05</th>\n",
       "      <td>-0.251807</td>\n",
       "      <td>-0.326359</td>\n",
       "      <td>1.031922</td>\n",
       "      <td>-0.943760</td>\n",
       "    </tr>\n",
       "  </tbody>\n",
       "</table>\n",
       "</div>"
      ],
      "text/plain": [
       "                   A         B         C         D\n",
       "2019-08-01 -0.001821  1.136318 -0.212192  0.335208\n",
       "2019-08-02  0.784536  0.232398 -0.889879  0.365245\n",
       "2019-08-03 -1.395550  0.695026  0.007378 -0.174264\n",
       "2019-08-04 -0.297056  0.576387 -1.072282  1.116366\n",
       "2019-08-05 -0.251807 -0.326359  1.031922 -0.943760"
      ]
     },
     "execution_count": 25,
     "metadata": {},
     "output_type": "execute_result"
    }
   ],
   "source": [
    " df[\"20190801\" : \"20190805\"] # 인덱스를 직접 넣어서 해당하는 \"행 범위\" 를 가져올 수 있다."
   ]
  },
  {
   "cell_type": "markdown",
   "metadata": {},
   "source": [
    "라벨의 이름을 이용하여 선택할 수 있는 **.loc** 를 사용할 수 있다. 아래 코드 외에도 **df.loc[20190801]** 로도 사용가능하다."
   ]
  },
  {
   "cell_type": "code",
   "execution_count": 26,
   "metadata": {},
   "outputs": [
    {
     "data": {
      "text/plain": [
       "A   -0.001821\n",
       "B    1.136318\n",
       "C   -0.212192\n",
       "D    0.335208\n",
       "Name: 2019-08-01 00:00:00, dtype: float64"
      ]
     },
     "execution_count": 26,
     "metadata": {},
     "output_type": "execute_result"
    }
   ],
   "source": [
    "df.loc[date[0]]"
   ]
  },
  {
   "cell_type": "code",
   "execution_count": 27,
   "metadata": {
    "scrolled": true
   },
   "outputs": [
    {
     "data": {
      "text/html": [
       "<div>\n",
       "<style scoped>\n",
       "    .dataframe tbody tr th:only-of-type {\n",
       "        vertical-align: middle;\n",
       "    }\n",
       "\n",
       "    .dataframe tbody tr th {\n",
       "        vertical-align: top;\n",
       "    }\n",
       "\n",
       "    .dataframe thead th {\n",
       "        text-align: right;\n",
       "    }\n",
       "</style>\n",
       "<table border=\"1\" class=\"dataframe\">\n",
       "  <thead>\n",
       "    <tr style=\"text-align: right;\">\n",
       "      <th></th>\n",
       "      <th>A</th>\n",
       "      <th>B</th>\n",
       "    </tr>\n",
       "  </thead>\n",
       "  <tbody>\n",
       "    <tr>\n",
       "      <th>2019-08-01</th>\n",
       "      <td>-0.001821</td>\n",
       "      <td>1.136318</td>\n",
       "    </tr>\n",
       "    <tr>\n",
       "      <th>2019-08-02</th>\n",
       "      <td>0.784536</td>\n",
       "      <td>0.232398</td>\n",
       "    </tr>\n",
       "    <tr>\n",
       "      <th>2019-08-03</th>\n",
       "      <td>-1.395550</td>\n",
       "      <td>0.695026</td>\n",
       "    </tr>\n",
       "    <tr>\n",
       "      <th>2019-08-04</th>\n",
       "      <td>-0.297056</td>\n",
       "      <td>0.576387</td>\n",
       "    </tr>\n",
       "    <tr>\n",
       "      <th>2019-08-05</th>\n",
       "      <td>-0.251807</td>\n",
       "      <td>-0.326359</td>\n",
       "    </tr>\n",
       "    <tr>\n",
       "      <th>2019-08-06</th>\n",
       "      <td>0.925067</td>\n",
       "      <td>-0.093671</td>\n",
       "    </tr>\n",
       "  </tbody>\n",
       "</table>\n",
       "</div>"
      ],
      "text/plain": [
       "                   A         B\n",
       "2019-08-01 -0.001821  1.136318\n",
       "2019-08-02  0.784536  0.232398\n",
       "2019-08-03 -1.395550  0.695026\n",
       "2019-08-04 -0.297056  0.576387\n",
       "2019-08-05 -0.251807 -0.326359\n",
       "2019-08-06  0.925067 -0.093671"
      ]
     },
     "execution_count": 27,
     "metadata": {},
     "output_type": "execute_result"
    }
   ],
   "source": [
    "df.loc[:, [\"A\", \"B\"]] # 컬럼 \"A\"와 \"B\"에 대한 모든 값 출력"
   ]
  },
  {
   "cell_type": "code",
   "execution_count": 28,
   "metadata": {},
   "outputs": [
    {
     "data": {
      "text/html": [
       "<div>\n",
       "<style scoped>\n",
       "    .dataframe tbody tr th:only-of-type {\n",
       "        vertical-align: middle;\n",
       "    }\n",
       "\n",
       "    .dataframe tbody tr th {\n",
       "        vertical-align: top;\n",
       "    }\n",
       "\n",
       "    .dataframe thead th {\n",
       "        text-align: right;\n",
       "    }\n",
       "</style>\n",
       "<table border=\"1\" class=\"dataframe\">\n",
       "  <thead>\n",
       "    <tr style=\"text-align: right;\">\n",
       "      <th></th>\n",
       "      <th>A</th>\n",
       "      <th>B</th>\n",
       "    </tr>\n",
       "  </thead>\n",
       "  <tbody>\n",
       "    <tr>\n",
       "      <th>2019-08-01</th>\n",
       "      <td>-0.001821</td>\n",
       "      <td>1.136318</td>\n",
       "    </tr>\n",
       "    <tr>\n",
       "      <th>2019-08-02</th>\n",
       "      <td>0.784536</td>\n",
       "      <td>0.232398</td>\n",
       "    </tr>\n",
       "    <tr>\n",
       "      <th>2019-08-03</th>\n",
       "      <td>-1.395550</td>\n",
       "      <td>0.695026</td>\n",
       "    </tr>\n",
       "    <tr>\n",
       "      <th>2019-08-04</th>\n",
       "      <td>-0.297056</td>\n",
       "      <td>0.576387</td>\n",
       "    </tr>\n",
       "    <tr>\n",
       "      <th>2019-08-05</th>\n",
       "      <td>-0.251807</td>\n",
       "      <td>-0.326359</td>\n",
       "    </tr>\n",
       "  </tbody>\n",
       "</table>\n",
       "</div>"
      ],
      "text/plain": [
       "                   A         B\n",
       "2019-08-01 -0.001821  1.136318\n",
       "2019-08-02  0.784536  0.232398\n",
       "2019-08-03 -1.395550  0.695026\n",
       "2019-08-04 -0.297056  0.576387\n",
       "2019-08-05 -0.251807 -0.326359"
      ]
     },
     "execution_count": 28,
     "metadata": {},
     "output_type": "execute_result"
    }
   ],
   "source": [
    "df.loc[\"20190801\" : \"20190805\", [\"A\", \"B\"]] # 인덱스 2019-08-01 부터 2019-08-05 까지의 컬럼 A와 B의 값 출력"
   ]
  },
  {
   "cell_type": "markdown",
   "metadata": {},
   "source": [
    "**lioc** 는 인덱스 번호를 이용하여 데이터를 선택 할 수 있다. **인덱스 번호는 0부터 시작하므로 첫 번째는 0, 두 번째는 1이다.**"
   ]
  },
  {
   "cell_type": "code",
   "execution_count": 29,
   "metadata": {},
   "outputs": [
    {
     "data": {
      "text/plain": [
       "A   -1.395550\n",
       "B    0.695026\n",
       "C    0.007378\n",
       "D   -0.174264\n",
       "Name: 2019-08-03 00:00:00, dtype: float64"
      ]
     },
     "execution_count": 29,
     "metadata": {},
     "output_type": "execute_result"
    }
   ],
   "source": [
    "df.iloc[2] # 세 번째 행 출력"
   ]
  },
  {
   "cell_type": "code",
   "execution_count": 30,
   "metadata": {},
   "outputs": [
    {
     "data": {
      "text/html": [
       "<div>\n",
       "<style scoped>\n",
       "    .dataframe tbody tr th:only-of-type {\n",
       "        vertical-align: middle;\n",
       "    }\n",
       "\n",
       "    .dataframe tbody tr th {\n",
       "        vertical-align: top;\n",
       "    }\n",
       "\n",
       "    .dataframe thead th {\n",
       "        text-align: right;\n",
       "    }\n",
       "</style>\n",
       "<table border=\"1\" class=\"dataframe\">\n",
       "  <thead>\n",
       "    <tr style=\"text-align: right;\">\n",
       "      <th></th>\n",
       "      <th>A</th>\n",
       "      <th>B</th>\n",
       "      <th>C</th>\n",
       "      <th>D</th>\n",
       "    </tr>\n",
       "  </thead>\n",
       "  <tbody>\n",
       "    <tr>\n",
       "      <th>2019-08-02</th>\n",
       "      <td>0.784536</td>\n",
       "      <td>0.232398</td>\n",
       "      <td>-0.889879</td>\n",
       "      <td>0.365245</td>\n",
       "    </tr>\n",
       "    <tr>\n",
       "      <th>2019-08-03</th>\n",
       "      <td>-1.395550</td>\n",
       "      <td>0.695026</td>\n",
       "      <td>0.007378</td>\n",
       "      <td>-0.174264</td>\n",
       "    </tr>\n",
       "  </tbody>\n",
       "</table>\n",
       "</div>"
      ],
      "text/plain": [
       "                   A         B         C         D\n",
       "2019-08-02  0.784536  0.232398 -0.889879  0.365245\n",
       "2019-08-03 -1.395550  0.695026  0.007378 -0.174264"
      ]
     },
     "execution_count": 30,
     "metadata": {},
     "output_type": "execute_result"
    }
   ],
   "source": [
    "df.iloc[1:3, 0:4] # 행의 인덱스는 1:3 이므로 두 번째 행과 네 번째 행을 선택하고, 열의 엔덱스는 0:4 이므로 첫 번째와 다섯 번째 열을 출력한다."
   ]
  },
  {
   "cell_type": "code",
   "execution_count": 31,
   "metadata": {},
   "outputs": [
    {
     "data": {
      "text/html": [
       "<div>\n",
       "<style scoped>\n",
       "    .dataframe tbody tr th:only-of-type {\n",
       "        vertical-align: middle;\n",
       "    }\n",
       "\n",
       "    .dataframe tbody tr th {\n",
       "        vertical-align: top;\n",
       "    }\n",
       "\n",
       "    .dataframe thead th {\n",
       "        text-align: right;\n",
       "    }\n",
       "</style>\n",
       "<table border=\"1\" class=\"dataframe\">\n",
       "  <thead>\n",
       "    <tr style=\"text-align: right;\">\n",
       "      <th></th>\n",
       "      <th>A</th>\n",
       "      <th>C</th>\n",
       "    </tr>\n",
       "  </thead>\n",
       "  <tbody>\n",
       "    <tr>\n",
       "      <th>2019-08-02</th>\n",
       "      <td>0.784536</td>\n",
       "      <td>-0.889879</td>\n",
       "    </tr>\n",
       "    <tr>\n",
       "      <th>2019-08-03</th>\n",
       "      <td>-1.395550</td>\n",
       "      <td>0.007378</td>\n",
       "    </tr>\n",
       "    <tr>\n",
       "      <th>2019-08-05</th>\n",
       "      <td>-0.251807</td>\n",
       "      <td>1.031922</td>\n",
       "    </tr>\n",
       "  </tbody>\n",
       "</table>\n",
       "</div>"
      ],
      "text/plain": [
       "                   A         C\n",
       "2019-08-02  0.784536 -0.889879\n",
       "2019-08-03 -1.395550  0.007378\n",
       "2019-08-05 -0.251807  1.031922"
      ]
     },
     "execution_count": 31,
     "metadata": {},
     "output_type": "execute_result"
    }
   ],
   "source": [
    "df.iloc[[1, 2, 4], [0, 2]] # 두 번째, 세 번째 다섯 번째 행과, 첫 번째, 세 번째 열을 선택"
   ]
  },
  {
   "cell_type": "markdown",
   "metadata": {},
   "source": [
    "명시적으로 행이나 열 선택 인자에 **:** 슬라이스를 전달하면 다음과 같이 행 또는 열 전체를 가져올 수 있다."
   ]
  },
  {
   "cell_type": "code",
   "execution_count": 32,
   "metadata": {},
   "outputs": [
    {
     "data": {
      "text/html": [
       "<div>\n",
       "<style scoped>\n",
       "    .dataframe tbody tr th:only-of-type {\n",
       "        vertical-align: middle;\n",
       "    }\n",
       "\n",
       "    .dataframe tbody tr th {\n",
       "        vertical-align: top;\n",
       "    }\n",
       "\n",
       "    .dataframe thead th {\n",
       "        text-align: right;\n",
       "    }\n",
       "</style>\n",
       "<table border=\"1\" class=\"dataframe\">\n",
       "  <thead>\n",
       "    <tr style=\"text-align: right;\">\n",
       "      <th></th>\n",
       "      <th>A</th>\n",
       "      <th>B</th>\n",
       "      <th>C</th>\n",
       "      <th>D</th>\n",
       "    </tr>\n",
       "  </thead>\n",
       "  <tbody>\n",
       "    <tr>\n",
       "      <th>2019-08-02</th>\n",
       "      <td>0.784536</td>\n",
       "      <td>0.232398</td>\n",
       "      <td>-0.889879</td>\n",
       "      <td>0.365245</td>\n",
       "    </tr>\n",
       "    <tr>\n",
       "      <th>2019-08-03</th>\n",
       "      <td>-1.395550</td>\n",
       "      <td>0.695026</td>\n",
       "      <td>0.007378</td>\n",
       "      <td>-0.174264</td>\n",
       "    </tr>\n",
       "  </tbody>\n",
       "</table>\n",
       "</div>"
      ],
      "text/plain": [
       "                   A         B         C         D\n",
       "2019-08-02  0.784536  0.232398 -0.889879  0.365245\n",
       "2019-08-03 -1.395550  0.695026  0.007378 -0.174264"
      ]
     },
     "execution_count": 32,
     "metadata": {},
     "output_type": "execute_result"
    }
   ],
   "source": [
    "df.iloc[1:3, :] # 명시적으로 행을 나눈다."
   ]
  },
  {
   "cell_type": "code",
   "execution_count": 33,
   "metadata": {},
   "outputs": [
    {
     "data": {
      "text/html": [
       "<div>\n",
       "<style scoped>\n",
       "    .dataframe tbody tr th:only-of-type {\n",
       "        vertical-align: middle;\n",
       "    }\n",
       "\n",
       "    .dataframe tbody tr th {\n",
       "        vertical-align: top;\n",
       "    }\n",
       "\n",
       "    .dataframe thead th {\n",
       "        text-align: right;\n",
       "    }\n",
       "</style>\n",
       "<table border=\"1\" class=\"dataframe\">\n",
       "  <thead>\n",
       "    <tr style=\"text-align: right;\">\n",
       "      <th></th>\n",
       "      <th>B</th>\n",
       "      <th>C</th>\n",
       "    </tr>\n",
       "  </thead>\n",
       "  <tbody>\n",
       "    <tr>\n",
       "      <th>2019-08-01</th>\n",
       "      <td>1.136318</td>\n",
       "      <td>-0.212192</td>\n",
       "    </tr>\n",
       "    <tr>\n",
       "      <th>2019-08-02</th>\n",
       "      <td>0.232398</td>\n",
       "      <td>-0.889879</td>\n",
       "    </tr>\n",
       "    <tr>\n",
       "      <th>2019-08-03</th>\n",
       "      <td>0.695026</td>\n",
       "      <td>0.007378</td>\n",
       "    </tr>\n",
       "    <tr>\n",
       "      <th>2019-08-04</th>\n",
       "      <td>0.576387</td>\n",
       "      <td>-1.072282</td>\n",
       "    </tr>\n",
       "    <tr>\n",
       "      <th>2019-08-05</th>\n",
       "      <td>-0.326359</td>\n",
       "      <td>1.031922</td>\n",
       "    </tr>\n",
       "    <tr>\n",
       "      <th>2019-08-06</th>\n",
       "      <td>-0.093671</td>\n",
       "      <td>0.397192</td>\n",
       "    </tr>\n",
       "  </tbody>\n",
       "</table>\n",
       "</div>"
      ],
      "text/plain": [
       "                   B         C\n",
       "2019-08-01  1.136318 -0.212192\n",
       "2019-08-02  0.232398 -0.889879\n",
       "2019-08-03  0.695026  0.007378\n",
       "2019-08-04  0.576387 -1.072282\n",
       "2019-08-05 -0.326359  1.031922\n",
       "2019-08-06 -0.093671  0.397192"
      ]
     },
     "execution_count": 33,
     "metadata": {},
     "output_type": "execute_result"
    }
   ],
   "source": [
    "df.iloc[:, 1:3] # 명시적으로 열을 나눈다."
   ]
  },
  {
   "cell_type": "code",
   "execution_count": 34,
   "metadata": {},
   "outputs": [
    {
     "data": {
      "text/plain": [
       "0.23239814187796456"
      ]
     },
     "execution_count": 34,
     "metadata": {},
     "output_type": "execute_result"
    }
   ],
   "source": [
    "df.iloc[1,1] # 값 하나를 선택하기 위해서는 특정 행과 열을 지정하는 방식이다."
   ]
  },
  {
   "cell_type": "code",
   "execution_count": 35,
   "metadata": {},
   "outputs": [
    {
     "data": {
      "text/plain": [
       "0.23239814187796456"
      ]
     },
     "execution_count": 35,
     "metadata": {},
     "output_type": "execute_result"
    }
   ],
   "source": [
    "df.iat[1,1] # 스칼라 값을 빠르게 얻는 방법이다. (위 코드와 동일)"
   ]
  },
  {
   "cell_type": "markdown",
   "metadata": {},
   "source": [
    "## 조건을 이용하여 선택하기 (Boolean Indexing)"
   ]
  },
  {
   "cell_type": "markdown",
   "metadata": {},
   "source": [
    "특정한 열의 값들을 기준으로 조건을 만들어 해당 조건에 만족하는 행만 선택 할 수 있다."
   ]
  },
  {
   "cell_type": "code",
   "execution_count": 36,
   "metadata": {},
   "outputs": [
    {
     "data": {
      "text/html": [
       "<div>\n",
       "<style scoped>\n",
       "    .dataframe tbody tr th:only-of-type {\n",
       "        vertical-align: middle;\n",
       "    }\n",
       "\n",
       "    .dataframe tbody tr th {\n",
       "        vertical-align: top;\n",
       "    }\n",
       "\n",
       "    .dataframe thead th {\n",
       "        text-align: right;\n",
       "    }\n",
       "</style>\n",
       "<table border=\"1\" class=\"dataframe\">\n",
       "  <thead>\n",
       "    <tr style=\"text-align: right;\">\n",
       "      <th></th>\n",
       "      <th>A</th>\n",
       "      <th>B</th>\n",
       "      <th>C</th>\n",
       "      <th>D</th>\n",
       "    </tr>\n",
       "  </thead>\n",
       "  <tbody>\n",
       "    <tr>\n",
       "      <th>2019-08-02</th>\n",
       "      <td>0.784536</td>\n",
       "      <td>0.232398</td>\n",
       "      <td>-0.889879</td>\n",
       "      <td>0.365245</td>\n",
       "    </tr>\n",
       "    <tr>\n",
       "      <th>2019-08-06</th>\n",
       "      <td>0.925067</td>\n",
       "      <td>-0.093671</td>\n",
       "      <td>0.397192</td>\n",
       "      <td>-2.134656</td>\n",
       "    </tr>\n",
       "  </tbody>\n",
       "</table>\n",
       "</div>"
      ],
      "text/plain": [
       "                   A         B         C         D\n",
       "2019-08-02  0.784536  0.232398 -0.889879  0.365245\n",
       "2019-08-06  0.925067 -0.093671  0.397192 -2.134656"
      ]
     },
     "execution_count": 36,
     "metadata": {},
     "output_type": "execute_result"
    }
   ],
   "source": [
    "df[df.A > 0] # df안에 A가 0보다 큰 것만 출력"
   ]
  },
  {
   "cell_type": "code",
   "execution_count": 37,
   "metadata": {},
   "outputs": [
    {
     "data": {
      "text/html": [
       "<div>\n",
       "<style scoped>\n",
       "    .dataframe tbody tr th:only-of-type {\n",
       "        vertical-align: middle;\n",
       "    }\n",
       "\n",
       "    .dataframe tbody tr th {\n",
       "        vertical-align: top;\n",
       "    }\n",
       "\n",
       "    .dataframe thead th {\n",
       "        text-align: right;\n",
       "    }\n",
       "</style>\n",
       "<table border=\"1\" class=\"dataframe\">\n",
       "  <thead>\n",
       "    <tr style=\"text-align: right;\">\n",
       "      <th></th>\n",
       "      <th>A</th>\n",
       "      <th>B</th>\n",
       "      <th>C</th>\n",
       "      <th>D</th>\n",
       "    </tr>\n",
       "  </thead>\n",
       "  <tbody>\n",
       "    <tr>\n",
       "      <th>2019-08-01</th>\n",
       "      <td>False</td>\n",
       "      <td>True</td>\n",
       "      <td>False</td>\n",
       "      <td>True</td>\n",
       "    </tr>\n",
       "    <tr>\n",
       "      <th>2019-08-02</th>\n",
       "      <td>True</td>\n",
       "      <td>True</td>\n",
       "      <td>False</td>\n",
       "      <td>True</td>\n",
       "    </tr>\n",
       "    <tr>\n",
       "      <th>2019-08-03</th>\n",
       "      <td>False</td>\n",
       "      <td>True</td>\n",
       "      <td>True</td>\n",
       "      <td>False</td>\n",
       "    </tr>\n",
       "    <tr>\n",
       "      <th>2019-08-04</th>\n",
       "      <td>False</td>\n",
       "      <td>True</td>\n",
       "      <td>False</td>\n",
       "      <td>True</td>\n",
       "    </tr>\n",
       "    <tr>\n",
       "      <th>2019-08-05</th>\n",
       "      <td>False</td>\n",
       "      <td>False</td>\n",
       "      <td>True</td>\n",
       "      <td>False</td>\n",
       "    </tr>\n",
       "    <tr>\n",
       "      <th>2019-08-06</th>\n",
       "      <td>True</td>\n",
       "      <td>False</td>\n",
       "      <td>True</td>\n",
       "      <td>False</td>\n",
       "    </tr>\n",
       "  </tbody>\n",
       "</table>\n",
       "</div>"
      ],
      "text/plain": [
       "                A      B      C      D\n",
       "2019-08-01  False   True  False   True\n",
       "2019-08-02   True   True  False   True\n",
       "2019-08-03  False   True   True  False\n",
       "2019-08-04  False   True  False   True\n",
       "2019-08-05  False  False   True  False\n",
       "2019-08-06   True  False   True  False"
      ]
     },
     "execution_count": 37,
     "metadata": {},
     "output_type": "execute_result"
    }
   ],
   "source": [
    "df > 0 # df가 0보다 크면 True, 반대로 0보다 작으면 False 출력"
   ]
  },
  {
   "cell_type": "code",
   "execution_count": 38,
   "metadata": {},
   "outputs": [
    {
     "data": {
      "text/html": [
       "<div>\n",
       "<style scoped>\n",
       "    .dataframe tbody tr th:only-of-type {\n",
       "        vertical-align: middle;\n",
       "    }\n",
       "\n",
       "    .dataframe tbody tr th {\n",
       "        vertical-align: top;\n",
       "    }\n",
       "\n",
       "    .dataframe thead th {\n",
       "        text-align: right;\n",
       "    }\n",
       "</style>\n",
       "<table border=\"1\" class=\"dataframe\">\n",
       "  <thead>\n",
       "    <tr style=\"text-align: right;\">\n",
       "      <th></th>\n",
       "      <th>A</th>\n",
       "      <th>B</th>\n",
       "      <th>C</th>\n",
       "      <th>D</th>\n",
       "    </tr>\n",
       "  </thead>\n",
       "  <tbody>\n",
       "    <tr>\n",
       "      <th>2019-08-01</th>\n",
       "      <td>NaN</td>\n",
       "      <td>1.136318</td>\n",
       "      <td>NaN</td>\n",
       "      <td>0.335208</td>\n",
       "    </tr>\n",
       "    <tr>\n",
       "      <th>2019-08-02</th>\n",
       "      <td>0.784536</td>\n",
       "      <td>0.232398</td>\n",
       "      <td>NaN</td>\n",
       "      <td>0.365245</td>\n",
       "    </tr>\n",
       "    <tr>\n",
       "      <th>2019-08-03</th>\n",
       "      <td>NaN</td>\n",
       "      <td>0.695026</td>\n",
       "      <td>0.007378</td>\n",
       "      <td>NaN</td>\n",
       "    </tr>\n",
       "    <tr>\n",
       "      <th>2019-08-04</th>\n",
       "      <td>NaN</td>\n",
       "      <td>0.576387</td>\n",
       "      <td>NaN</td>\n",
       "      <td>1.116366</td>\n",
       "    </tr>\n",
       "    <tr>\n",
       "      <th>2019-08-05</th>\n",
       "      <td>NaN</td>\n",
       "      <td>NaN</td>\n",
       "      <td>1.031922</td>\n",
       "      <td>NaN</td>\n",
       "    </tr>\n",
       "    <tr>\n",
       "      <th>2019-08-06</th>\n",
       "      <td>0.925067</td>\n",
       "      <td>NaN</td>\n",
       "      <td>0.397192</td>\n",
       "      <td>NaN</td>\n",
       "    </tr>\n",
       "  </tbody>\n",
       "</table>\n",
       "</div>"
      ],
      "text/plain": [
       "                   A         B         C         D\n",
       "2019-08-01       NaN  1.136318       NaN  0.335208\n",
       "2019-08-02  0.784536  0.232398       NaN  0.365245\n",
       "2019-08-03       NaN  0.695026  0.007378       NaN\n",
       "2019-08-04       NaN  0.576387       NaN  1.116366\n",
       "2019-08-05       NaN       NaN  1.031922       NaN\n",
       "2019-08-06  0.925067       NaN  0.397192       NaN"
      ]
     },
     "execution_count": 38,
     "metadata": {},
     "output_type": "execute_result"
    }
   ],
   "source": [
    "df [df > 0] # df가 0보다 클 때 출력하고, 반대로 0보다 작으면 NaN출력"
   ]
  },
  {
   "cell_type": "code",
   "execution_count": 39,
   "metadata": {},
   "outputs": [],
   "source": [
    "df2 = df.copy() # df를 복사해서 df2에 붙여넣는다."
   ]
  },
  {
   "cell_type": "code",
   "execution_count": 40,
   "metadata": {
    "scrolled": true
   },
   "outputs": [],
   "source": [
    "df2['E'] = ['one', 'one', 'two', 'two', 'three', 'three'] # E에 one, one, two, two, three, three를 넣는다."
   ]
  },
  {
   "cell_type": "code",
   "execution_count": 41,
   "metadata": {},
   "outputs": [
    {
     "data": {
      "text/html": [
       "<div>\n",
       "<style scoped>\n",
       "    .dataframe tbody tr th:only-of-type {\n",
       "        vertical-align: middle;\n",
       "    }\n",
       "\n",
       "    .dataframe tbody tr th {\n",
       "        vertical-align: top;\n",
       "    }\n",
       "\n",
       "    .dataframe thead th {\n",
       "        text-align: right;\n",
       "    }\n",
       "</style>\n",
       "<table border=\"1\" class=\"dataframe\">\n",
       "  <thead>\n",
       "    <tr style=\"text-align: right;\">\n",
       "      <th></th>\n",
       "      <th>A</th>\n",
       "      <th>B</th>\n",
       "      <th>C</th>\n",
       "      <th>D</th>\n",
       "      <th>E</th>\n",
       "    </tr>\n",
       "  </thead>\n",
       "  <tbody>\n",
       "    <tr>\n",
       "      <th>2019-08-01</th>\n",
       "      <td>-0.001821</td>\n",
       "      <td>1.136318</td>\n",
       "      <td>-0.212192</td>\n",
       "      <td>0.335208</td>\n",
       "      <td>one</td>\n",
       "    </tr>\n",
       "    <tr>\n",
       "      <th>2019-08-02</th>\n",
       "      <td>0.784536</td>\n",
       "      <td>0.232398</td>\n",
       "      <td>-0.889879</td>\n",
       "      <td>0.365245</td>\n",
       "      <td>one</td>\n",
       "    </tr>\n",
       "    <tr>\n",
       "      <th>2019-08-03</th>\n",
       "      <td>-1.395550</td>\n",
       "      <td>0.695026</td>\n",
       "      <td>0.007378</td>\n",
       "      <td>-0.174264</td>\n",
       "      <td>two</td>\n",
       "    </tr>\n",
       "    <tr>\n",
       "      <th>2019-08-04</th>\n",
       "      <td>-0.297056</td>\n",
       "      <td>0.576387</td>\n",
       "      <td>-1.072282</td>\n",
       "      <td>1.116366</td>\n",
       "      <td>two</td>\n",
       "    </tr>\n",
       "    <tr>\n",
       "      <th>2019-08-05</th>\n",
       "      <td>-0.251807</td>\n",
       "      <td>-0.326359</td>\n",
       "      <td>1.031922</td>\n",
       "      <td>-0.943760</td>\n",
       "      <td>three</td>\n",
       "    </tr>\n",
       "    <tr>\n",
       "      <th>2019-08-06</th>\n",
       "      <td>0.925067</td>\n",
       "      <td>-0.093671</td>\n",
       "      <td>0.397192</td>\n",
       "      <td>-2.134656</td>\n",
       "      <td>three</td>\n",
       "    </tr>\n",
       "  </tbody>\n",
       "</table>\n",
       "</div>"
      ],
      "text/plain": [
       "                   A         B         C         D      E\n",
       "2019-08-01 -0.001821  1.136318 -0.212192  0.335208    one\n",
       "2019-08-02  0.784536  0.232398 -0.889879  0.365245    one\n",
       "2019-08-03 -1.395550  0.695026  0.007378 -0.174264    two\n",
       "2019-08-04 -0.297056  0.576387 -1.072282  1.116366    two\n",
       "2019-08-05 -0.251807 -0.326359  1.031922 -0.943760  three\n",
       "2019-08-06  0.925067 -0.093671  0.397192 -2.134656  three"
      ]
     },
     "execution_count": 41,
     "metadata": {},
     "output_type": "execute_result"
    }
   ],
   "source": [
    "df2 # 출력"
   ]
  },
  {
   "cell_type": "markdown",
   "metadata": {},
   "source": [
    "필터링을 해야 하는 경우에는 **.isin()** 이라는 메소드도 있다. 아래와 같이 새로운 열 하나를 추가한 후 추가된 열에 들어있는 값 기준으로 행을 선택가능"
   ]
  },
  {
   "cell_type": "code",
   "execution_count": 42,
   "metadata": {},
   "outputs": [
    {
     "data": {
      "text/html": [
       "<div>\n",
       "<style scoped>\n",
       "    .dataframe tbody tr th:only-of-type {\n",
       "        vertical-align: middle;\n",
       "    }\n",
       "\n",
       "    .dataframe tbody tr th {\n",
       "        vertical-align: top;\n",
       "    }\n",
       "\n",
       "    .dataframe thead th {\n",
       "        text-align: right;\n",
       "    }\n",
       "</style>\n",
       "<table border=\"1\" class=\"dataframe\">\n",
       "  <thead>\n",
       "    <tr style=\"text-align: right;\">\n",
       "      <th></th>\n",
       "      <th>A</th>\n",
       "      <th>B</th>\n",
       "      <th>C</th>\n",
       "      <th>D</th>\n",
       "      <th>E</th>\n",
       "    </tr>\n",
       "  </thead>\n",
       "  <tbody>\n",
       "    <tr>\n",
       "      <th>2019-08-03</th>\n",
       "      <td>-1.395550</td>\n",
       "      <td>0.695026</td>\n",
       "      <td>0.007378</td>\n",
       "      <td>-0.174264</td>\n",
       "      <td>two</td>\n",
       "    </tr>\n",
       "    <tr>\n",
       "      <th>2019-08-04</th>\n",
       "      <td>-0.297056</td>\n",
       "      <td>0.576387</td>\n",
       "      <td>-1.072282</td>\n",
       "      <td>1.116366</td>\n",
       "      <td>two</td>\n",
       "    </tr>\n",
       "    <tr>\n",
       "      <th>2019-08-05</th>\n",
       "      <td>-0.251807</td>\n",
       "      <td>-0.326359</td>\n",
       "      <td>1.031922</td>\n",
       "      <td>-0.943760</td>\n",
       "      <td>three</td>\n",
       "    </tr>\n",
       "    <tr>\n",
       "      <th>2019-08-06</th>\n",
       "      <td>0.925067</td>\n",
       "      <td>-0.093671</td>\n",
       "      <td>0.397192</td>\n",
       "      <td>-2.134656</td>\n",
       "      <td>three</td>\n",
       "    </tr>\n",
       "  </tbody>\n",
       "</table>\n",
       "</div>"
      ],
      "text/plain": [
       "                   A         B         C         D      E\n",
       "2019-08-03 -1.395550  0.695026  0.007378 -0.174264    two\n",
       "2019-08-04 -0.297056  0.576387 -1.072282  1.116366    two\n",
       "2019-08-05 -0.251807 -0.326359  1.031922 -0.943760  three\n",
       "2019-08-06  0.925067 -0.093671  0.397192 -2.134656  three"
      ]
     },
     "execution_count": 42,
     "metadata": {},
     "output_type": "execute_result"
    }
   ],
   "source": [
    "df2[df2[\"E\"].isin([\"two\", \"three\"])] # df2안에 E가 two, three인 것만 출력"
   ]
  },
  {
   "cell_type": "markdown",
   "metadata": {},
   "source": [
    "## 데이터 변경하기(설정)"
   ]
  },
  {
   "cell_type": "markdown",
   "metadata": {},
   "source": [
    "데이터 프레임의 특정 값을 다른 값으로 변경이 가능하다"
   ]
  },
  {
   "cell_type": "code",
   "execution_count": 43,
   "metadata": {},
   "outputs": [],
   "source": [
    "s1 = pd.Series([1, 2, 3, 4, 5, 6], index = pd.date_range(\"20190803\", periods = 6)) # 2019-08-03을 기준으로 1~6까지 대입"
   ]
  },
  {
   "cell_type": "markdown",
   "metadata": {},
   "source": [
    "위 코드와 같이 새로운 열을 추가하고 싶을 때에는 인덱스를 가진 시리즈 하나를 데이터 프레임의 열 하나를 지정하여 넣어준다."
   ]
  },
  {
   "cell_type": "code",
   "execution_count": 44,
   "metadata": {},
   "outputs": [
    {
     "data": {
      "text/plain": [
       "2019-08-03    1\n",
       "2019-08-04    2\n",
       "2019-08-05    3\n",
       "2019-08-06    4\n",
       "2019-08-07    5\n",
       "2019-08-08    6\n",
       "Freq: D, dtype: int64"
      ]
     },
     "execution_count": 44,
     "metadata": {},
     "output_type": "execute_result"
    }
   ],
   "source": [
    "s1 # 출력"
   ]
  },
  {
   "cell_type": "code",
   "execution_count": 45,
   "metadata": {},
   "outputs": [],
   "source": [
    "df[\"F\"] = s1 # df에 \"F\"를 새로 추가하고 2019-08-03을 기준으로 s1을 대입"
   ]
  },
  {
   "cell_type": "code",
   "execution_count": 46,
   "metadata": {},
   "outputs": [
    {
     "data": {
      "text/html": [
       "<div>\n",
       "<style scoped>\n",
       "    .dataframe tbody tr th:only-of-type {\n",
       "        vertical-align: middle;\n",
       "    }\n",
       "\n",
       "    .dataframe tbody tr th {\n",
       "        vertical-align: top;\n",
       "    }\n",
       "\n",
       "    .dataframe thead th {\n",
       "        text-align: right;\n",
       "    }\n",
       "</style>\n",
       "<table border=\"1\" class=\"dataframe\">\n",
       "  <thead>\n",
       "    <tr style=\"text-align: right;\">\n",
       "      <th></th>\n",
       "      <th>A</th>\n",
       "      <th>B</th>\n",
       "      <th>C</th>\n",
       "      <th>D</th>\n",
       "      <th>F</th>\n",
       "    </tr>\n",
       "  </thead>\n",
       "  <tbody>\n",
       "    <tr>\n",
       "      <th>2019-08-01</th>\n",
       "      <td>-0.001821</td>\n",
       "      <td>1.136318</td>\n",
       "      <td>-0.212192</td>\n",
       "      <td>0.335208</td>\n",
       "      <td>NaN</td>\n",
       "    </tr>\n",
       "    <tr>\n",
       "      <th>2019-08-02</th>\n",
       "      <td>0.784536</td>\n",
       "      <td>0.232398</td>\n",
       "      <td>-0.889879</td>\n",
       "      <td>0.365245</td>\n",
       "      <td>NaN</td>\n",
       "    </tr>\n",
       "    <tr>\n",
       "      <th>2019-08-03</th>\n",
       "      <td>-1.395550</td>\n",
       "      <td>0.695026</td>\n",
       "      <td>0.007378</td>\n",
       "      <td>-0.174264</td>\n",
       "      <td>1.0</td>\n",
       "    </tr>\n",
       "    <tr>\n",
       "      <th>2019-08-04</th>\n",
       "      <td>-0.297056</td>\n",
       "      <td>0.576387</td>\n",
       "      <td>-1.072282</td>\n",
       "      <td>1.116366</td>\n",
       "      <td>2.0</td>\n",
       "    </tr>\n",
       "    <tr>\n",
       "      <th>2019-08-05</th>\n",
       "      <td>-0.251807</td>\n",
       "      <td>-0.326359</td>\n",
       "      <td>1.031922</td>\n",
       "      <td>-0.943760</td>\n",
       "      <td>3.0</td>\n",
       "    </tr>\n",
       "    <tr>\n",
       "      <th>2019-08-06</th>\n",
       "      <td>0.925067</td>\n",
       "      <td>-0.093671</td>\n",
       "      <td>0.397192</td>\n",
       "      <td>-2.134656</td>\n",
       "      <td>4.0</td>\n",
       "    </tr>\n",
       "  </tbody>\n",
       "</table>\n",
       "</div>"
      ],
      "text/plain": [
       "                   A         B         C         D    F\n",
       "2019-08-01 -0.001821  1.136318 -0.212192  0.335208  NaN\n",
       "2019-08-02  0.784536  0.232398 -0.889879  0.365245  NaN\n",
       "2019-08-03 -1.395550  0.695026  0.007378 -0.174264  1.0\n",
       "2019-08-04 -0.297056  0.576387 -1.072282  1.116366  2.0\n",
       "2019-08-05 -0.251807 -0.326359  1.031922 -0.943760  3.0\n",
       "2019-08-06  0.925067 -0.093671  0.397192 -2.134656  4.0"
      ]
     },
     "execution_count": 46,
     "metadata": {},
     "output_type": "execute_result"
    }
   ],
   "source": [
    "df"
   ]
  },
  {
   "cell_type": "code",
   "execution_count": 47,
   "metadata": {},
   "outputs": [],
   "source": [
    "df.at[date[0], \"A\"] = 0 # 특정 값 하나를 선택해서 다른 값으로 변경"
   ]
  },
  {
   "cell_type": "code",
   "execution_count": 48,
   "metadata": {},
   "outputs": [],
   "source": [
    "df.iat[0,1] = 0 # 위치(인덱스 번호)를 이용해서 변경"
   ]
  },
  {
   "cell_type": "code",
   "execution_count": 49,
   "metadata": {},
   "outputs": [],
   "source": [
    "df.loc[:, \"D\"] = np.array([5] * len(df)) # 여러 값을 한꺼번에 바꾸고 싶을 때는 데이터의 크기만 잘 맞춰주면 된다. numpy의 array를 이용한 방법이다."
   ]
  },
  {
   "cell_type": "code",
   "execution_count": 50,
   "metadata": {},
   "outputs": [
    {
     "data": {
      "text/html": [
       "<div>\n",
       "<style scoped>\n",
       "    .dataframe tbody tr th:only-of-type {\n",
       "        vertical-align: middle;\n",
       "    }\n",
       "\n",
       "    .dataframe tbody tr th {\n",
       "        vertical-align: top;\n",
       "    }\n",
       "\n",
       "    .dataframe thead th {\n",
       "        text-align: right;\n",
       "    }\n",
       "</style>\n",
       "<table border=\"1\" class=\"dataframe\">\n",
       "  <thead>\n",
       "    <tr style=\"text-align: right;\">\n",
       "      <th></th>\n",
       "      <th>A</th>\n",
       "      <th>B</th>\n",
       "      <th>C</th>\n",
       "      <th>D</th>\n",
       "      <th>F</th>\n",
       "    </tr>\n",
       "  </thead>\n",
       "  <tbody>\n",
       "    <tr>\n",
       "      <th>2019-08-01</th>\n",
       "      <td>0.000000</td>\n",
       "      <td>0.000000</td>\n",
       "      <td>-0.212192</td>\n",
       "      <td>5</td>\n",
       "      <td>NaN</td>\n",
       "    </tr>\n",
       "    <tr>\n",
       "      <th>2019-08-02</th>\n",
       "      <td>0.784536</td>\n",
       "      <td>0.232398</td>\n",
       "      <td>-0.889879</td>\n",
       "      <td>5</td>\n",
       "      <td>NaN</td>\n",
       "    </tr>\n",
       "    <tr>\n",
       "      <th>2019-08-03</th>\n",
       "      <td>-1.395550</td>\n",
       "      <td>0.695026</td>\n",
       "      <td>0.007378</td>\n",
       "      <td>5</td>\n",
       "      <td>1.0</td>\n",
       "    </tr>\n",
       "    <tr>\n",
       "      <th>2019-08-04</th>\n",
       "      <td>-0.297056</td>\n",
       "      <td>0.576387</td>\n",
       "      <td>-1.072282</td>\n",
       "      <td>5</td>\n",
       "      <td>2.0</td>\n",
       "    </tr>\n",
       "    <tr>\n",
       "      <th>2019-08-05</th>\n",
       "      <td>-0.251807</td>\n",
       "      <td>-0.326359</td>\n",
       "      <td>1.031922</td>\n",
       "      <td>5</td>\n",
       "      <td>3.0</td>\n",
       "    </tr>\n",
       "    <tr>\n",
       "      <th>2019-08-06</th>\n",
       "      <td>0.925067</td>\n",
       "      <td>-0.093671</td>\n",
       "      <td>0.397192</td>\n",
       "      <td>5</td>\n",
       "      <td>4.0</td>\n",
       "    </tr>\n",
       "  </tbody>\n",
       "</table>\n",
       "</div>"
      ],
      "text/plain": [
       "                   A         B         C  D    F\n",
       "2019-08-01  0.000000  0.000000 -0.212192  5  NaN\n",
       "2019-08-02  0.784536  0.232398 -0.889879  5  NaN\n",
       "2019-08-03 -1.395550  0.695026  0.007378  5  1.0\n",
       "2019-08-04 -0.297056  0.576387 -1.072282  5  2.0\n",
       "2019-08-05 -0.251807 -0.326359  1.031922  5  3.0\n",
       "2019-08-06  0.925067 -0.093671  0.397192  5  4.0"
      ]
     },
     "execution_count": 50,
     "metadata": {},
     "output_type": "execute_result"
    }
   ],
   "source": [
    "df # Series에 존재하지 않는 인덱스의 값은 NaN으로 채워진다."
   ]
  },
  {
   "cell_type": "code",
   "execution_count": 51,
   "metadata": {},
   "outputs": [],
   "source": [
    "df2 = df.copy() # df를 복사해서 df2에 붙여넣기\n",
    "\n",
    "df2[df2 >0] = -df2 # df2가 0보다 큰 것만 뽑아내는 대신에 -df2니까 반대로 작은 것만 출력한다."
   ]
  },
  {
   "cell_type": "code",
   "execution_count": 52,
   "metadata": {},
   "outputs": [
    {
     "data": {
      "text/html": [
       "<div>\n",
       "<style scoped>\n",
       "    .dataframe tbody tr th:only-of-type {\n",
       "        vertical-align: middle;\n",
       "    }\n",
       "\n",
       "    .dataframe tbody tr th {\n",
       "        vertical-align: top;\n",
       "    }\n",
       "\n",
       "    .dataframe thead th {\n",
       "        text-align: right;\n",
       "    }\n",
       "</style>\n",
       "<table border=\"1\" class=\"dataframe\">\n",
       "  <thead>\n",
       "    <tr style=\"text-align: right;\">\n",
       "      <th></th>\n",
       "      <th>A</th>\n",
       "      <th>B</th>\n",
       "      <th>C</th>\n",
       "      <th>D</th>\n",
       "      <th>F</th>\n",
       "    </tr>\n",
       "  </thead>\n",
       "  <tbody>\n",
       "    <tr>\n",
       "      <th>2019-08-01</th>\n",
       "      <td>0.000000</td>\n",
       "      <td>0.000000</td>\n",
       "      <td>-0.212192</td>\n",
       "      <td>-5</td>\n",
       "      <td>NaN</td>\n",
       "    </tr>\n",
       "    <tr>\n",
       "      <th>2019-08-02</th>\n",
       "      <td>-0.784536</td>\n",
       "      <td>-0.232398</td>\n",
       "      <td>-0.889879</td>\n",
       "      <td>-5</td>\n",
       "      <td>NaN</td>\n",
       "    </tr>\n",
       "    <tr>\n",
       "      <th>2019-08-03</th>\n",
       "      <td>-1.395550</td>\n",
       "      <td>-0.695026</td>\n",
       "      <td>-0.007378</td>\n",
       "      <td>-5</td>\n",
       "      <td>-1.0</td>\n",
       "    </tr>\n",
       "    <tr>\n",
       "      <th>2019-08-04</th>\n",
       "      <td>-0.297056</td>\n",
       "      <td>-0.576387</td>\n",
       "      <td>-1.072282</td>\n",
       "      <td>-5</td>\n",
       "      <td>-2.0</td>\n",
       "    </tr>\n",
       "    <tr>\n",
       "      <th>2019-08-05</th>\n",
       "      <td>-0.251807</td>\n",
       "      <td>-0.326359</td>\n",
       "      <td>-1.031922</td>\n",
       "      <td>-5</td>\n",
       "      <td>-3.0</td>\n",
       "    </tr>\n",
       "    <tr>\n",
       "      <th>2019-08-06</th>\n",
       "      <td>-0.925067</td>\n",
       "      <td>-0.093671</td>\n",
       "      <td>-0.397192</td>\n",
       "      <td>-5</td>\n",
       "      <td>-4.0</td>\n",
       "    </tr>\n",
       "  </tbody>\n",
       "</table>\n",
       "</div>"
      ],
      "text/plain": [
       "                   A         B         C  D    F\n",
       "2019-08-01  0.000000  0.000000 -0.212192 -5  NaN\n",
       "2019-08-02 -0.784536 -0.232398 -0.889879 -5  NaN\n",
       "2019-08-03 -1.395550 -0.695026 -0.007378 -5 -1.0\n",
       "2019-08-04 -0.297056 -0.576387 -1.072282 -5 -2.0\n",
       "2019-08-05 -0.251807 -0.326359 -1.031922 -5 -3.0\n",
       "2019-08-06 -0.925067 -0.093671 -0.397192 -5 -4.0"
      ]
     },
     "execution_count": 52,
     "metadata": {},
     "output_type": "execute_result"
    }
   ],
   "source": [
    "df2"
   ]
  },
  {
   "cell_type": "markdown",
   "metadata": {},
   "source": [
    "## 4. Missing Data (결측치)"
   ]
  },
  {
   "cell_type": "markdown",
   "metadata": {},
   "source": [
    "Pandas는 결측치를 표현하기 위해서 **np.nan** 값을 사용한다. 이 방법은 디폴트지만 **연산에서 제외한다.**"
   ]
  },
  {
   "cell_type": "markdown",
   "metadata": {},
   "source": [
    "**reindex** 으로 지정된 축 상의 인덱스를 **변경** / **추가** / **삭제** 를 할 수 있다. **reindex 는 데이터의 복사본을 반환한다.**"
   ]
  },
  {
   "cell_type": "code",
   "execution_count": 53,
   "metadata": {},
   "outputs": [],
   "source": [
    "df1 = df.reindex(index = date[0:4], columns = list(df.columns) + [\"E\"])\n",
    "df1.loc[date[0]:date[1], \"E\"] = 1"
   ]
  },
  {
   "cell_type": "code",
   "execution_count": 54,
   "metadata": {
    "scrolled": true
   },
   "outputs": [
    {
     "data": {
      "text/html": [
       "<div>\n",
       "<style scoped>\n",
       "    .dataframe tbody tr th:only-of-type {\n",
       "        vertical-align: middle;\n",
       "    }\n",
       "\n",
       "    .dataframe tbody tr th {\n",
       "        vertical-align: top;\n",
       "    }\n",
       "\n",
       "    .dataframe thead th {\n",
       "        text-align: right;\n",
       "    }\n",
       "</style>\n",
       "<table border=\"1\" class=\"dataframe\">\n",
       "  <thead>\n",
       "    <tr style=\"text-align: right;\">\n",
       "      <th></th>\n",
       "      <th>A</th>\n",
       "      <th>B</th>\n",
       "      <th>C</th>\n",
       "      <th>D</th>\n",
       "      <th>F</th>\n",
       "      <th>E</th>\n",
       "    </tr>\n",
       "  </thead>\n",
       "  <tbody>\n",
       "    <tr>\n",
       "      <th>2019-08-01</th>\n",
       "      <td>0.000000</td>\n",
       "      <td>0.000000</td>\n",
       "      <td>-0.212192</td>\n",
       "      <td>5</td>\n",
       "      <td>NaN</td>\n",
       "      <td>1.0</td>\n",
       "    </tr>\n",
       "    <tr>\n",
       "      <th>2019-08-02</th>\n",
       "      <td>0.784536</td>\n",
       "      <td>0.232398</td>\n",
       "      <td>-0.889879</td>\n",
       "      <td>5</td>\n",
       "      <td>NaN</td>\n",
       "      <td>1.0</td>\n",
       "    </tr>\n",
       "    <tr>\n",
       "      <th>2019-08-03</th>\n",
       "      <td>-1.395550</td>\n",
       "      <td>0.695026</td>\n",
       "      <td>0.007378</td>\n",
       "      <td>5</td>\n",
       "      <td>1.0</td>\n",
       "      <td>NaN</td>\n",
       "    </tr>\n",
       "    <tr>\n",
       "      <th>2019-08-04</th>\n",
       "      <td>-0.297056</td>\n",
       "      <td>0.576387</td>\n",
       "      <td>-1.072282</td>\n",
       "      <td>5</td>\n",
       "      <td>2.0</td>\n",
       "      <td>NaN</td>\n",
       "    </tr>\n",
       "  </tbody>\n",
       "</table>\n",
       "</div>"
      ],
      "text/plain": [
       "                   A         B         C  D    F    E\n",
       "2019-08-01  0.000000  0.000000 -0.212192  5  NaN  1.0\n",
       "2019-08-02  0.784536  0.232398 -0.889879  5  NaN  1.0\n",
       "2019-08-03 -1.395550  0.695026  0.007378  5  1.0  NaN\n",
       "2019-08-04 -0.297056  0.576387 -1.072282  5  2.0  NaN"
      ]
     },
     "execution_count": 54,
     "metadata": {},
     "output_type": "execute_result"
    }
   ],
   "source": [
    "df1"
   ]
  },
  {
   "cell_type": "markdown",
   "metadata": {},
   "source": [
    "결측치가 하나라도 존재하는 행들을 버리고 싶을 때는 **dropna()** 메소드를 이용한다."
   ]
  },
  {
   "cell_type": "code",
   "execution_count": 55,
   "metadata": {},
   "outputs": [
    {
     "data": {
      "text/html": [
       "<div>\n",
       "<style scoped>\n",
       "    .dataframe tbody tr th:only-of-type {\n",
       "        vertical-align: middle;\n",
       "    }\n",
       "\n",
       "    .dataframe tbody tr th {\n",
       "        vertical-align: top;\n",
       "    }\n",
       "\n",
       "    .dataframe thead th {\n",
       "        text-align: right;\n",
       "    }\n",
       "</style>\n",
       "<table border=\"1\" class=\"dataframe\">\n",
       "  <thead>\n",
       "    <tr style=\"text-align: right;\">\n",
       "      <th></th>\n",
       "      <th>A</th>\n",
       "      <th>B</th>\n",
       "      <th>C</th>\n",
       "      <th>D</th>\n",
       "      <th>F</th>\n",
       "    </tr>\n",
       "  </thead>\n",
       "  <tbody>\n",
       "    <tr>\n",
       "      <th>2019-08-03</th>\n",
       "      <td>-1.395550</td>\n",
       "      <td>0.695026</td>\n",
       "      <td>0.007378</td>\n",
       "      <td>5</td>\n",
       "      <td>1.0</td>\n",
       "    </tr>\n",
       "    <tr>\n",
       "      <th>2019-08-04</th>\n",
       "      <td>-0.297056</td>\n",
       "      <td>0.576387</td>\n",
       "      <td>-1.072282</td>\n",
       "      <td>5</td>\n",
       "      <td>2.0</td>\n",
       "    </tr>\n",
       "    <tr>\n",
       "      <th>2019-08-05</th>\n",
       "      <td>-0.251807</td>\n",
       "      <td>-0.326359</td>\n",
       "      <td>1.031922</td>\n",
       "      <td>5</td>\n",
       "      <td>3.0</td>\n",
       "    </tr>\n",
       "    <tr>\n",
       "      <th>2019-08-06</th>\n",
       "      <td>0.925067</td>\n",
       "      <td>-0.093671</td>\n",
       "      <td>0.397192</td>\n",
       "      <td>5</td>\n",
       "      <td>4.0</td>\n",
       "    </tr>\n",
       "  </tbody>\n",
       "</table>\n",
       "</div>"
      ],
      "text/plain": [
       "                   A         B         C  D    F\n",
       "2019-08-03 -1.395550  0.695026  0.007378  5  1.0\n",
       "2019-08-04 -0.297056  0.576387 -1.072282  5  2.0\n",
       "2019-08-05 -0.251807 -0.326359  1.031922  5  3.0\n",
       "2019-08-06  0.925067 -0.093671  0.397192  5  4.0"
      ]
     },
     "execution_count": 55,
     "metadata": {},
     "output_type": "execute_result"
    }
   ],
   "source": [
    "df.dropna() # NaN이 하나라도 들어간 행은 다 지운다."
   ]
  },
  {
   "cell_type": "markdown",
   "metadata": {},
   "source": [
    "결측치가 있는 부분을 다른 값으로 채우고 싶다면 **fillna()** 메소드를 이용한다."
   ]
  },
  {
   "cell_type": "code",
   "execution_count": 56,
   "metadata": {},
   "outputs": [
    {
     "data": {
      "text/html": [
       "<div>\n",
       "<style scoped>\n",
       "    .dataframe tbody tr th:only-of-type {\n",
       "        vertical-align: middle;\n",
       "    }\n",
       "\n",
       "    .dataframe tbody tr th {\n",
       "        vertical-align: top;\n",
       "    }\n",
       "\n",
       "    .dataframe thead th {\n",
       "        text-align: right;\n",
       "    }\n",
       "</style>\n",
       "<table border=\"1\" class=\"dataframe\">\n",
       "  <thead>\n",
       "    <tr style=\"text-align: right;\">\n",
       "      <th></th>\n",
       "      <th>A</th>\n",
       "      <th>B</th>\n",
       "      <th>C</th>\n",
       "      <th>D</th>\n",
       "      <th>F</th>\n",
       "      <th>E</th>\n",
       "    </tr>\n",
       "  </thead>\n",
       "  <tbody>\n",
       "    <tr>\n",
       "      <th>2019-08-01</th>\n",
       "      <td>0.000000</td>\n",
       "      <td>0.000000</td>\n",
       "      <td>-0.212192</td>\n",
       "      <td>5</td>\n",
       "      <td>5.0</td>\n",
       "      <td>1.0</td>\n",
       "    </tr>\n",
       "    <tr>\n",
       "      <th>2019-08-02</th>\n",
       "      <td>0.784536</td>\n",
       "      <td>0.232398</td>\n",
       "      <td>-0.889879</td>\n",
       "      <td>5</td>\n",
       "      <td>5.0</td>\n",
       "      <td>1.0</td>\n",
       "    </tr>\n",
       "    <tr>\n",
       "      <th>2019-08-03</th>\n",
       "      <td>-1.395550</td>\n",
       "      <td>0.695026</td>\n",
       "      <td>0.007378</td>\n",
       "      <td>5</td>\n",
       "      <td>1.0</td>\n",
       "      <td>5.0</td>\n",
       "    </tr>\n",
       "    <tr>\n",
       "      <th>2019-08-04</th>\n",
       "      <td>-0.297056</td>\n",
       "      <td>0.576387</td>\n",
       "      <td>-1.072282</td>\n",
       "      <td>5</td>\n",
       "      <td>2.0</td>\n",
       "      <td>5.0</td>\n",
       "    </tr>\n",
       "  </tbody>\n",
       "</table>\n",
       "</div>"
      ],
      "text/plain": [
       "                   A         B         C  D    F    E\n",
       "2019-08-01  0.000000  0.000000 -0.212192  5  5.0  1.0\n",
       "2019-08-02  0.784536  0.232398 -0.889879  5  5.0  1.0\n",
       "2019-08-03 -1.395550  0.695026  0.007378  5  1.0  5.0\n",
       "2019-08-04 -0.297056  0.576387 -1.072282  5  2.0  5.0"
      ]
     },
     "execution_count": 56,
     "metadata": {},
     "output_type": "execute_result"
    }
   ],
   "source": [
    "df1.fillna(value = 5) # 결측치가 있는 값을 모두 5로 채운다."
   ]
  },
  {
   "cell_type": "markdown",
   "metadata": {},
   "source": [
    "해당 값이 결측치인지 아닌지 여부를 알고싶다면 **isna()** 메소드를 이용한다."
   ]
  },
  {
   "cell_type": "code",
   "execution_count": 57,
   "metadata": {},
   "outputs": [
    {
     "data": {
      "text/html": [
       "<div>\n",
       "<style scoped>\n",
       "    .dataframe tbody tr th:only-of-type {\n",
       "        vertical-align: middle;\n",
       "    }\n",
       "\n",
       "    .dataframe tbody tr th {\n",
       "        vertical-align: top;\n",
       "    }\n",
       "\n",
       "    .dataframe thead th {\n",
       "        text-align: right;\n",
       "    }\n",
       "</style>\n",
       "<table border=\"1\" class=\"dataframe\">\n",
       "  <thead>\n",
       "    <tr style=\"text-align: right;\">\n",
       "      <th></th>\n",
       "      <th>A</th>\n",
       "      <th>B</th>\n",
       "      <th>C</th>\n",
       "      <th>D</th>\n",
       "      <th>F</th>\n",
       "      <th>E</th>\n",
       "    </tr>\n",
       "  </thead>\n",
       "  <tbody>\n",
       "    <tr>\n",
       "      <th>2019-08-01</th>\n",
       "      <td>False</td>\n",
       "      <td>False</td>\n",
       "      <td>False</td>\n",
       "      <td>False</td>\n",
       "      <td>True</td>\n",
       "      <td>False</td>\n",
       "    </tr>\n",
       "    <tr>\n",
       "      <th>2019-08-02</th>\n",
       "      <td>False</td>\n",
       "      <td>False</td>\n",
       "      <td>False</td>\n",
       "      <td>False</td>\n",
       "      <td>True</td>\n",
       "      <td>False</td>\n",
       "    </tr>\n",
       "    <tr>\n",
       "      <th>2019-08-03</th>\n",
       "      <td>False</td>\n",
       "      <td>False</td>\n",
       "      <td>False</td>\n",
       "      <td>False</td>\n",
       "      <td>False</td>\n",
       "      <td>True</td>\n",
       "    </tr>\n",
       "    <tr>\n",
       "      <th>2019-08-04</th>\n",
       "      <td>False</td>\n",
       "      <td>False</td>\n",
       "      <td>False</td>\n",
       "      <td>False</td>\n",
       "      <td>False</td>\n",
       "      <td>True</td>\n",
       "    </tr>\n",
       "  </tbody>\n",
       "</table>\n",
       "</div>"
      ],
      "text/plain": [
       "                A      B      C      D      F      E\n",
       "2019-08-01  False  False  False  False   True  False\n",
       "2019-08-02  False  False  False  False   True  False\n",
       "2019-08-03  False  False  False  False  False   True\n",
       "2019-08-04  False  False  False  False  False   True"
      ]
     },
     "execution_count": 57,
     "metadata": {},
     "output_type": "execute_result"
    }
   ],
   "source": [
    "pd.isna(df1) # 결측치이면 True, 반대로 값이 있다면 False로 나타낸다."
   ]
  },
  {
   "cell_type": "markdown",
   "metadata": {},
   "source": [
    "## 5.연산 (Operations)\n",
    "\n",
    "일반적으로 연산은 결측치를 제외한 후 연산된다."
   ]
  },
  {
   "cell_type": "markdown",
   "metadata": {},
   "source": [
    "## 통계 (Stats)"
   ]
  },
  {
   "cell_type": "code",
   "execution_count": 58,
   "metadata": {},
   "outputs": [
    {
     "data": {
      "text/plain": [
       "A   -0.039135\n",
       "B    0.180630\n",
       "C   -0.122977\n",
       "D    5.000000\n",
       "F    2.500000\n",
       "dtype: float64"
      ]
     },
     "execution_count": 58,
     "metadata": {},
     "output_type": "execute_result"
    }
   ],
   "source": [
    "df.mean() # 평균 구하기. "
   ]
  },
  {
   "cell_type": "markdown",
   "metadata": {},
   "source": [
    "아래의 코드에서 **mean()** 함수의 인자로 1을 주게 되면 **컬럼이 아닌 인덱스를 기준으로 연산을 한다.**"
   ]
  },
  {
   "cell_type": "code",
   "execution_count": 59,
   "metadata": {},
   "outputs": [
    {
     "data": {
      "text/plain": [
       "2019-08-01    1.196952\n",
       "2019-08-02    1.281764\n",
       "2019-08-03    1.061371\n",
       "2019-08-04    1.241410\n",
       "2019-08-05    1.690751\n",
       "2019-08-06    2.045718\n",
       "Freq: D, dtype: float64"
      ]
     },
     "execution_count": 59,
     "metadata": {},
     "output_type": "execute_result"
    }
   ],
   "source": [
    "df.mean(1)"
   ]
  },
  {
   "cell_type": "markdown",
   "metadata": {},
   "source": [
    "아래에 코드에서 **shif** 란? **shif 연산을 사용하면 인덱스는 그대로 두고 데이터만 이동할 수 있다**"
   ]
  },
  {
   "cell_type": "code",
   "execution_count": 60,
   "metadata": {},
   "outputs": [],
   "source": [
    "s = pd.Series([1, 2, 3, np.nan, 4, 5], index = date).shift(2) # 기존 데이터 프레임의 인덱스가 2019-08-03, 04, 05 인 컬럼에 1.0, 2.0, 3.0를 빼준 값이 결과로 나온다. \n",
    "# 또한 결측치가 존재하는 경우에는 계산이 불가능 하므로 NaN 으로 표시된가는 것도 알 수 있다."
   ]
  },
  {
   "cell_type": "code",
   "execution_count": 61,
   "metadata": {},
   "outputs": [
    {
     "data": {
      "text/plain": [
       "2019-08-01    NaN\n",
       "2019-08-02    NaN\n",
       "2019-08-03    1.0\n",
       "2019-08-04    2.0\n",
       "2019-08-05    3.0\n",
       "2019-08-06    NaN\n",
       "Freq: D, dtype: float64"
      ]
     },
     "execution_count": 61,
     "metadata": {},
     "output_type": "execute_result"
    }
   ],
   "source": [
    "s # 출력"
   ]
  },
  {
   "cell_type": "markdown",
   "metadata": {},
   "source": [
    "# 함수 적용 (Apply)\n",
    "\n",
    "**데이터프레임에 함수를 적용할 수 있다. 기존에 존재하는 함수를 사용하거나 사용자가 정의한 람다 함수를 사용할 수도 있다.**"
   ]
  },
  {
   "cell_type": "markdown",
   "metadata": {},
   "source": [
    "**cumsum** 함수는 배열에서 주어진 축에 따라 누적되는 원소들의 누적 합을 계산하는 함수이다."
   ]
  },
  {
   "cell_type": "code",
   "execution_count": 62,
   "metadata": {},
   "outputs": [
    {
     "data": {
      "text/html": [
       "<div>\n",
       "<style scoped>\n",
       "    .dataframe tbody tr th:only-of-type {\n",
       "        vertical-align: middle;\n",
       "    }\n",
       "\n",
       "    .dataframe tbody tr th {\n",
       "        vertical-align: top;\n",
       "    }\n",
       "\n",
       "    .dataframe thead th {\n",
       "        text-align: right;\n",
       "    }\n",
       "</style>\n",
       "<table border=\"1\" class=\"dataframe\">\n",
       "  <thead>\n",
       "    <tr style=\"text-align: right;\">\n",
       "      <th></th>\n",
       "      <th>A</th>\n",
       "      <th>B</th>\n",
       "      <th>C</th>\n",
       "      <th>D</th>\n",
       "      <th>F</th>\n",
       "    </tr>\n",
       "  </thead>\n",
       "  <tbody>\n",
       "    <tr>\n",
       "      <th>2019-08-01</th>\n",
       "      <td>0.000000</td>\n",
       "      <td>0.000000</td>\n",
       "      <td>-0.212192</td>\n",
       "      <td>5</td>\n",
       "      <td>NaN</td>\n",
       "    </tr>\n",
       "    <tr>\n",
       "      <th>2019-08-02</th>\n",
       "      <td>0.784536</td>\n",
       "      <td>0.232398</td>\n",
       "      <td>-1.102071</td>\n",
       "      <td>10</td>\n",
       "      <td>NaN</td>\n",
       "    </tr>\n",
       "    <tr>\n",
       "      <th>2019-08-03</th>\n",
       "      <td>-0.611014</td>\n",
       "      <td>0.927424</td>\n",
       "      <td>-1.094692</td>\n",
       "      <td>15</td>\n",
       "      <td>1.0</td>\n",
       "    </tr>\n",
       "    <tr>\n",
       "      <th>2019-08-04</th>\n",
       "      <td>-0.908070</td>\n",
       "      <td>1.503811</td>\n",
       "      <td>-2.166974</td>\n",
       "      <td>20</td>\n",
       "      <td>3.0</td>\n",
       "    </tr>\n",
       "    <tr>\n",
       "      <th>2019-08-05</th>\n",
       "      <td>-1.159877</td>\n",
       "      <td>1.177452</td>\n",
       "      <td>-1.135053</td>\n",
       "      <td>25</td>\n",
       "      <td>6.0</td>\n",
       "    </tr>\n",
       "    <tr>\n",
       "      <th>2019-08-06</th>\n",
       "      <td>-0.234810</td>\n",
       "      <td>1.083781</td>\n",
       "      <td>-0.737861</td>\n",
       "      <td>30</td>\n",
       "      <td>10.0</td>\n",
       "    </tr>\n",
       "  </tbody>\n",
       "</table>\n",
       "</div>"
      ],
      "text/plain": [
       "                   A         B         C   D     F\n",
       "2019-08-01  0.000000  0.000000 -0.212192   5   NaN\n",
       "2019-08-02  0.784536  0.232398 -1.102071  10   NaN\n",
       "2019-08-03 -0.611014  0.927424 -1.094692  15   1.0\n",
       "2019-08-04 -0.908070  1.503811 -2.166974  20   3.0\n",
       "2019-08-05 -1.159877  1.177452 -1.135053  25   6.0\n",
       "2019-08-06 -0.234810  1.083781 -0.737861  30  10.0"
      ]
     },
     "execution_count": 62,
     "metadata": {},
     "output_type": "execute_result"
    }
   ],
   "source": [
    "df.apply(np.cumsum)"
   ]
  },
  {
   "cell_type": "markdown",
   "metadata": {},
   "source": [
    "**lambda** 는 **익명 함수로 간단하게 함수를 만들어서 사용할 때 사용된다.**"
   ]
  },
  {
   "cell_type": "code",
   "execution_count": 63,
   "metadata": {},
   "outputs": [
    {
     "data": {
      "text/plain": [
       "A    2.320617\n",
       "B    1.021385\n",
       "C    2.104203\n",
       "D    0.000000\n",
       "F    3.000000\n",
       "dtype: float64"
      ]
     },
     "execution_count": 63,
     "metadata": {},
     "output_type": "execute_result"
    }
   ],
   "source": [
    "df.apply(lambda x: x.max() - x.min())"
   ]
  },
  {
   "cell_type": "markdown",
   "metadata": {},
   "source": [
    "## 히스토그램 구하기 (Histogramming)\n",
    "**데이터의 값들을 빈도를 조사하여 히스토그램을 만들 수 있다.**\n",
    "https://pandas.pydata.org/pandas-docs/stable/getting_started/basics.html#basics-discretization 에서 참고하자."
   ]
  },
  {
   "cell_type": "code",
   "execution_count": 64,
   "metadata": {},
   "outputs": [],
   "source": [
    "s = pd.Series(np.random.randint(0, 7, size = 10)) # 0부터 7까지 랜덤숫자를 추출하고, 0부터 9까지 10개를 뽑는다."
   ]
  },
  {
   "cell_type": "code",
   "execution_count": 65,
   "metadata": {},
   "outputs": [
    {
     "data": {
      "text/plain": [
       "0    3\n",
       "1    3\n",
       "2    1\n",
       "3    6\n",
       "4    1\n",
       "5    4\n",
       "6    2\n",
       "7    3\n",
       "8    2\n",
       "9    5\n",
       "dtype: int32"
      ]
     },
     "execution_count": 65,
     "metadata": {},
     "output_type": "execute_result"
    }
   ],
   "source": [
    "s # 출력"
   ]
  },
  {
   "cell_type": "markdown",
   "metadata": {},
   "source": [
    "**value_counts()** 란? 각각의 value가 몇 개 있는지 확인해주는 메소드이다."
   ]
  },
  {
   "cell_type": "code",
   "execution_count": 66,
   "metadata": {},
   "outputs": [
    {
     "data": {
      "text/plain": [
       "3    3\n",
       "2    2\n",
       "1    2\n",
       "6    1\n",
       "5    1\n",
       "4    1\n",
       "dtype: int64"
      ]
     },
     "execution_count": 66,
     "metadata": {},
     "output_type": "execute_result"
    }
   ],
   "source": [
    "s.value_counts() # s 변수의 value 갯수 확인"
   ]
  },
  {
   "cell_type": "markdown",
   "metadata": {},
   "source": [
    "## 문자열 관련 메소드(String Methods)\n",
    "\n",
    "**Series는 배열의 각 요소에 쉽게 적용이 가능하도록 str 이라는 속성에 문자열 처리 할 수 있는 여러가지의 메소드들을 갖추고 있다.**\n",
    "\n",
    "**★문자열의 패턴 일치 확인은 기본적으로 정규표현식을 사용하고, 몇몇 경우에는 항상 정규표현식을 사용함에 유의하자★**"
   ]
  },
  {
   "cell_type": "code",
   "execution_count": 67,
   "metadata": {},
   "outputs": [],
   "source": [
    "s = pd.Series([\"A\", \"B\", \"C\", \"ABC\", \"CBA\", np.nan, \"BAC\", \"CAB\"])"
   ]
  },
  {
   "cell_type": "code",
   "execution_count": 68,
   "metadata": {},
   "outputs": [
    {
     "data": {
      "text/plain": [
       "0      a\n",
       "1      b\n",
       "2      c\n",
       "3    abc\n",
       "4    cba\n",
       "5    NaN\n",
       "6    bac\n",
       "7    cab\n",
       "dtype: object"
      ]
     },
     "execution_count": 68,
     "metadata": {},
     "output_type": "execute_result"
    }
   ],
   "source": [
    "s.str.lower()"
   ]
  },
  {
   "cell_type": "markdown",
   "metadata": {},
   "source": [
    "## 합치기 (Merge)\n",
    "\n",
    "**다양한 정보를 담은 자료들이 있을 때 이들을 합쳐 새로운 자료를 만들어야 할 때가 있다. 시리즈(Series) 또는 데이터프레임(DataFrame)을 어떻게 합치는지 알아보자.**\n",
    "\n",
    "                            같은 형태 자료들을 이어서 하나로 만들어주는 concat ,\n",
    "                            다른 형태의 자료들을 한 컬럼을 기준으로 합추는 merge , \n",
    "                            기존 데이터 프레임에 하나의 행을 추가하는 append 의 사용법을 알아보자."
   ]
  },
  {
   "cell_type": "markdown",
   "metadata": {},
   "source": [
    "# Concat (연결)\n",
    "\n",
    "**결합(join)** / **병합(merge)** 형태의 연산에 대한 인덱스, 관계 대수 기능을 위한 다양한 형태의 논리를 포함한 **Series**, **데이터프레임**, **Panel**   객체를 손쉽게 결합할 수 있도록 하는 다양한 기능을 Pandas에서 제공한다."
   ]
  },
  {
   "cell_type": "code",
   "execution_count": 69,
   "metadata": {},
   "outputs": [],
   "source": [
    "df = pd.DataFrame(np.random.randn(10, 4)) # 랜덤 난수를 생성한 후, 10 X 4 형태의 데이터 프레임 만들기"
   ]
  },
  {
   "cell_type": "code",
   "execution_count": 70,
   "metadata": {},
   "outputs": [
    {
     "data": {
      "text/html": [
       "<div>\n",
       "<style scoped>\n",
       "    .dataframe tbody tr th:only-of-type {\n",
       "        vertical-align: middle;\n",
       "    }\n",
       "\n",
       "    .dataframe tbody tr th {\n",
       "        vertical-align: top;\n",
       "    }\n",
       "\n",
       "    .dataframe thead th {\n",
       "        text-align: right;\n",
       "    }\n",
       "</style>\n",
       "<table border=\"1\" class=\"dataframe\">\n",
       "  <thead>\n",
       "    <tr style=\"text-align: right;\">\n",
       "      <th></th>\n",
       "      <th>0</th>\n",
       "      <th>1</th>\n",
       "      <th>2</th>\n",
       "      <th>3</th>\n",
       "    </tr>\n",
       "  </thead>\n",
       "  <tbody>\n",
       "    <tr>\n",
       "      <th>0</th>\n",
       "      <td>0.199613</td>\n",
       "      <td>-0.350589</td>\n",
       "      <td>0.255312</td>\n",
       "      <td>0.905179</td>\n",
       "    </tr>\n",
       "    <tr>\n",
       "      <th>1</th>\n",
       "      <td>-0.942633</td>\n",
       "      <td>-0.243923</td>\n",
       "      <td>0.000482</td>\n",
       "      <td>-1.552427</td>\n",
       "    </tr>\n",
       "    <tr>\n",
       "      <th>2</th>\n",
       "      <td>0.133171</td>\n",
       "      <td>0.045660</td>\n",
       "      <td>0.468964</td>\n",
       "      <td>-0.312311</td>\n",
       "    </tr>\n",
       "    <tr>\n",
       "      <th>3</th>\n",
       "      <td>-1.046080</td>\n",
       "      <td>-0.347431</td>\n",
       "      <td>-0.346008</td>\n",
       "      <td>-0.396925</td>\n",
       "    </tr>\n",
       "    <tr>\n",
       "      <th>4</th>\n",
       "      <td>1.189064</td>\n",
       "      <td>0.443405</td>\n",
       "      <td>-0.223518</td>\n",
       "      <td>1.208941</td>\n",
       "    </tr>\n",
       "    <tr>\n",
       "      <th>5</th>\n",
       "      <td>2.206040</td>\n",
       "      <td>0.012915</td>\n",
       "      <td>-0.758629</td>\n",
       "      <td>-1.922261</td>\n",
       "    </tr>\n",
       "    <tr>\n",
       "      <th>6</th>\n",
       "      <td>0.750268</td>\n",
       "      <td>1.249922</td>\n",
       "      <td>0.658562</td>\n",
       "      <td>0.295402</td>\n",
       "    </tr>\n",
       "    <tr>\n",
       "      <th>7</th>\n",
       "      <td>-1.698810</td>\n",
       "      <td>-0.299378</td>\n",
       "      <td>-0.792906</td>\n",
       "      <td>-0.808826</td>\n",
       "    </tr>\n",
       "    <tr>\n",
       "      <th>8</th>\n",
       "      <td>-0.045588</td>\n",
       "      <td>-0.972794</td>\n",
       "      <td>2.720773</td>\n",
       "      <td>-0.631222</td>\n",
       "    </tr>\n",
       "    <tr>\n",
       "      <th>9</th>\n",
       "      <td>0.560042</td>\n",
       "      <td>0.823515</td>\n",
       "      <td>0.891612</td>\n",
       "      <td>-0.487317</td>\n",
       "    </tr>\n",
       "  </tbody>\n",
       "</table>\n",
       "</div>"
      ],
      "text/plain": [
       "          0         1         2         3\n",
       "0  0.199613 -0.350589  0.255312  0.905179\n",
       "1 -0.942633 -0.243923  0.000482 -1.552427\n",
       "2  0.133171  0.045660  0.468964 -0.312311\n",
       "3 -1.046080 -0.347431 -0.346008 -0.396925\n",
       "4  1.189064  0.443405 -0.223518  1.208941\n",
       "5  2.206040  0.012915 -0.758629 -1.922261\n",
       "6  0.750268  1.249922  0.658562  0.295402\n",
       "7 -1.698810 -0.299378 -0.792906 -0.808826\n",
       "8 -0.045588 -0.972794  2.720773 -0.631222\n",
       "9  0.560042  0.823515  0.891612 -0.487317"
      ]
     },
     "execution_count": 70,
     "metadata": {},
     "output_type": "execute_result"
    }
   ],
   "source": [
    "df # 출력"
   ]
  },
  {
   "cell_type": "code",
   "execution_count": 71,
   "metadata": {},
   "outputs": [],
   "source": [
    "pie = [df[:3], df[3:7], df[7:]] # df를 세 부분으로 나눈 후, pie에 대입"
   ]
  },
  {
   "cell_type": "code",
   "execution_count": 72,
   "metadata": {},
   "outputs": [
    {
     "data": {
      "text/html": [
       "<div>\n",
       "<style scoped>\n",
       "    .dataframe tbody tr th:only-of-type {\n",
       "        vertical-align: middle;\n",
       "    }\n",
       "\n",
       "    .dataframe tbody tr th {\n",
       "        vertical-align: top;\n",
       "    }\n",
       "\n",
       "    .dataframe thead th {\n",
       "        text-align: right;\n",
       "    }\n",
       "</style>\n",
       "<table border=\"1\" class=\"dataframe\">\n",
       "  <thead>\n",
       "    <tr style=\"text-align: right;\">\n",
       "      <th></th>\n",
       "      <th>0</th>\n",
       "      <th>1</th>\n",
       "      <th>2</th>\n",
       "      <th>3</th>\n",
       "    </tr>\n",
       "  </thead>\n",
       "  <tbody>\n",
       "    <tr>\n",
       "      <th>0</th>\n",
       "      <td>0.199613</td>\n",
       "      <td>-0.350589</td>\n",
       "      <td>0.255312</td>\n",
       "      <td>0.905179</td>\n",
       "    </tr>\n",
       "    <tr>\n",
       "      <th>1</th>\n",
       "      <td>-0.942633</td>\n",
       "      <td>-0.243923</td>\n",
       "      <td>0.000482</td>\n",
       "      <td>-1.552427</td>\n",
       "    </tr>\n",
       "    <tr>\n",
       "      <th>2</th>\n",
       "      <td>0.133171</td>\n",
       "      <td>0.045660</td>\n",
       "      <td>0.468964</td>\n",
       "      <td>-0.312311</td>\n",
       "    </tr>\n",
       "    <tr>\n",
       "      <th>3</th>\n",
       "      <td>-1.046080</td>\n",
       "      <td>-0.347431</td>\n",
       "      <td>-0.346008</td>\n",
       "      <td>-0.396925</td>\n",
       "    </tr>\n",
       "    <tr>\n",
       "      <th>4</th>\n",
       "      <td>1.189064</td>\n",
       "      <td>0.443405</td>\n",
       "      <td>-0.223518</td>\n",
       "      <td>1.208941</td>\n",
       "    </tr>\n",
       "    <tr>\n",
       "      <th>5</th>\n",
       "      <td>2.206040</td>\n",
       "      <td>0.012915</td>\n",
       "      <td>-0.758629</td>\n",
       "      <td>-1.922261</td>\n",
       "    </tr>\n",
       "    <tr>\n",
       "      <th>6</th>\n",
       "      <td>0.750268</td>\n",
       "      <td>1.249922</td>\n",
       "      <td>0.658562</td>\n",
       "      <td>0.295402</td>\n",
       "    </tr>\n",
       "    <tr>\n",
       "      <th>7</th>\n",
       "      <td>-1.698810</td>\n",
       "      <td>-0.299378</td>\n",
       "      <td>-0.792906</td>\n",
       "      <td>-0.808826</td>\n",
       "    </tr>\n",
       "    <tr>\n",
       "      <th>8</th>\n",
       "      <td>-0.045588</td>\n",
       "      <td>-0.972794</td>\n",
       "      <td>2.720773</td>\n",
       "      <td>-0.631222</td>\n",
       "    </tr>\n",
       "    <tr>\n",
       "      <th>9</th>\n",
       "      <td>0.560042</td>\n",
       "      <td>0.823515</td>\n",
       "      <td>0.891612</td>\n",
       "      <td>-0.487317</td>\n",
       "    </tr>\n",
       "  </tbody>\n",
       "</table>\n",
       "</div>"
      ],
      "text/plain": [
       "          0         1         2         3\n",
       "0  0.199613 -0.350589  0.255312  0.905179\n",
       "1 -0.942633 -0.243923  0.000482 -1.552427\n",
       "2  0.133171  0.045660  0.468964 -0.312311\n",
       "3 -1.046080 -0.347431 -0.346008 -0.396925\n",
       "4  1.189064  0.443405 -0.223518  1.208941\n",
       "5  2.206040  0.012915 -0.758629 -1.922261\n",
       "6  0.750268  1.249922  0.658562  0.295402\n",
       "7 -1.698810 -0.299378 -0.792906 -0.808826\n",
       "8 -0.045588 -0.972794  2.720773 -0.631222\n",
       "9  0.560042  0.823515  0.891612 -0.487317"
      ]
     },
     "execution_count": 72,
     "metadata": {},
     "output_type": "execute_result"
    }
   ],
   "source": [
    "pd.concat(pie) # concat()를 이용하여 원래대로 다시 합침"
   ]
  },
  {
   "cell_type": "markdown",
   "metadata": {},
   "source": [
    "# Join (결합)\n",
    "\n",
    "**데이터베이스에서 사용하는 SQL 스타일의 합치기 기능이다. merge 메소드를 통해 이루어진다.**"
   ]
  },
  {
   "cell_type": "code",
   "execution_count": 73,
   "metadata": {},
   "outputs": [],
   "source": [
    "left = pd.DataFrame({'Key' : ['one', 'two'], 'lval' : [1, 2]}) # Key에 one, two를 넣고, lval에 1, 2를 넣는다.\n",
    "right = pd.DataFrame({\"Key\" : [\"one\", \"two\"], \"lval\" : [3, 4]}) # Key에 one, two를 넣고, lval에 3, 4를 넣는다."
   ]
  },
  {
   "cell_type": "code",
   "execution_count": 74,
   "metadata": {},
   "outputs": [
    {
     "data": {
      "text/html": [
       "<div>\n",
       "<style scoped>\n",
       "    .dataframe tbody tr th:only-of-type {\n",
       "        vertical-align: middle;\n",
       "    }\n",
       "\n",
       "    .dataframe tbody tr th {\n",
       "        vertical-align: top;\n",
       "    }\n",
       "\n",
       "    .dataframe thead th {\n",
       "        text-align: right;\n",
       "    }\n",
       "</style>\n",
       "<table border=\"1\" class=\"dataframe\">\n",
       "  <thead>\n",
       "    <tr style=\"text-align: right;\">\n",
       "      <th></th>\n",
       "      <th>Key</th>\n",
       "      <th>lval</th>\n",
       "    </tr>\n",
       "  </thead>\n",
       "  <tbody>\n",
       "    <tr>\n",
       "      <th>0</th>\n",
       "      <td>one</td>\n",
       "      <td>1</td>\n",
       "    </tr>\n",
       "    <tr>\n",
       "      <th>1</th>\n",
       "      <td>two</td>\n",
       "      <td>2</td>\n",
       "    </tr>\n",
       "  </tbody>\n",
       "</table>\n",
       "</div>"
      ],
      "text/plain": [
       "   Key  lval\n",
       "0  one     1\n",
       "1  two     2"
      ]
     },
     "execution_count": 74,
     "metadata": {},
     "output_type": "execute_result"
    }
   ],
   "source": [
    "left"
   ]
  },
  {
   "cell_type": "code",
   "execution_count": 75,
   "metadata": {},
   "outputs": [
    {
     "data": {
      "text/html": [
       "<div>\n",
       "<style scoped>\n",
       "    .dataframe tbody tr th:only-of-type {\n",
       "        vertical-align: middle;\n",
       "    }\n",
       "\n",
       "    .dataframe tbody tr th {\n",
       "        vertical-align: top;\n",
       "    }\n",
       "\n",
       "    .dataframe thead th {\n",
       "        text-align: right;\n",
       "    }\n",
       "</style>\n",
       "<table border=\"1\" class=\"dataframe\">\n",
       "  <thead>\n",
       "    <tr style=\"text-align: right;\">\n",
       "      <th></th>\n",
       "      <th>Key</th>\n",
       "      <th>lval</th>\n",
       "    </tr>\n",
       "  </thead>\n",
       "  <tbody>\n",
       "    <tr>\n",
       "      <th>0</th>\n",
       "      <td>one</td>\n",
       "      <td>3</td>\n",
       "    </tr>\n",
       "    <tr>\n",
       "      <th>1</th>\n",
       "      <td>two</td>\n",
       "      <td>4</td>\n",
       "    </tr>\n",
       "  </tbody>\n",
       "</table>\n",
       "</div>"
      ],
      "text/plain": [
       "   Key  lval\n",
       "0  one     3\n",
       "1  two     4"
      ]
     },
     "execution_count": 75,
     "metadata": {},
     "output_type": "execute_result"
    }
   ],
   "source": [
    "right"
   ]
  },
  {
   "cell_type": "code",
   "execution_count": 76,
   "metadata": {},
   "outputs": [
    {
     "data": {
      "text/html": [
       "<div>\n",
       "<style scoped>\n",
       "    .dataframe tbody tr th:only-of-type {\n",
       "        vertical-align: middle;\n",
       "    }\n",
       "\n",
       "    .dataframe tbody tr th {\n",
       "        vertical-align: top;\n",
       "    }\n",
       "\n",
       "    .dataframe thead th {\n",
       "        text-align: right;\n",
       "    }\n",
       "</style>\n",
       "<table border=\"1\" class=\"dataframe\">\n",
       "  <thead>\n",
       "    <tr style=\"text-align: right;\">\n",
       "      <th></th>\n",
       "      <th>Key</th>\n",
       "      <th>lval_x</th>\n",
       "      <th>lval_y</th>\n",
       "    </tr>\n",
       "  </thead>\n",
       "  <tbody>\n",
       "    <tr>\n",
       "      <th>0</th>\n",
       "      <td>one</td>\n",
       "      <td>1</td>\n",
       "      <td>3</td>\n",
       "    </tr>\n",
       "    <tr>\n",
       "      <th>1</th>\n",
       "      <td>two</td>\n",
       "      <td>2</td>\n",
       "      <td>4</td>\n",
       "    </tr>\n",
       "  </tbody>\n",
       "</table>\n",
       "</div>"
      ],
      "text/plain": [
       "   Key  lval_x  lval_y\n",
       "0  one       1       3\n",
       "1  two       2       4"
      ]
     },
     "execution_count": 76,
     "metadata": {},
     "output_type": "execute_result"
    }
   ],
   "source": [
    "pd.merge(left, right, on = \"Key\") # Key를 기준으로 left와 right를 합친다."
   ]
  },
  {
   "cell_type": "markdown",
   "metadata": {},
   "source": [
    "# Append (추가)\n",
    "\n",
    "**데이터프레임에 행을 추가한다.**"
   ]
  },
  {
   "cell_type": "code",
   "execution_count": 77,
   "metadata": {},
   "outputs": [],
   "source": [
    "df = pd.DataFrame(np.random.randn(8, 4), columns = [\"A\", \"B\", \"C\", \"D\"])"
   ]
  },
  {
   "cell_type": "markdown",
   "metadata": {},
   "source": [
    "위 코드 **np.random.randn(8, 4)** 는 8개의 열에 랜덤난수를 생성하고, 4개의 행에 랜덤난수를 생성한다.\n",
    "**rand 명령은 0과 1사이의 난수를 발생시킨다.**"
   ]
  },
  {
   "cell_type": "code",
   "execution_count": 78,
   "metadata": {},
   "outputs": [
    {
     "data": {
      "text/html": [
       "<div>\n",
       "<style scoped>\n",
       "    .dataframe tbody tr th:only-of-type {\n",
       "        vertical-align: middle;\n",
       "    }\n",
       "\n",
       "    .dataframe tbody tr th {\n",
       "        vertical-align: top;\n",
       "    }\n",
       "\n",
       "    .dataframe thead th {\n",
       "        text-align: right;\n",
       "    }\n",
       "</style>\n",
       "<table border=\"1\" class=\"dataframe\">\n",
       "  <thead>\n",
       "    <tr style=\"text-align: right;\">\n",
       "      <th></th>\n",
       "      <th>A</th>\n",
       "      <th>B</th>\n",
       "      <th>C</th>\n",
       "      <th>D</th>\n",
       "    </tr>\n",
       "  </thead>\n",
       "  <tbody>\n",
       "    <tr>\n",
       "      <th>0</th>\n",
       "      <td>-1.087755</td>\n",
       "      <td>1.276497</td>\n",
       "      <td>-0.328306</td>\n",
       "      <td>-0.493073</td>\n",
       "    </tr>\n",
       "    <tr>\n",
       "      <th>1</th>\n",
       "      <td>-1.773935</td>\n",
       "      <td>0.564933</td>\n",
       "      <td>0.530947</td>\n",
       "      <td>1.287205</td>\n",
       "    </tr>\n",
       "    <tr>\n",
       "      <th>2</th>\n",
       "      <td>-0.517584</td>\n",
       "      <td>-0.532772</td>\n",
       "      <td>-0.763934</td>\n",
       "      <td>1.093042</td>\n",
       "    </tr>\n",
       "    <tr>\n",
       "      <th>3</th>\n",
       "      <td>0.107567</td>\n",
       "      <td>-0.331914</td>\n",
       "      <td>0.677398</td>\n",
       "      <td>-0.137243</td>\n",
       "    </tr>\n",
       "    <tr>\n",
       "      <th>4</th>\n",
       "      <td>1.396531</td>\n",
       "      <td>-1.700291</td>\n",
       "      <td>-2.067028</td>\n",
       "      <td>0.470298</td>\n",
       "    </tr>\n",
       "    <tr>\n",
       "      <th>5</th>\n",
       "      <td>0.753958</td>\n",
       "      <td>-2.409886</td>\n",
       "      <td>-1.556696</td>\n",
       "      <td>0.661450</td>\n",
       "    </tr>\n",
       "    <tr>\n",
       "      <th>6</th>\n",
       "      <td>-1.287476</td>\n",
       "      <td>1.252742</td>\n",
       "      <td>0.747452</td>\n",
       "      <td>1.073659</td>\n",
       "    </tr>\n",
       "    <tr>\n",
       "      <th>7</th>\n",
       "      <td>0.961753</td>\n",
       "      <td>-0.708850</td>\n",
       "      <td>-1.270678</td>\n",
       "      <td>1.497657</td>\n",
       "    </tr>\n",
       "  </tbody>\n",
       "</table>\n",
       "</div>"
      ],
      "text/plain": [
       "          A         B         C         D\n",
       "0 -1.087755  1.276497 -0.328306 -0.493073\n",
       "1 -1.773935  0.564933  0.530947  1.287205\n",
       "2 -0.517584 -0.532772 -0.763934  1.093042\n",
       "3  0.107567 -0.331914  0.677398 -0.137243\n",
       "4  1.396531 -1.700291 -2.067028  0.470298\n",
       "5  0.753958 -2.409886 -1.556696  0.661450\n",
       "6 -1.287476  1.252742  0.747452  1.073659\n",
       "7  0.961753 -0.708850 -1.270678  1.497657"
      ]
     },
     "execution_count": 78,
     "metadata": {},
     "output_type": "execute_result"
    }
   ],
   "source": [
    "df # 출력"
   ]
  },
  {
   "cell_type": "code",
   "execution_count": 79,
   "metadata": {},
   "outputs": [],
   "source": [
    "s = df.iloc[3] # df에 3번째 행을 가져와서 s에 넣는다."
   ]
  },
  {
   "cell_type": "code",
   "execution_count": 80,
   "metadata": {},
   "outputs": [
    {
     "data": {
      "text/plain": [
       "A    0.107567\n",
       "B   -0.331914\n",
       "C    0.677398\n",
       "D   -0.137243\n",
       "Name: 3, dtype: float64"
      ]
     },
     "execution_count": 80,
     "metadata": {},
     "output_type": "execute_result"
    }
   ],
   "source": [
    "s # 출력"
   ]
  },
  {
   "cell_type": "code",
   "execution_count": 81,
   "metadata": {},
   "outputs": [
    {
     "data": {
      "text/html": [
       "<div>\n",
       "<style scoped>\n",
       "    .dataframe tbody tr th:only-of-type {\n",
       "        vertical-align: middle;\n",
       "    }\n",
       "\n",
       "    .dataframe tbody tr th {\n",
       "        vertical-align: top;\n",
       "    }\n",
       "\n",
       "    .dataframe thead th {\n",
       "        text-align: right;\n",
       "    }\n",
       "</style>\n",
       "<table border=\"1\" class=\"dataframe\">\n",
       "  <thead>\n",
       "    <tr style=\"text-align: right;\">\n",
       "      <th></th>\n",
       "      <th>A</th>\n",
       "      <th>B</th>\n",
       "      <th>C</th>\n",
       "      <th>D</th>\n",
       "    </tr>\n",
       "  </thead>\n",
       "  <tbody>\n",
       "    <tr>\n",
       "      <th>0</th>\n",
       "      <td>-1.087755</td>\n",
       "      <td>1.276497</td>\n",
       "      <td>-0.328306</td>\n",
       "      <td>-0.493073</td>\n",
       "    </tr>\n",
       "    <tr>\n",
       "      <th>1</th>\n",
       "      <td>-1.773935</td>\n",
       "      <td>0.564933</td>\n",
       "      <td>0.530947</td>\n",
       "      <td>1.287205</td>\n",
       "    </tr>\n",
       "    <tr>\n",
       "      <th>2</th>\n",
       "      <td>-0.517584</td>\n",
       "      <td>-0.532772</td>\n",
       "      <td>-0.763934</td>\n",
       "      <td>1.093042</td>\n",
       "    </tr>\n",
       "    <tr>\n",
       "      <th>3</th>\n",
       "      <td>0.107567</td>\n",
       "      <td>-0.331914</td>\n",
       "      <td>0.677398</td>\n",
       "      <td>-0.137243</td>\n",
       "    </tr>\n",
       "    <tr>\n",
       "      <th>4</th>\n",
       "      <td>1.396531</td>\n",
       "      <td>-1.700291</td>\n",
       "      <td>-2.067028</td>\n",
       "      <td>0.470298</td>\n",
       "    </tr>\n",
       "    <tr>\n",
       "      <th>5</th>\n",
       "      <td>0.753958</td>\n",
       "      <td>-2.409886</td>\n",
       "      <td>-1.556696</td>\n",
       "      <td>0.661450</td>\n",
       "    </tr>\n",
       "    <tr>\n",
       "      <th>6</th>\n",
       "      <td>-1.287476</td>\n",
       "      <td>1.252742</td>\n",
       "      <td>0.747452</td>\n",
       "      <td>1.073659</td>\n",
       "    </tr>\n",
       "    <tr>\n",
       "      <th>7</th>\n",
       "      <td>0.961753</td>\n",
       "      <td>-0.708850</td>\n",
       "      <td>-1.270678</td>\n",
       "      <td>1.497657</td>\n",
       "    </tr>\n",
       "    <tr>\n",
       "      <th>8</th>\n",
       "      <td>0.107567</td>\n",
       "      <td>-0.331914</td>\n",
       "      <td>0.677398</td>\n",
       "      <td>-0.137243</td>\n",
       "    </tr>\n",
       "  </tbody>\n",
       "</table>\n",
       "</div>"
      ],
      "text/plain": [
       "          A         B         C         D\n",
       "0 -1.087755  1.276497 -0.328306 -0.493073\n",
       "1 -1.773935  0.564933  0.530947  1.287205\n",
       "2 -0.517584 -0.532772 -0.763934  1.093042\n",
       "3  0.107567 -0.331914  0.677398 -0.137243\n",
       "4  1.396531 -1.700291 -2.067028  0.470298\n",
       "5  0.753958 -2.409886 -1.556696  0.661450\n",
       "6 -1.287476  1.252742  0.747452  1.073659\n",
       "7  0.961753 -0.708850 -1.270678  1.497657\n",
       "8  0.107567 -0.331914  0.677398 -0.137243"
      ]
     },
     "execution_count": 81,
     "metadata": {},
     "output_type": "execute_result"
    }
   ],
   "source": [
    "df.append(s, ignore_index = True) # append()를 이용해서 df와 s를 결합한 뒤, ignore_index = True를 이용해 인덱스 이름을 무시함."
   ]
  },
  {
   "cell_type": "markdown",
   "metadata": {},
   "source": [
    "# 7.그룹화 (Grouping) \n",
    "\n",
    "**그룹화 (Group by)** 는 다음과 같은 처리를 하는 과정들을 지칭한다.\n",
    "\n",
    "**1. 어떠한 기준을 바탕으로 데이터를 나누는 일 (Splitting)**\n",
    "\n",
    "**2. 각 그룹에 어떤 함수를 독립적으로 적용시키는 일 (applying)**\n",
    "\n",
    "**3. 적용되어 나온 결과들을 통합하는 일 (combining)**"
   ]
  },
  {
   "cell_type": "code",
   "execution_count": 82,
   "metadata": {},
   "outputs": [],
   "source": [
    "df = pd.DataFrame( # 데이터 프레임 생성\n",
    "{\n",
    "    \"A\" : [\"too\", \"bar\", \"too\", \"bar\", \"too\", \"bar\", \"too\", \"bar\"],\n",
    "    \"B\" : [\"one\", \"two\", \"three\", \"one\", \"two\", \"three\", \"four\", \"four\"],\n",
    "    \"C\" : np.random.randn(8),\n",
    "    \"D\" : np.random.randn(8)\n",
    "}) "
   ]
  },
  {
   "cell_type": "code",
   "execution_count": 83,
   "metadata": {},
   "outputs": [
    {
     "data": {
      "text/html": [
       "<div>\n",
       "<style scoped>\n",
       "    .dataframe tbody tr th:only-of-type {\n",
       "        vertical-align: middle;\n",
       "    }\n",
       "\n",
       "    .dataframe tbody tr th {\n",
       "        vertical-align: top;\n",
       "    }\n",
       "\n",
       "    .dataframe thead th {\n",
       "        text-align: right;\n",
       "    }\n",
       "</style>\n",
       "<table border=\"1\" class=\"dataframe\">\n",
       "  <thead>\n",
       "    <tr style=\"text-align: right;\">\n",
       "      <th></th>\n",
       "      <th>A</th>\n",
       "      <th>B</th>\n",
       "      <th>C</th>\n",
       "      <th>D</th>\n",
       "    </tr>\n",
       "  </thead>\n",
       "  <tbody>\n",
       "    <tr>\n",
       "      <th>0</th>\n",
       "      <td>too</td>\n",
       "      <td>one</td>\n",
       "      <td>-0.736263</td>\n",
       "      <td>0.558663</td>\n",
       "    </tr>\n",
       "    <tr>\n",
       "      <th>1</th>\n",
       "      <td>bar</td>\n",
       "      <td>two</td>\n",
       "      <td>-0.848956</td>\n",
       "      <td>-0.642721</td>\n",
       "    </tr>\n",
       "    <tr>\n",
       "      <th>2</th>\n",
       "      <td>too</td>\n",
       "      <td>three</td>\n",
       "      <td>0.116909</td>\n",
       "      <td>-0.185648</td>\n",
       "    </tr>\n",
       "    <tr>\n",
       "      <th>3</th>\n",
       "      <td>bar</td>\n",
       "      <td>one</td>\n",
       "      <td>0.271137</td>\n",
       "      <td>-0.750044</td>\n",
       "    </tr>\n",
       "    <tr>\n",
       "      <th>4</th>\n",
       "      <td>too</td>\n",
       "      <td>two</td>\n",
       "      <td>-0.161932</td>\n",
       "      <td>-2.504401</td>\n",
       "    </tr>\n",
       "    <tr>\n",
       "      <th>5</th>\n",
       "      <td>bar</td>\n",
       "      <td>three</td>\n",
       "      <td>-0.329973</td>\n",
       "      <td>1.418891</td>\n",
       "    </tr>\n",
       "    <tr>\n",
       "      <th>6</th>\n",
       "      <td>too</td>\n",
       "      <td>four</td>\n",
       "      <td>0.697815</td>\n",
       "      <td>0.944509</td>\n",
       "    </tr>\n",
       "    <tr>\n",
       "      <th>7</th>\n",
       "      <td>bar</td>\n",
       "      <td>four</td>\n",
       "      <td>0.117714</td>\n",
       "      <td>0.664227</td>\n",
       "    </tr>\n",
       "  </tbody>\n",
       "</table>\n",
       "</div>"
      ],
      "text/plain": [
       "     A      B         C         D\n",
       "0  too    one -0.736263  0.558663\n",
       "1  bar    two -0.848956 -0.642721\n",
       "2  too  three  0.116909 -0.185648\n",
       "3  bar    one  0.271137 -0.750044\n",
       "4  too    two -0.161932 -2.504401\n",
       "5  bar  three -0.329973  1.418891\n",
       "6  too   four  0.697815  0.944509\n",
       "7  bar   four  0.117714  0.664227"
      ]
     },
     "execution_count": 83,
     "metadata": {},
     "output_type": "execute_result"
    }
   ],
   "source": [
    "df"
   ]
  },
  {
   "cell_type": "markdown",
   "metadata": {},
   "source": [
    "A 컬럼의 값을 기준으로 그룹을 묶은다음, 각 그룹에 합계를 구하는 **sum()** 함수를 적용해 보자."
   ]
  },
  {
   "cell_type": "code",
   "execution_count": 84,
   "metadata": {},
   "outputs": [
    {
     "data": {
      "text/html": [
       "<div>\n",
       "<style scoped>\n",
       "    .dataframe tbody tr th:only-of-type {\n",
       "        vertical-align: middle;\n",
       "    }\n",
       "\n",
       "    .dataframe tbody tr th {\n",
       "        vertical-align: top;\n",
       "    }\n",
       "\n",
       "    .dataframe thead th {\n",
       "        text-align: right;\n",
       "    }\n",
       "</style>\n",
       "<table border=\"1\" class=\"dataframe\">\n",
       "  <thead>\n",
       "    <tr style=\"text-align: right;\">\n",
       "      <th></th>\n",
       "      <th>C</th>\n",
       "      <th>D</th>\n",
       "    </tr>\n",
       "    <tr>\n",
       "      <th>A</th>\n",
       "      <th></th>\n",
       "      <th></th>\n",
       "    </tr>\n",
       "  </thead>\n",
       "  <tbody>\n",
       "    <tr>\n",
       "      <th>bar</th>\n",
       "      <td>-0.790078</td>\n",
       "      <td>0.690353</td>\n",
       "    </tr>\n",
       "    <tr>\n",
       "      <th>too</th>\n",
       "      <td>-0.083470</td>\n",
       "      <td>-1.186878</td>\n",
       "    </tr>\n",
       "  </tbody>\n",
       "</table>\n",
       "</div>"
      ],
      "text/plain": [
       "            C         D\n",
       "A                      \n",
       "bar -0.790078  0.690353\n",
       "too -0.083470 -1.186878"
      ]
     },
     "execution_count": 84,
     "metadata": {},
     "output_type": "execute_result"
    }
   ],
   "source": [
    "df.groupby(\"A\").sum() # 인덱스로는 A 컬럼이 되고, 합계를 구할 수 있는 C 와 D 컬럼에 있는 숫자들의 합계가 구해진 데이터프레임"
   ]
  },
  {
   "cell_type": "code",
   "execution_count": 85,
   "metadata": {},
   "outputs": [
    {
     "data": {
      "text/html": [
       "<div>\n",
       "<style scoped>\n",
       "    .dataframe tbody tr th:only-of-type {\n",
       "        vertical-align: middle;\n",
       "    }\n",
       "\n",
       "    .dataframe tbody tr th {\n",
       "        vertical-align: top;\n",
       "    }\n",
       "\n",
       "    .dataframe thead th {\n",
       "        text-align: right;\n",
       "    }\n",
       "</style>\n",
       "<table border=\"1\" class=\"dataframe\">\n",
       "  <thead>\n",
       "    <tr style=\"text-align: right;\">\n",
       "      <th></th>\n",
       "      <th></th>\n",
       "      <th>C</th>\n",
       "      <th>D</th>\n",
       "    </tr>\n",
       "    <tr>\n",
       "      <th>A</th>\n",
       "      <th>B</th>\n",
       "      <th></th>\n",
       "      <th></th>\n",
       "    </tr>\n",
       "  </thead>\n",
       "  <tbody>\n",
       "    <tr>\n",
       "      <th rowspan=\"4\" valign=\"top\">bar</th>\n",
       "      <th>four</th>\n",
       "      <td>0.117714</td>\n",
       "      <td>0.664227</td>\n",
       "    </tr>\n",
       "    <tr>\n",
       "      <th>one</th>\n",
       "      <td>0.271137</td>\n",
       "      <td>-0.750044</td>\n",
       "    </tr>\n",
       "    <tr>\n",
       "      <th>three</th>\n",
       "      <td>-0.329973</td>\n",
       "      <td>1.418891</td>\n",
       "    </tr>\n",
       "    <tr>\n",
       "      <th>two</th>\n",
       "      <td>-0.848956</td>\n",
       "      <td>-0.642721</td>\n",
       "    </tr>\n",
       "    <tr>\n",
       "      <th rowspan=\"4\" valign=\"top\">too</th>\n",
       "      <th>four</th>\n",
       "      <td>0.697815</td>\n",
       "      <td>0.944509</td>\n",
       "    </tr>\n",
       "    <tr>\n",
       "      <th>one</th>\n",
       "      <td>-0.736263</td>\n",
       "      <td>0.558663</td>\n",
       "    </tr>\n",
       "    <tr>\n",
       "      <th>three</th>\n",
       "      <td>0.116909</td>\n",
       "      <td>-0.185648</td>\n",
       "    </tr>\n",
       "    <tr>\n",
       "      <th>two</th>\n",
       "      <td>-0.161932</td>\n",
       "      <td>-2.504401</td>\n",
       "    </tr>\n",
       "  </tbody>\n",
       "</table>\n",
       "</div>"
      ],
      "text/plain": [
       "                  C         D\n",
       "A   B                        \n",
       "bar four   0.117714  0.664227\n",
       "    one    0.271137 -0.750044\n",
       "    three -0.329973  1.418891\n",
       "    two   -0.848956 -0.642721\n",
       "too four   0.697815  0.944509\n",
       "    one   -0.736263  0.558663\n",
       "    three  0.116909 -0.185648\n",
       "    two   -0.161932 -2.504401"
      ]
     },
     "execution_count": 85,
     "metadata": {},
     "output_type": "execute_result"
    }
   ],
   "source": [
    "df.groupby([\"A\", \"B\"]).sum() # 여러 열을 기준으로 그룹화하면 계층적 인덱스가 형성된다. 여기에도 sum()을 적용할 수 있다."
   ]
  },
  {
   "cell_type": "markdown",
   "metadata": {},
   "source": [
    "# 8. 변형하기 (Reshaping)\n",
    "**데이터 프레임을 다른 형태로 변형하는 방법**"
   ]
  },
  {
   "cell_type": "markdown",
   "metadata": {},
   "source": [
    "# Stack (스택)\n",
    "\n",
    "**Stack 메소드**는 데이터 프레임의 컬럼들을 인덱스의 레벨로 만든다. 이를 **\"압축\"** 한다고 표현한다. "
   ]
  },
  {
   "cell_type": "markdown",
   "metadata": {},
   "source": [
    "아래의 코드를 보면 **df2** 라는 데이터프레임은 A와 B 컬럼을 갖고 있었지만, stack 메소드를 통해 A와 B라는 값을 가지는 인덱스 레벨이 하나 더 추가되었다."
   ]
  },
  {
   "cell_type": "code",
   "execution_count": 86,
   "metadata": {},
   "outputs": [],
   "source": [
    "tuples = list(zip(*[[\"bar\", \"bar\", \"bta\", \"bta\", # zip은 김밥을 생각하면 되는데 당근, 햄 넣고 두개를 동시에 자른다고 생각하면된다.\n",
    "                    \"foo\", \"too\", \"foo\", \"too\",],\n",
    "                   [\"one\", \"two\", \"two\", \"one\",\n",
    "                   \"two\", \"one\", \"two\", \"one\"]]))"
   ]
  },
  {
   "cell_type": "code",
   "execution_count": 87,
   "metadata": {},
   "outputs": [],
   "source": [
    "index = pd.MultiIndex.from_tuples(tuples, names = [\"first\", \"second\"]) # 튜플인덱스를 멀티 인덱스로 변환"
   ]
  },
  {
   "cell_type": "code",
   "execution_count": 88,
   "metadata": {},
   "outputs": [],
   "source": [
    "df = pd.DataFrame(np.random.randn(8, 2), index = index, columns = [\"A\", \"B\"])"
   ]
  },
  {
   "cell_type": "code",
   "execution_count": 89,
   "metadata": {},
   "outputs": [],
   "source": [
    "df = df[:4]"
   ]
  },
  {
   "cell_type": "code",
   "execution_count": 90,
   "metadata": {},
   "outputs": [
    {
     "data": {
      "text/html": [
       "<div>\n",
       "<style scoped>\n",
       "    .dataframe tbody tr th:only-of-type {\n",
       "        vertical-align: middle;\n",
       "    }\n",
       "\n",
       "    .dataframe tbody tr th {\n",
       "        vertical-align: top;\n",
       "    }\n",
       "\n",
       "    .dataframe thead th {\n",
       "        text-align: right;\n",
       "    }\n",
       "</style>\n",
       "<table border=\"1\" class=\"dataframe\">\n",
       "  <thead>\n",
       "    <tr style=\"text-align: right;\">\n",
       "      <th></th>\n",
       "      <th></th>\n",
       "      <th>A</th>\n",
       "      <th>B</th>\n",
       "    </tr>\n",
       "    <tr>\n",
       "      <th>first</th>\n",
       "      <th>second</th>\n",
       "      <th></th>\n",
       "      <th></th>\n",
       "    </tr>\n",
       "  </thead>\n",
       "  <tbody>\n",
       "    <tr>\n",
       "      <th rowspan=\"2\" valign=\"top\">bar</th>\n",
       "      <th>one</th>\n",
       "      <td>0.801817</td>\n",
       "      <td>-1.316455</td>\n",
       "    </tr>\n",
       "    <tr>\n",
       "      <th>two</th>\n",
       "      <td>0.352317</td>\n",
       "      <td>1.486126</td>\n",
       "    </tr>\n",
       "    <tr>\n",
       "      <th rowspan=\"2\" valign=\"top\">bta</th>\n",
       "      <th>two</th>\n",
       "      <td>0.271087</td>\n",
       "      <td>1.169468</td>\n",
       "    </tr>\n",
       "    <tr>\n",
       "      <th>one</th>\n",
       "      <td>-0.920687</td>\n",
       "      <td>0.244151</td>\n",
       "    </tr>\n",
       "  </tbody>\n",
       "</table>\n",
       "</div>"
      ],
      "text/plain": [
       "                     A         B\n",
       "first second                    \n",
       "bar   one     0.801817 -1.316455\n",
       "      two     0.352317  1.486126\n",
       "bta   two     0.271087  1.169468\n",
       "      one    -0.920687  0.244151"
      ]
     },
     "execution_count": 90,
     "metadata": {},
     "output_type": "execute_result"
    }
   ],
   "source": [
    "df"
   ]
  },
  {
   "cell_type": "code",
   "execution_count": 91,
   "metadata": {},
   "outputs": [],
   "source": [
    "stacked = df2.stack() # stack() 메소드를 통해 데이터프레임 열들의 계층을 \"압축\""
   ]
  },
  {
   "cell_type": "code",
   "execution_count": 92,
   "metadata": {},
   "outputs": [
    {
     "data": {
      "text/plain": [
       "2019-08-01  A    0.000000\n",
       "            B    0.000000\n",
       "            C   -0.212192\n",
       "            D   -5.000000\n",
       "2019-08-02  A   -0.784536\n",
       "            B   -0.232398\n",
       "            C   -0.889879\n",
       "            D   -5.000000\n",
       "2019-08-03  A   -1.395550\n",
       "            B   -0.695026\n",
       "            C   -0.007378\n",
       "            D   -5.000000\n",
       "            F   -1.000000\n",
       "2019-08-04  A   -0.297056\n",
       "            B   -0.576387\n",
       "            C   -1.072282\n",
       "            D   -5.000000\n",
       "            F   -2.000000\n",
       "2019-08-05  A   -0.251807\n",
       "            B   -0.326359\n",
       "            C   -1.031922\n",
       "            D   -5.000000\n",
       "            F   -3.000000\n",
       "2019-08-06  A   -0.925067\n",
       "            B   -0.093671\n",
       "            C   -0.397192\n",
       "            D   -5.000000\n",
       "            F   -4.000000\n",
       "dtype: float64"
      ]
     },
     "execution_count": 92,
     "metadata": {},
     "output_type": "execute_result"
    }
   ],
   "source": [
    "stacked # 출력"
   ]
  },
  {
   "cell_type": "markdown",
   "metadata": {},
   "source": [
    "**stack()** 메소드를 통해 압축된 수준을 갖는 데이터프레임은 다시 **unstack()** 메소드를 통해 원래대로 돌아올 수 있다.\n",
    "기본적으로 **unstack() 메소드는 stack() 메소드를 통해 압축되었던 마지막 수준부터 풀어주는 기능을 갖는다.**"
   ]
  },
  {
   "cell_type": "code",
   "execution_count": 93,
   "metadata": {},
   "outputs": [
    {
     "data": {
      "text/html": [
       "<div>\n",
       "<style scoped>\n",
       "    .dataframe tbody tr th:only-of-type {\n",
       "        vertical-align: middle;\n",
       "    }\n",
       "\n",
       "    .dataframe tbody tr th {\n",
       "        vertical-align: top;\n",
       "    }\n",
       "\n",
       "    .dataframe thead th {\n",
       "        text-align: right;\n",
       "    }\n",
       "</style>\n",
       "<table border=\"1\" class=\"dataframe\">\n",
       "  <thead>\n",
       "    <tr style=\"text-align: right;\">\n",
       "      <th></th>\n",
       "      <th>A</th>\n",
       "      <th>B</th>\n",
       "      <th>C</th>\n",
       "      <th>D</th>\n",
       "      <th>F</th>\n",
       "    </tr>\n",
       "  </thead>\n",
       "  <tbody>\n",
       "    <tr>\n",
       "      <th>2019-08-01</th>\n",
       "      <td>0.000000</td>\n",
       "      <td>0.000000</td>\n",
       "      <td>-0.212192</td>\n",
       "      <td>-5.0</td>\n",
       "      <td>NaN</td>\n",
       "    </tr>\n",
       "    <tr>\n",
       "      <th>2019-08-02</th>\n",
       "      <td>-0.784536</td>\n",
       "      <td>-0.232398</td>\n",
       "      <td>-0.889879</td>\n",
       "      <td>-5.0</td>\n",
       "      <td>NaN</td>\n",
       "    </tr>\n",
       "    <tr>\n",
       "      <th>2019-08-03</th>\n",
       "      <td>-1.395550</td>\n",
       "      <td>-0.695026</td>\n",
       "      <td>-0.007378</td>\n",
       "      <td>-5.0</td>\n",
       "      <td>-1.0</td>\n",
       "    </tr>\n",
       "    <tr>\n",
       "      <th>2019-08-04</th>\n",
       "      <td>-0.297056</td>\n",
       "      <td>-0.576387</td>\n",
       "      <td>-1.072282</td>\n",
       "      <td>-5.0</td>\n",
       "      <td>-2.0</td>\n",
       "    </tr>\n",
       "    <tr>\n",
       "      <th>2019-08-05</th>\n",
       "      <td>-0.251807</td>\n",
       "      <td>-0.326359</td>\n",
       "      <td>-1.031922</td>\n",
       "      <td>-5.0</td>\n",
       "      <td>-3.0</td>\n",
       "    </tr>\n",
       "    <tr>\n",
       "      <th>2019-08-06</th>\n",
       "      <td>-0.925067</td>\n",
       "      <td>-0.093671</td>\n",
       "      <td>-0.397192</td>\n",
       "      <td>-5.0</td>\n",
       "      <td>-4.0</td>\n",
       "    </tr>\n",
       "  </tbody>\n",
       "</table>\n",
       "</div>"
      ],
      "text/plain": [
       "                   A         B         C    D    F\n",
       "2019-08-01  0.000000  0.000000 -0.212192 -5.0  NaN\n",
       "2019-08-02 -0.784536 -0.232398 -0.889879 -5.0  NaN\n",
       "2019-08-03 -1.395550 -0.695026 -0.007378 -5.0 -1.0\n",
       "2019-08-04 -0.297056 -0.576387 -1.072282 -5.0 -2.0\n",
       "2019-08-05 -0.251807 -0.326359 -1.031922 -5.0 -3.0\n",
       "2019-08-06 -0.925067 -0.093671 -0.397192 -5.0 -4.0"
      ]
     },
     "execution_count": 93,
     "metadata": {},
     "output_type": "execute_result"
    }
   ],
   "source": [
    "stacked.unstack()"
   ]
  },
  {
   "cell_type": "markdown",
   "metadata": {},
   "source": [
    "# 피벗 테이블 (Pivot Tables)\n",
    "\n",
    "**피벗테이블(Pivot Table)이란 데이터 열 중에서 두 개의 열을 각각 행 인덱스, 열 인덱스로 사용하여 데이터를 조회하여 펼쳐놓은 것**"
   ]
  },
  {
   "cell_type": "code",
   "execution_count": 94,
   "metadata": {},
   "outputs": [],
   "source": [
    "df = pd.DataFrame({\"A\" : [\"one\", \"two\", \"one\", \"one\"] *3,\n",
    "                          \"B\" : [\"A\", \"B\", \"C\"] *4,\n",
    "                          \"C\" : [\"Too\", \"Too\", \"Too\", \"Bar\", \"Bar\", \"Bar\"] *2,\n",
    "                          \"D\" : np.random.randn(12),\n",
    "                          \"E\" : np.random.randn(12)})"
   ]
  },
  {
   "cell_type": "code",
   "execution_count": 95,
   "metadata": {},
   "outputs": [
    {
     "data": {
      "text/html": [
       "<div>\n",
       "<style scoped>\n",
       "    .dataframe tbody tr th:only-of-type {\n",
       "        vertical-align: middle;\n",
       "    }\n",
       "\n",
       "    .dataframe tbody tr th {\n",
       "        vertical-align: top;\n",
       "    }\n",
       "\n",
       "    .dataframe thead th {\n",
       "        text-align: right;\n",
       "    }\n",
       "</style>\n",
       "<table border=\"1\" class=\"dataframe\">\n",
       "  <thead>\n",
       "    <tr style=\"text-align: right;\">\n",
       "      <th></th>\n",
       "      <th>A</th>\n",
       "      <th>B</th>\n",
       "      <th>C</th>\n",
       "      <th>D</th>\n",
       "      <th>E</th>\n",
       "    </tr>\n",
       "  </thead>\n",
       "  <tbody>\n",
       "    <tr>\n",
       "      <th>0</th>\n",
       "      <td>one</td>\n",
       "      <td>A</td>\n",
       "      <td>Too</td>\n",
       "      <td>0.123940</td>\n",
       "      <td>0.974943</td>\n",
       "    </tr>\n",
       "    <tr>\n",
       "      <th>1</th>\n",
       "      <td>two</td>\n",
       "      <td>B</td>\n",
       "      <td>Too</td>\n",
       "      <td>-0.086454</td>\n",
       "      <td>0.083168</td>\n",
       "    </tr>\n",
       "    <tr>\n",
       "      <th>2</th>\n",
       "      <td>one</td>\n",
       "      <td>C</td>\n",
       "      <td>Too</td>\n",
       "      <td>-1.051393</td>\n",
       "      <td>0.766866</td>\n",
       "    </tr>\n",
       "    <tr>\n",
       "      <th>3</th>\n",
       "      <td>one</td>\n",
       "      <td>A</td>\n",
       "      <td>Bar</td>\n",
       "      <td>-1.079406</td>\n",
       "      <td>0.226638</td>\n",
       "    </tr>\n",
       "    <tr>\n",
       "      <th>4</th>\n",
       "      <td>one</td>\n",
       "      <td>B</td>\n",
       "      <td>Bar</td>\n",
       "      <td>-0.151603</td>\n",
       "      <td>-1.425379</td>\n",
       "    </tr>\n",
       "    <tr>\n",
       "      <th>5</th>\n",
       "      <td>two</td>\n",
       "      <td>C</td>\n",
       "      <td>Bar</td>\n",
       "      <td>-1.042751</td>\n",
       "      <td>0.866749</td>\n",
       "    </tr>\n",
       "    <tr>\n",
       "      <th>6</th>\n",
       "      <td>one</td>\n",
       "      <td>A</td>\n",
       "      <td>Too</td>\n",
       "      <td>-0.181818</td>\n",
       "      <td>1.170966</td>\n",
       "    </tr>\n",
       "    <tr>\n",
       "      <th>7</th>\n",
       "      <td>one</td>\n",
       "      <td>B</td>\n",
       "      <td>Too</td>\n",
       "      <td>0.926163</td>\n",
       "      <td>-0.541775</td>\n",
       "    </tr>\n",
       "    <tr>\n",
       "      <th>8</th>\n",
       "      <td>one</td>\n",
       "      <td>C</td>\n",
       "      <td>Too</td>\n",
       "      <td>-0.641142</td>\n",
       "      <td>0.317864</td>\n",
       "    </tr>\n",
       "    <tr>\n",
       "      <th>9</th>\n",
       "      <td>two</td>\n",
       "      <td>A</td>\n",
       "      <td>Bar</td>\n",
       "      <td>-0.911578</td>\n",
       "      <td>-0.174076</td>\n",
       "    </tr>\n",
       "    <tr>\n",
       "      <th>10</th>\n",
       "      <td>one</td>\n",
       "      <td>B</td>\n",
       "      <td>Bar</td>\n",
       "      <td>0.506614</td>\n",
       "      <td>0.701959</td>\n",
       "    </tr>\n",
       "    <tr>\n",
       "      <th>11</th>\n",
       "      <td>one</td>\n",
       "      <td>C</td>\n",
       "      <td>Bar</td>\n",
       "      <td>0.655739</td>\n",
       "      <td>-0.801891</td>\n",
       "    </tr>\n",
       "  </tbody>\n",
       "</table>\n",
       "</div>"
      ],
      "text/plain": [
       "      A  B    C         D         E\n",
       "0   one  A  Too  0.123940  0.974943\n",
       "1   two  B  Too -0.086454  0.083168\n",
       "2   one  C  Too -1.051393  0.766866\n",
       "3   one  A  Bar -1.079406  0.226638\n",
       "4   one  B  Bar -0.151603 -1.425379\n",
       "5   two  C  Bar -1.042751  0.866749\n",
       "6   one  A  Too -0.181818  1.170966\n",
       "7   one  B  Too  0.926163 -0.541775\n",
       "8   one  C  Too -0.641142  0.317864\n",
       "9   two  A  Bar -0.911578 -0.174076\n",
       "10  one  B  Bar  0.506614  0.701959\n",
       "11  one  C  Bar  0.655739 -0.801891"
      ]
     },
     "execution_count": 95,
     "metadata": {},
     "output_type": "execute_result"
    }
   ],
   "source": [
    "df"
   ]
  },
  {
   "cell_type": "markdown",
   "metadata": {},
   "source": [
    "위에 있는 데이터로부터 아래와 같이 피벗 테이블을 쉽게 생성할 수 있다."
   ]
  },
  {
   "cell_type": "code",
   "execution_count": 96,
   "metadata": {},
   "outputs": [
    {
     "data": {
      "text/html": [
       "<div>\n",
       "<style scoped>\n",
       "    .dataframe tbody tr th:only-of-type {\n",
       "        vertical-align: middle;\n",
       "    }\n",
       "\n",
       "    .dataframe tbody tr th {\n",
       "        vertical-align: top;\n",
       "    }\n",
       "\n",
       "    .dataframe thead th {\n",
       "        text-align: right;\n",
       "    }\n",
       "</style>\n",
       "<table border=\"1\" class=\"dataframe\">\n",
       "  <thead>\n",
       "    <tr style=\"text-align: right;\">\n",
       "      <th></th>\n",
       "      <th>C</th>\n",
       "      <th>Bar</th>\n",
       "      <th>Too</th>\n",
       "    </tr>\n",
       "    <tr>\n",
       "      <th>A</th>\n",
       "      <th>B</th>\n",
       "      <th></th>\n",
       "      <th></th>\n",
       "    </tr>\n",
       "  </thead>\n",
       "  <tbody>\n",
       "    <tr>\n",
       "      <th rowspan=\"3\" valign=\"top\">one</th>\n",
       "      <th>A</th>\n",
       "      <td>-1.079406</td>\n",
       "      <td>-0.028939</td>\n",
       "    </tr>\n",
       "    <tr>\n",
       "      <th>B</th>\n",
       "      <td>0.177505</td>\n",
       "      <td>0.926163</td>\n",
       "    </tr>\n",
       "    <tr>\n",
       "      <th>C</th>\n",
       "      <td>0.655739</td>\n",
       "      <td>-0.846268</td>\n",
       "    </tr>\n",
       "    <tr>\n",
       "      <th rowspan=\"3\" valign=\"top\">two</th>\n",
       "      <th>A</th>\n",
       "      <td>-0.911578</td>\n",
       "      <td>NaN</td>\n",
       "    </tr>\n",
       "    <tr>\n",
       "      <th>B</th>\n",
       "      <td>NaN</td>\n",
       "      <td>-0.086454</td>\n",
       "    </tr>\n",
       "    <tr>\n",
       "      <th>C</th>\n",
       "      <td>-1.042751</td>\n",
       "      <td>NaN</td>\n",
       "    </tr>\n",
       "  </tbody>\n",
       "</table>\n",
       "</div>"
      ],
      "text/plain": [
       "C           Bar       Too\n",
       "A   B                    \n",
       "one A -1.079406 -0.028939\n",
       "    B  0.177505  0.926163\n",
       "    C  0.655739 -0.846268\n",
       "two A -0.911578       NaN\n",
       "    B       NaN -0.086454\n",
       "    C -1.042751       NaN"
      ]
     },
     "execution_count": 96,
     "metadata": {},
     "output_type": "execute_result"
    }
   ],
   "source": [
    "pd.pivot_table(df, values = \"D\", index = [\"A\", \"B\"], columns = [\"C\"]) # 찾지 못한 값은 NaN으로 표시된다."
   ]
  },
  {
   "cell_type": "markdown",
   "metadata": {},
   "source": [
    "# 9.시계열 데이터 다루기 (Time Series)\n",
    "\n",
    "**Pandas는 자주일어나는 변환(5분마다 일어나는 데이터 변환)사이에 수행하는 리샘플링 연산을 위한 간단하고, 강력하며, 효율적인 함수를 제공한다.\n",
    "이는 특히 금융데이터를 다룰 때 마우 흔히 하는 연산이다.**"
   ]
  },
  {
   "cell_type": "markdown",
   "metadata": {},
   "source": [
    "frep = \"S\"는 Secend를 말하고, **Day = D** , **Year = Y** 등 이 있다."
   ]
  },
  {
   "cell_type": "code",
   "execution_count": 97,
   "metadata": {},
   "outputs": [],
   "source": [
    "abc = pd.date_range(\"08/08/2019\", periods = 100, freq = \"S\")"
   ]
  },
  {
   "cell_type": "code",
   "execution_count": 98,
   "metadata": {},
   "outputs": [
    {
     "data": {
      "text/plain": [
       "DatetimeIndex(['2019-08-08 00:00:00', '2019-08-08 00:00:01',\n",
       "               '2019-08-08 00:00:02', '2019-08-08 00:00:03',\n",
       "               '2019-08-08 00:00:04', '2019-08-08 00:00:05',\n",
       "               '2019-08-08 00:00:06', '2019-08-08 00:00:07',\n",
       "               '2019-08-08 00:00:08', '2019-08-08 00:00:09',\n",
       "               '2019-08-08 00:00:10', '2019-08-08 00:00:11',\n",
       "               '2019-08-08 00:00:12', '2019-08-08 00:00:13',\n",
       "               '2019-08-08 00:00:14', '2019-08-08 00:00:15',\n",
       "               '2019-08-08 00:00:16', '2019-08-08 00:00:17',\n",
       "               '2019-08-08 00:00:18', '2019-08-08 00:00:19',\n",
       "               '2019-08-08 00:00:20', '2019-08-08 00:00:21',\n",
       "               '2019-08-08 00:00:22', '2019-08-08 00:00:23',\n",
       "               '2019-08-08 00:00:24', '2019-08-08 00:00:25',\n",
       "               '2019-08-08 00:00:26', '2019-08-08 00:00:27',\n",
       "               '2019-08-08 00:00:28', '2019-08-08 00:00:29',\n",
       "               '2019-08-08 00:00:30', '2019-08-08 00:00:31',\n",
       "               '2019-08-08 00:00:32', '2019-08-08 00:00:33',\n",
       "               '2019-08-08 00:00:34', '2019-08-08 00:00:35',\n",
       "               '2019-08-08 00:00:36', '2019-08-08 00:00:37',\n",
       "               '2019-08-08 00:00:38', '2019-08-08 00:00:39',\n",
       "               '2019-08-08 00:00:40', '2019-08-08 00:00:41',\n",
       "               '2019-08-08 00:00:42', '2019-08-08 00:00:43',\n",
       "               '2019-08-08 00:00:44', '2019-08-08 00:00:45',\n",
       "               '2019-08-08 00:00:46', '2019-08-08 00:00:47',\n",
       "               '2019-08-08 00:00:48', '2019-08-08 00:00:49',\n",
       "               '2019-08-08 00:00:50', '2019-08-08 00:00:51',\n",
       "               '2019-08-08 00:00:52', '2019-08-08 00:00:53',\n",
       "               '2019-08-08 00:00:54', '2019-08-08 00:00:55',\n",
       "               '2019-08-08 00:00:56', '2019-08-08 00:00:57',\n",
       "               '2019-08-08 00:00:58', '2019-08-08 00:00:59',\n",
       "               '2019-08-08 00:01:00', '2019-08-08 00:01:01',\n",
       "               '2019-08-08 00:01:02', '2019-08-08 00:01:03',\n",
       "               '2019-08-08 00:01:04', '2019-08-08 00:01:05',\n",
       "               '2019-08-08 00:01:06', '2019-08-08 00:01:07',\n",
       "               '2019-08-08 00:01:08', '2019-08-08 00:01:09',\n",
       "               '2019-08-08 00:01:10', '2019-08-08 00:01:11',\n",
       "               '2019-08-08 00:01:12', '2019-08-08 00:01:13',\n",
       "               '2019-08-08 00:01:14', '2019-08-08 00:01:15',\n",
       "               '2019-08-08 00:01:16', '2019-08-08 00:01:17',\n",
       "               '2019-08-08 00:01:18', '2019-08-08 00:01:19',\n",
       "               '2019-08-08 00:01:20', '2019-08-08 00:01:21',\n",
       "               '2019-08-08 00:01:22', '2019-08-08 00:01:23',\n",
       "               '2019-08-08 00:01:24', '2019-08-08 00:01:25',\n",
       "               '2019-08-08 00:01:26', '2019-08-08 00:01:27',\n",
       "               '2019-08-08 00:01:28', '2019-08-08 00:01:29',\n",
       "               '2019-08-08 00:01:30', '2019-08-08 00:01:31',\n",
       "               '2019-08-08 00:01:32', '2019-08-08 00:01:33',\n",
       "               '2019-08-08 00:01:34', '2019-08-08 00:01:35',\n",
       "               '2019-08-08 00:01:36', '2019-08-08 00:01:37',\n",
       "               '2019-08-08 00:01:38', '2019-08-08 00:01:39'],\n",
       "              dtype='datetime64[ns]', freq='S')"
      ]
     },
     "execution_count": 98,
     "metadata": {},
     "output_type": "execute_result"
    }
   ],
   "source": [
    "abc"
   ]
  },
  {
   "cell_type": "code",
   "execution_count": 112,
   "metadata": {},
   "outputs": [],
   "source": [
    "ts = pd.Series(np.random.randint(0, 500, len(abc)), index = abc) # 0부터 500까지의 랜덤난수를 생성한 뒤, 데이터와 길이는 abc로 해준다."
   ]
  },
  {
   "cell_type": "markdown",
   "metadata": {},
   "source": [
    "아래 코드와 같이 **resample()** 연산을 쓰면 시간 간격을 재조정하는 **리샘플링(resampling)** 이 가능하다. \n",
    "\n",
    "시간 구간이 작아지면 데이터 양이 증가한다고 해서 **업-샘플링(up-sampling)** 이라 하고,\n",
    "\n",
    "시간 구간이 커지면 데이터 양이 감소한다고 해서 **다운-샘플링(down-sampling)** 이라고 한다."
   ]
  },
  {
   "cell_type": "code",
   "execution_count": 125,
   "metadata": {},
   "outputs": [
    {
     "data": {
      "text/plain": [
       "2019-08-08    25804\n",
       "Freq: 5T, dtype: int32"
      ]
     },
     "execution_count": 125,
     "metadata": {},
     "output_type": "execute_result"
    }
   ],
   "source": [
    "ts.resample(\"5Min\").sum() # 25804는 ts변수를 출력했을 때 랜덤난수를 모두 더한 값이다."
   ]
  },
  {
   "cell_type": "markdown",
   "metadata": {},
   "source": [
    "# 타임존 (시간대)표현 :"
   ]
  },
  {
   "cell_type": "code",
   "execution_count": 137,
   "metadata": {},
   "outputs": [],
   "source": [
    "rng = pd.date_range(\"8/8/2019 00:00\", periods = 5, freq = \"D\") # periods = 5이니까, 2019-08-08부터 08-12일까지 생성하고, freq가 D이니까 날짜로 생성함.\n",
    "# 만약 연도로 하고싶으면 Y(Year), 초로 하고싶으면 S(Second) 등으로 표현함."
   ]
  },
  {
   "cell_type": "code",
   "execution_count": 138,
   "metadata": {},
   "outputs": [],
   "source": [
    "ts = pd.Series(np.random.randn(len(rng)), rng)"
   ]
  },
  {
   "cell_type": "code",
   "execution_count": 139,
   "metadata": {},
   "outputs": [
    {
     "data": {
      "text/plain": [
       "2019-08-08    1.297463\n",
       "2019-08-09   -0.391843\n",
       "2019-08-10   -0.440682\n",
       "2019-08-11    0.420515\n",
       "2019-08-12   -0.413555\n",
       "Freq: D, dtype: float64"
      ]
     },
     "execution_count": 139,
     "metadata": {},
     "output_type": "execute_result"
    }
   ],
   "source": [
    "ts # 출력"
   ]
  },
  {
   "cell_type": "code",
   "execution_count": 165,
   "metadata": {},
   "outputs": [],
   "source": [
    "ts_utc = ts.tz_localize(\"UTC\")"
   ]
  },
  {
   "cell_type": "code",
   "execution_count": 166,
   "metadata": {},
   "outputs": [
    {
     "data": {
      "text/plain": [
       "2019-08-08 00:00:00+00:00    1.297463\n",
       "2019-08-09 00:00:00+00:00   -0.391843\n",
       "2019-08-10 00:00:00+00:00   -0.440682\n",
       "2019-08-11 00:00:00+00:00    0.420515\n",
       "2019-08-12 00:00:00+00:00   -0.413555\n",
       "Freq: D, dtype: float64"
      ]
     },
     "execution_count": 166,
     "metadata": {},
     "output_type": "execute_result"
    }
   ],
   "source": [
    "ts_utc"
   ]
  },
  {
   "cell_type": "markdown",
   "metadata": {},
   "source": [
    "# 다른 타임존 (시간대)으로 변경 :"
   ]
  },
  {
   "cell_type": "code",
   "execution_count": 172,
   "metadata": {},
   "outputs": [
    {
     "data": {
      "text/plain": [
       "2019-08-07 20:00:00-04:00    1.297463\n",
       "2019-08-08 20:00:00-04:00   -0.391843\n",
       "2019-08-09 20:00:00-04:00   -0.440682\n",
       "2019-08-10 20:00:00-04:00    0.420515\n",
       "2019-08-11 20:00:00-04:00   -0.413555\n",
       "Freq: D, dtype: float64"
      ]
     },
     "execution_count": 172,
     "metadata": {},
     "output_type": "execute_result"
    }
   ],
   "source": [
    "ts_utc.tz_convert(\"US/Eastern\")"
   ]
  },
  {
   "cell_type": "markdown",
   "metadata": {},
   "source": [
    "# 시간 표현 ↔ 기간 표현으로 변환 :"
   ]
  },
  {
   "cell_type": "code",
   "execution_count": 173,
   "metadata": {},
   "outputs": [],
   "source": [
    "rng = pd.date_range(\"8/8/2019\", periods = 5, freq = \"M\") # 2019-08월 부터 시작해서, freq가 M(months)이니까 월로 표현하고, periods가 5이니까 12월 까지 표현"
   ]
  },
  {
   "cell_type": "code",
   "execution_count": 175,
   "metadata": {},
   "outputs": [],
   "source": [
    "ts = pd.Series(np.random.randn(len(rng)), index = rng)"
   ]
  },
  {
   "cell_type": "code",
   "execution_count": 176,
   "metadata": {},
   "outputs": [
    {
     "data": {
      "text/plain": [
       "2019-08-31   -0.532376\n",
       "2019-09-30    0.099758\n",
       "2019-10-31    0.986848\n",
       "2019-11-30   -0.963959\n",
       "2019-12-31    0.938032\n",
       "Freq: M, dtype: float64"
      ]
     },
     "execution_count": 176,
     "metadata": {},
     "output_type": "execute_result"
    }
   ],
   "source": [
    "ts"
   ]
  },
  {
   "cell_type": "code",
   "execution_count": 177,
   "metadata": {},
   "outputs": [],
   "source": [
    "ps = ts.to_period() # 달 만 표현"
   ]
  },
  {
   "cell_type": "code",
   "execution_count": 178,
   "metadata": {},
   "outputs": [
    {
     "data": {
      "text/plain": [
       "2019-08   -0.532376\n",
       "2019-09    0.099758\n",
       "2019-10    0.986848\n",
       "2019-11   -0.963959\n",
       "2019-12    0.938032\n",
       "Freq: M, dtype: float64"
      ]
     },
     "execution_count": 178,
     "metadata": {},
     "output_type": "execute_result"
    }
   ],
   "source": [
    "ps # 출력"
   ]
  },
  {
   "cell_type": "code",
   "execution_count": 179,
   "metadata": {},
   "outputs": [
    {
     "data": {
      "text/plain": [
       "2019-08-01   -0.532376\n",
       "2019-09-01    0.099758\n",
       "2019-10-01    0.986848\n",
       "2019-11-01   -0.963959\n",
       "2019-12-01    0.938032\n",
       "Freq: MS, dtype: float64"
      ]
     },
     "execution_count": 179,
     "metadata": {},
     "output_type": "execute_result"
    }
   ],
   "source": [
    "ps.to_timestamp()"
   ]
  },
  {
   "cell_type": "markdown",
   "metadata": {},
   "source": [
    "기간과 특정시간 사이의 변환에 편리한 산술적 기능을 사용할 수 있다. 아래의 나오는 코드는 11월을 끝으로 하는 4분기 체계에서 각 분기의 마지막 달에 9시간을 더한 시각을 시작으로 하는 체계로 바꾸는 것을 보여준다."
   ]
  },
  {
   "cell_type": "code",
   "execution_count": 190,
   "metadata": {},
   "outputs": [
    {
     "data": {
      "text/plain": [
       "2000-03-01 09:00    0.304470\n",
       "2000-06-01 09:00    0.694608\n",
       "2000-09-01 09:00    0.181346\n",
       "2000-12-01 09:00    1.226723\n",
       "2001-03-01 09:00    1.596769\n",
       "Freq: H, dtype: float64"
      ]
     },
     "execution_count": 190,
     "metadata": {},
     "output_type": "execute_result"
    }
   ],
   "source": [
    "prn = pd.period_range(\"2000Q1\", \"2020Q4\", freq = \"Q-NOV\")\n",
    "ts = pd.Series(np.random.randn(len(prn)), prn)\n",
    "ts.index = (prn.asfreq(\"M\", \"e\") +1).asfreq(\"H\", \"s\") +9\n",
    "ts.head()"
   ]
  },
  {
   "cell_type": "markdown",
   "metadata": {},
   "source": [
    "# 10. 그래프로 표현하기 (Plotting)\n",
    "\n",
    "그래프는 **plot()** 메소드를 통해 그래프를 그릴 수 있다."
   ]
  },
  {
   "cell_type": "code",
   "execution_count": 209,
   "metadata": {},
   "outputs": [],
   "source": [
    "ts = pd.Series(np.random.randn(1000), # 랜덤 난수 1000개를 생성하고,\n",
    "              index = pd.date_range(\"8/8/2019\", # 2019-08-08 부터,\n",
    "                                   periods = 1000)) # periods는 1000이니까 8월 8일부터 1000일까지 즉, 2022-05-03까지 표현"
   ]
  },
  {
   "cell_type": "code",
   "execution_count": 210,
   "metadata": {},
   "outputs": [],
   "source": [
    "ts = ts.cumsum() # 누적된 합계 표현"
   ]
  },
  {
   "cell_type": "code",
   "execution_count": 211,
   "metadata": {},
   "outputs": [
    {
     "data": {
      "text/plain": [
       "<matplotlib.axes._subplots.AxesSubplot at 0x1ee9792abe0>"
      ]
     },
     "execution_count": 211,
     "metadata": {},
     "output_type": "execute_result"
    },
    {
     "data": {
      "image/png": "[encoded data removed]",
      "text/plain": [
       "<Figure size 432x288 with 1 Axes>"
      ]
     },
     "metadata": {},
     "output_type": "display_data"
    }
   ],
   "source": [
    "ts.plot() # ts 변수를 plot()함수를 넣어서 그래프로 표현"
   ]
  },
  {
   "cell_type": "markdown",
   "metadata": {},
   "source": [
    "**plot()** 메소드는 여러 개의 열을 한 번에 그릴 수 있는 편리함도 제공하고 있다.\n",
    "\n",
    "아래 코드와 같이 A, B, C, D의 4개의 열에 해당하는 데이터를 legend와 함께 표현할 수 있다."
   ]
  },
  {
   "cell_type": "code",
   "execution_count": 213,
   "metadata": {},
   "outputs": [],
   "source": [
    "df = pd.DataFrame(np.random.randn(1000, 4), # 4개의 행, 1000개의 열\n",
    "                 index = ts.index, # 데이터는 ts변수를 불러오고,\n",
    "                 columns = [\"A\", \"B\", \"C\", \"D\"]) # 4개의 행 이름은 A, B, C, D로 지정"
   ]
  },
  {
   "cell_type": "code",
   "execution_count": 214,
   "metadata": {},
   "outputs": [],
   "source": [
    "df = df.cumsum() # 누적된 합계 표현"
   ]
  },
  {
   "cell_type": "markdown",
   "metadata": {},
   "source": [
    "아래 코드의 함수 정리 :\n",
    "\n",
    "**plt.figure() : 새로운 그래프를 그리는 함수**\n",
    "\n",
    "**df.plot() : df변수 의 그래프를 그래는 함수**\n",
    "\n",
    "**plt.legend() : 범례를 그래프에 넣어주는 함수**"
   ]
  },
  {
   "cell_type": "code",
   "execution_count": 219,
   "metadata": {},
   "outputs": [
    {
     "data": {
      "text/plain": [
       "<matplotlib.legend.Legend at 0x1ee99008b00>"
      ]
     },
     "execution_count": 219,
     "metadata": {},
     "output_type": "execute_result"
    },
    {
     "data": {
      "text/plain": [
       "<Figure size 432x288 with 0 Axes>"
      ]
     },
     "metadata": {},
     "output_type": "display_data"
    },
    {
     "data": {
      "image/png": "[encoded data removed]",
      "text/plain": [
       "<Figure size 432x288 with 1 Axes>"
      ]
     },
     "metadata": {},
     "output_type": "display_data"
    }
   ],
   "source": [
    "plt.figure(); df.plot(); plt.legend(loc = \"best\")"
   ]
  },
  {
   "cell_type": "markdown",
   "metadata": {},
   "source": [
    "# 11.데이터 입출력 (Getting Data In/Out)"
   ]
  },
  {
   "cell_type": "markdown",
   "metadata": {},
   "source": [
    "# CSV"
   ]
  },
  {
   "cell_type": "markdown",
   "metadata": {},
   "source": [
    "데이터 프레임을 CSV 형식으로 저장하기."
   ]
  },
  {
   "cell_type": "code",
   "execution_count": 221,
   "metadata": {},
   "outputs": [],
   "source": [
    "df.to_csv(\"too.csv\") # too.csv파일로 저장한다. 경로는 기본적으로 C:\\Users\\USER 에 저장된다."
   ]
  },
  {
   "cell_type": "markdown",
   "metadata": {},
   "source": [
    "csv파일을 불러들여서 읽기."
   ]
  },
  {
   "cell_type": "code",
   "execution_count": 222,
   "metadata": {},
   "outputs": [
    {
     "data": {
      "text/html": [
       "<div>\n",
       "<style scoped>\n",
       "    .dataframe tbody tr th:only-of-type {\n",
       "        vertical-align: middle;\n",
       "    }\n",
       "\n",
       "    .dataframe tbody tr th {\n",
       "        vertical-align: top;\n",
       "    }\n",
       "\n",
       "    .dataframe thead th {\n",
       "        text-align: right;\n",
       "    }\n",
       "</style>\n",
       "<table border=\"1\" class=\"dataframe\">\n",
       "  <thead>\n",
       "    <tr style=\"text-align: right;\">\n",
       "      <th></th>\n",
       "      <th>Unnamed: 0</th>\n",
       "      <th>A</th>\n",
       "      <th>B</th>\n",
       "      <th>C</th>\n",
       "      <th>D</th>\n",
       "    </tr>\n",
       "  </thead>\n",
       "  <tbody>\n",
       "    <tr>\n",
       "      <th>0</th>\n",
       "      <td>2019-08-08</td>\n",
       "      <td>-0.606283</td>\n",
       "      <td>0.747514</td>\n",
       "      <td>1.289559</td>\n",
       "      <td>-0.221121</td>\n",
       "    </tr>\n",
       "    <tr>\n",
       "      <th>1</th>\n",
       "      <td>2019-08-09</td>\n",
       "      <td>-1.109114</td>\n",
       "      <td>1.062657</td>\n",
       "      <td>2.744839</td>\n",
       "      <td>-1.195501</td>\n",
       "    </tr>\n",
       "    <tr>\n",
       "      <th>2</th>\n",
       "      <td>2019-08-10</td>\n",
       "      <td>-1.645509</td>\n",
       "      <td>1.000087</td>\n",
       "      <td>3.105683</td>\n",
       "      <td>-0.278497</td>\n",
       "    </tr>\n",
       "    <tr>\n",
       "      <th>3</th>\n",
       "      <td>2019-08-11</td>\n",
       "      <td>-2.628208</td>\n",
       "      <td>2.504065</td>\n",
       "      <td>1.329226</td>\n",
       "      <td>0.393273</td>\n",
       "    </tr>\n",
       "    <tr>\n",
       "      <th>4</th>\n",
       "      <td>2019-08-12</td>\n",
       "      <td>-2.590933</td>\n",
       "      <td>1.220918</td>\n",
       "      <td>1.547890</td>\n",
       "      <td>0.897592</td>\n",
       "    </tr>\n",
       "    <tr>\n",
       "      <th>5</th>\n",
       "      <td>2019-08-13</td>\n",
       "      <td>-3.002735</td>\n",
       "      <td>0.495810</td>\n",
       "      <td>0.444578</td>\n",
       "      <td>-0.952850</td>\n",
       "    </tr>\n",
       "    <tr>\n",
       "      <th>6</th>\n",
       "      <td>2019-08-14</td>\n",
       "      <td>-1.547566</td>\n",
       "      <td>1.309882</td>\n",
       "      <td>1.028196</td>\n",
       "      <td>-0.925267</td>\n",
       "    </tr>\n",
       "    <tr>\n",
       "      <th>7</th>\n",
       "      <td>2019-08-15</td>\n",
       "      <td>-4.125862</td>\n",
       "      <td>2.315028</td>\n",
       "      <td>0.882703</td>\n",
       "      <td>-1.422915</td>\n",
       "    </tr>\n",
       "    <tr>\n",
       "      <th>8</th>\n",
       "      <td>2019-08-16</td>\n",
       "      <td>-3.079400</td>\n",
       "      <td>1.593520</td>\n",
       "      <td>-1.483858</td>\n",
       "      <td>-1.249238</td>\n",
       "    </tr>\n",
       "    <tr>\n",
       "      <th>9</th>\n",
       "      <td>2019-08-17</td>\n",
       "      <td>-2.395874</td>\n",
       "      <td>0.967483</td>\n",
       "      <td>-0.658113</td>\n",
       "      <td>-1.101175</td>\n",
       "    </tr>\n",
       "    <tr>\n",
       "      <th>10</th>\n",
       "      <td>2019-08-18</td>\n",
       "      <td>-0.716611</td>\n",
       "      <td>1.287858</td>\n",
       "      <td>-0.770351</td>\n",
       "      <td>-1.730217</td>\n",
       "    </tr>\n",
       "    <tr>\n",
       "      <th>11</th>\n",
       "      <td>2019-08-19</td>\n",
       "      <td>-0.676991</td>\n",
       "      <td>-0.167773</td>\n",
       "      <td>-0.051614</td>\n",
       "      <td>-1.284258</td>\n",
       "    </tr>\n",
       "    <tr>\n",
       "      <th>12</th>\n",
       "      <td>2019-08-20</td>\n",
       "      <td>-1.663124</td>\n",
       "      <td>-0.953121</td>\n",
       "      <td>0.775861</td>\n",
       "      <td>-0.758744</td>\n",
       "    </tr>\n",
       "    <tr>\n",
       "      <th>13</th>\n",
       "      <td>2019-08-21</td>\n",
       "      <td>-2.594731</td>\n",
       "      <td>-1.914788</td>\n",
       "      <td>-1.631537</td>\n",
       "      <td>0.046575</td>\n",
       "    </tr>\n",
       "    <tr>\n",
       "      <th>14</th>\n",
       "      <td>2019-08-22</td>\n",
       "      <td>-1.270093</td>\n",
       "      <td>0.525799</td>\n",
       "      <td>-2.529405</td>\n",
       "      <td>1.003009</td>\n",
       "    </tr>\n",
       "    <tr>\n",
       "      <th>15</th>\n",
       "      <td>2019-08-23</td>\n",
       "      <td>-2.807414</td>\n",
       "      <td>0.085243</td>\n",
       "      <td>-2.362466</td>\n",
       "      <td>0.024338</td>\n",
       "    </tr>\n",
       "    <tr>\n",
       "      <th>16</th>\n",
       "      <td>2019-08-24</td>\n",
       "      <td>-1.694410</td>\n",
       "      <td>-0.407490</td>\n",
       "      <td>-1.469628</td>\n",
       "      <td>-0.408317</td>\n",
       "    </tr>\n",
       "    <tr>\n",
       "      <th>17</th>\n",
       "      <td>2019-08-25</td>\n",
       "      <td>-1.553081</td>\n",
       "      <td>-1.601359</td>\n",
       "      <td>-2.145389</td>\n",
       "      <td>-0.717778</td>\n",
       "    </tr>\n",
       "    <tr>\n",
       "      <th>18</th>\n",
       "      <td>2019-08-26</td>\n",
       "      <td>-0.734916</td>\n",
       "      <td>-1.354862</td>\n",
       "      <td>-3.610780</td>\n",
       "      <td>0.589368</td>\n",
       "    </tr>\n",
       "    <tr>\n",
       "      <th>19</th>\n",
       "      <td>2019-08-27</td>\n",
       "      <td>1.153484</td>\n",
       "      <td>-3.670377</td>\n",
       "      <td>-6.253266</td>\n",
       "      <td>0.218165</td>\n",
       "    </tr>\n",
       "    <tr>\n",
       "      <th>20</th>\n",
       "      <td>2019-08-28</td>\n",
       "      <td>1.455082</td>\n",
       "      <td>-4.860871</td>\n",
       "      <td>-5.364633</td>\n",
       "      <td>-0.408111</td>\n",
       "    </tr>\n",
       "    <tr>\n",
       "      <th>21</th>\n",
       "      <td>2019-08-29</td>\n",
       "      <td>1.476806</td>\n",
       "      <td>-5.073754</td>\n",
       "      <td>-5.226790</td>\n",
       "      <td>0.211981</td>\n",
       "    </tr>\n",
       "    <tr>\n",
       "      <th>22</th>\n",
       "      <td>2019-08-30</td>\n",
       "      <td>-0.467030</td>\n",
       "      <td>-5.035324</td>\n",
       "      <td>-3.256564</td>\n",
       "      <td>1.848691</td>\n",
       "    </tr>\n",
       "    <tr>\n",
       "      <th>23</th>\n",
       "      <td>2019-08-31</td>\n",
       "      <td>-0.389287</td>\n",
       "      <td>-4.998432</td>\n",
       "      <td>-3.567899</td>\n",
       "      <td>1.180181</td>\n",
       "    </tr>\n",
       "    <tr>\n",
       "      <th>24</th>\n",
       "      <td>2019-09-01</td>\n",
       "      <td>-1.540602</td>\n",
       "      <td>-3.967075</td>\n",
       "      <td>-3.815107</td>\n",
       "      <td>1.356540</td>\n",
       "    </tr>\n",
       "    <tr>\n",
       "      <th>25</th>\n",
       "      <td>2019-09-02</td>\n",
       "      <td>-1.615310</td>\n",
       "      <td>-3.839438</td>\n",
       "      <td>-2.369348</td>\n",
       "      <td>0.409627</td>\n",
       "    </tr>\n",
       "    <tr>\n",
       "      <th>26</th>\n",
       "      <td>2019-09-03</td>\n",
       "      <td>-0.296793</td>\n",
       "      <td>-4.157987</td>\n",
       "      <td>-2.317221</td>\n",
       "      <td>2.026028</td>\n",
       "    </tr>\n",
       "    <tr>\n",
       "      <th>27</th>\n",
       "      <td>2019-09-04</td>\n",
       "      <td>-2.077965</td>\n",
       "      <td>-3.033356</td>\n",
       "      <td>-3.000346</td>\n",
       "      <td>1.374558</td>\n",
       "    </tr>\n",
       "    <tr>\n",
       "      <th>28</th>\n",
       "      <td>2019-09-05</td>\n",
       "      <td>-2.326075</td>\n",
       "      <td>-3.183830</td>\n",
       "      <td>-3.338735</td>\n",
       "      <td>1.578718</td>\n",
       "    </tr>\n",
       "    <tr>\n",
       "      <th>29</th>\n",
       "      <td>2019-09-06</td>\n",
       "      <td>-2.452542</td>\n",
       "      <td>-3.539157</td>\n",
       "      <td>-3.660731</td>\n",
       "      <td>1.743065</td>\n",
       "    </tr>\n",
       "    <tr>\n",
       "      <th>...</th>\n",
       "      <td>...</td>\n",
       "      <td>...</td>\n",
       "      <td>...</td>\n",
       "      <td>...</td>\n",
       "      <td>...</td>\n",
       "    </tr>\n",
       "    <tr>\n",
       "      <th>970</th>\n",
       "      <td>2022-04-04</td>\n",
       "      <td>-5.024470</td>\n",
       "      <td>-74.197569</td>\n",
       "      <td>-13.967081</td>\n",
       "      <td>-23.403558</td>\n",
       "    </tr>\n",
       "    <tr>\n",
       "      <th>971</th>\n",
       "      <td>2022-04-05</td>\n",
       "      <td>-4.534205</td>\n",
       "      <td>-74.391736</td>\n",
       "      <td>-13.047768</td>\n",
       "      <td>-23.225135</td>\n",
       "    </tr>\n",
       "    <tr>\n",
       "      <th>972</th>\n",
       "      <td>2022-04-06</td>\n",
       "      <td>-3.397389</td>\n",
       "      <td>-76.066521</td>\n",
       "      <td>-11.631268</td>\n",
       "      <td>-23.690088</td>\n",
       "    </tr>\n",
       "    <tr>\n",
       "      <th>973</th>\n",
       "      <td>2022-04-07</td>\n",
       "      <td>-2.829041</td>\n",
       "      <td>-74.515087</td>\n",
       "      <td>-9.409796</td>\n",
       "      <td>-24.815780</td>\n",
       "    </tr>\n",
       "    <tr>\n",
       "      <th>974</th>\n",
       "      <td>2022-04-08</td>\n",
       "      <td>-2.727126</td>\n",
       "      <td>-73.114339</td>\n",
       "      <td>-9.190743</td>\n",
       "      <td>-25.769046</td>\n",
       "    </tr>\n",
       "    <tr>\n",
       "      <th>975</th>\n",
       "      <td>2022-04-09</td>\n",
       "      <td>-3.706577</td>\n",
       "      <td>-72.903850</td>\n",
       "      <td>-7.101269</td>\n",
       "      <td>-25.319054</td>\n",
       "    </tr>\n",
       "    <tr>\n",
       "      <th>976</th>\n",
       "      <td>2022-04-10</td>\n",
       "      <td>-2.499574</td>\n",
       "      <td>-73.011361</td>\n",
       "      <td>-4.311230</td>\n",
       "      <td>-24.474855</td>\n",
       "    </tr>\n",
       "    <tr>\n",
       "      <th>977</th>\n",
       "      <td>2022-04-11</td>\n",
       "      <td>-2.363791</td>\n",
       "      <td>-72.294792</td>\n",
       "      <td>-4.133563</td>\n",
       "      <td>-25.359914</td>\n",
       "    </tr>\n",
       "    <tr>\n",
       "      <th>978</th>\n",
       "      <td>2022-04-12</td>\n",
       "      <td>-1.645308</td>\n",
       "      <td>-73.096931</td>\n",
       "      <td>-4.166618</td>\n",
       "      <td>-24.972584</td>\n",
       "    </tr>\n",
       "    <tr>\n",
       "      <th>979</th>\n",
       "      <td>2022-04-13</td>\n",
       "      <td>-2.301116</td>\n",
       "      <td>-70.709663</td>\n",
       "      <td>-4.358106</td>\n",
       "      <td>-24.243527</td>\n",
       "    </tr>\n",
       "    <tr>\n",
       "      <th>980</th>\n",
       "      <td>2022-04-14</td>\n",
       "      <td>-1.904479</td>\n",
       "      <td>-70.017149</td>\n",
       "      <td>-4.446468</td>\n",
       "      <td>-22.288803</td>\n",
       "    </tr>\n",
       "    <tr>\n",
       "      <th>981</th>\n",
       "      <td>2022-04-15</td>\n",
       "      <td>-0.490211</td>\n",
       "      <td>-68.856146</td>\n",
       "      <td>-5.028467</td>\n",
       "      <td>-23.320927</td>\n",
       "    </tr>\n",
       "    <tr>\n",
       "      <th>982</th>\n",
       "      <td>2022-04-16</td>\n",
       "      <td>1.422961</td>\n",
       "      <td>-68.442011</td>\n",
       "      <td>-4.638294</td>\n",
       "      <td>-24.408841</td>\n",
       "    </tr>\n",
       "    <tr>\n",
       "      <th>983</th>\n",
       "      <td>2022-04-17</td>\n",
       "      <td>0.851332</td>\n",
       "      <td>-69.635877</td>\n",
       "      <td>-3.909407</td>\n",
       "      <td>-24.620009</td>\n",
       "    </tr>\n",
       "    <tr>\n",
       "      <th>984</th>\n",
       "      <td>2022-04-18</td>\n",
       "      <td>0.520160</td>\n",
       "      <td>-70.203696</td>\n",
       "      <td>-2.537085</td>\n",
       "      <td>-25.629305</td>\n",
       "    </tr>\n",
       "    <tr>\n",
       "      <th>985</th>\n",
       "      <td>2022-04-19</td>\n",
       "      <td>1.104393</td>\n",
       "      <td>-70.668290</td>\n",
       "      <td>-2.134614</td>\n",
       "      <td>-26.752131</td>\n",
       "    </tr>\n",
       "    <tr>\n",
       "      <th>986</th>\n",
       "      <td>2022-04-20</td>\n",
       "      <td>0.361479</td>\n",
       "      <td>-71.247337</td>\n",
       "      <td>-1.096461</td>\n",
       "      <td>-26.874831</td>\n",
       "    </tr>\n",
       "    <tr>\n",
       "      <th>987</th>\n",
       "      <td>2022-04-21</td>\n",
       "      <td>1.917566</td>\n",
       "      <td>-69.206250</td>\n",
       "      <td>-2.953403</td>\n",
       "      <td>-25.869207</td>\n",
       "    </tr>\n",
       "    <tr>\n",
       "      <th>988</th>\n",
       "      <td>2022-04-22</td>\n",
       "      <td>2.166502</td>\n",
       "      <td>-69.311292</td>\n",
       "      <td>-3.568217</td>\n",
       "      <td>-23.587735</td>\n",
       "    </tr>\n",
       "    <tr>\n",
       "      <th>989</th>\n",
       "      <td>2022-04-23</td>\n",
       "      <td>1.424429</td>\n",
       "      <td>-67.892342</td>\n",
       "      <td>-2.563738</td>\n",
       "      <td>-24.952785</td>\n",
       "    </tr>\n",
       "    <tr>\n",
       "      <th>990</th>\n",
       "      <td>2022-04-24</td>\n",
       "      <td>1.990850</td>\n",
       "      <td>-67.768663</td>\n",
       "      <td>-4.075290</td>\n",
       "      <td>-25.041948</td>\n",
       "    </tr>\n",
       "    <tr>\n",
       "      <th>991</th>\n",
       "      <td>2022-04-25</td>\n",
       "      <td>2.477314</td>\n",
       "      <td>-67.643498</td>\n",
       "      <td>-4.243069</td>\n",
       "      <td>-24.203111</td>\n",
       "    </tr>\n",
       "    <tr>\n",
       "      <th>992</th>\n",
       "      <td>2022-04-26</td>\n",
       "      <td>1.245295</td>\n",
       "      <td>-67.530956</td>\n",
       "      <td>-5.459982</td>\n",
       "      <td>-23.902614</td>\n",
       "    </tr>\n",
       "    <tr>\n",
       "      <th>993</th>\n",
       "      <td>2022-04-27</td>\n",
       "      <td>-1.775997</td>\n",
       "      <td>-67.377965</td>\n",
       "      <td>-6.563977</td>\n",
       "      <td>-23.397531</td>\n",
       "    </tr>\n",
       "    <tr>\n",
       "      <th>994</th>\n",
       "      <td>2022-04-28</td>\n",
       "      <td>-0.869473</td>\n",
       "      <td>-67.148736</td>\n",
       "      <td>-7.409320</td>\n",
       "      <td>-22.244187</td>\n",
       "    </tr>\n",
       "    <tr>\n",
       "      <th>995</th>\n",
       "      <td>2022-04-29</td>\n",
       "      <td>-1.264014</td>\n",
       "      <td>-67.372495</td>\n",
       "      <td>-7.053263</td>\n",
       "      <td>-21.730609</td>\n",
       "    </tr>\n",
       "    <tr>\n",
       "      <th>996</th>\n",
       "      <td>2022-04-30</td>\n",
       "      <td>-1.101774</td>\n",
       "      <td>-66.616196</td>\n",
       "      <td>-6.950948</td>\n",
       "      <td>-23.895380</td>\n",
       "    </tr>\n",
       "    <tr>\n",
       "      <th>997</th>\n",
       "      <td>2022-05-01</td>\n",
       "      <td>-0.561926</td>\n",
       "      <td>-66.831940</td>\n",
       "      <td>-6.492438</td>\n",
       "      <td>-23.581038</td>\n",
       "    </tr>\n",
       "    <tr>\n",
       "      <th>998</th>\n",
       "      <td>2022-05-02</td>\n",
       "      <td>-1.112189</td>\n",
       "      <td>-66.656308</td>\n",
       "      <td>-6.936366</td>\n",
       "      <td>-23.008767</td>\n",
       "    </tr>\n",
       "    <tr>\n",
       "      <th>999</th>\n",
       "      <td>2022-05-03</td>\n",
       "      <td>-4.741829</td>\n",
       "      <td>-67.133847</td>\n",
       "      <td>-7.294490</td>\n",
       "      <td>-24.853727</td>\n",
       "    </tr>\n",
       "  </tbody>\n",
       "</table>\n",
       "<p>1000 rows × 5 columns</p>\n",
       "</div>"
      ],
      "text/plain": [
       "     Unnamed: 0         A          B          C          D\n",
       "0    2019-08-08 -0.606283   0.747514   1.289559  -0.221121\n",
       "1    2019-08-09 -1.109114   1.062657   2.744839  -1.195501\n",
       "2    2019-08-10 -1.645509   1.000087   3.105683  -0.278497\n",
       "3    2019-08-11 -2.628208   2.504065   1.329226   0.393273\n",
       "4    2019-08-12 -2.590933   1.220918   1.547890   0.897592\n",
       "5    2019-08-13 -3.002735   0.495810   0.444578  -0.952850\n",
       "6    2019-08-14 -1.547566   1.309882   1.028196  -0.925267\n",
       "7    2019-08-15 -4.125862   2.315028   0.882703  -1.422915\n",
       "8    2019-08-16 -3.079400   1.593520  -1.483858  -1.249238\n",
       "9    2019-08-17 -2.395874   0.967483  -0.658113  -1.101175\n",
       "10   2019-08-18 -0.716611   1.287858  -0.770351  -1.730217\n",
       "11   2019-08-19 -0.676991  -0.167773  -0.051614  -1.284258\n",
       "12   2019-08-20 -1.663124  -0.953121   0.775861  -0.758744\n",
       "13   2019-08-21 -2.594731  -1.914788  -1.631537   0.046575\n",
       "14   2019-08-22 -1.270093   0.525799  -2.529405   1.003009\n",
       "15   2019-08-23 -2.807414   0.085243  -2.362466   0.024338\n",
       "16   2019-08-24 -1.694410  -0.407490  -1.469628  -0.408317\n",
       "17   2019-08-25 -1.553081  -1.601359  -2.145389  -0.717778\n",
       "18   2019-08-26 -0.734916  -1.354862  -3.610780   0.589368\n",
       "19   2019-08-27  1.153484  -3.670377  -6.253266   0.218165\n",
       "20   2019-08-28  1.455082  -4.860871  -5.364633  -0.408111\n",
       "21   2019-08-29  1.476806  -5.073754  -5.226790   0.211981\n",
       "22   2019-08-30 -0.467030  -5.035324  -3.256564   1.848691\n",
       "23   2019-08-31 -0.389287  -4.998432  -3.567899   1.180181\n",
       "24   2019-09-01 -1.540602  -3.967075  -3.815107   1.356540\n",
       "25   2019-09-02 -1.615310  -3.839438  -2.369348   0.409627\n",
       "26   2019-09-03 -0.296793  -4.157987  -2.317221   2.026028\n",
       "27   2019-09-04 -2.077965  -3.033356  -3.000346   1.374558\n",
       "28   2019-09-05 -2.326075  -3.183830  -3.338735   1.578718\n",
       "29   2019-09-06 -2.452542  -3.539157  -3.660731   1.743065\n",
       "..          ...       ...        ...        ...        ...\n",
       "970  2022-04-04 -5.024470 -74.197569 -13.967081 -23.403558\n",
       "971  2022-04-05 -4.534205 -74.391736 -13.047768 -23.225135\n",
       "972  2022-04-06 -3.397389 -76.066521 -11.631268 -23.690088\n",
       "973  2022-04-07 -2.829041 -74.515087  -9.409796 -24.815780\n",
       "974  2022-04-08 -2.727126 -73.114339  -9.190743 -25.769046\n",
       "975  2022-04-09 -3.706577 -72.903850  -7.101269 -25.319054\n",
       "976  2022-04-10 -2.499574 -73.011361  -4.311230 -24.474855\n",
       "977  2022-04-11 -2.363791 -72.294792  -4.133563 -25.359914\n",
       "978  2022-04-12 -1.645308 -73.096931  -4.166618 -24.972584\n",
       "979  2022-04-13 -2.301116 -70.709663  -4.358106 -24.243527\n",
       "980  2022-04-14 -1.904479 -70.017149  -4.446468 -22.288803\n",
       "981  2022-04-15 -0.490211 -68.856146  -5.028467 -23.320927\n",
       "982  2022-04-16  1.422961 -68.442011  -4.638294 -24.408841\n",
       "983  2022-04-17  0.851332 -69.635877  -3.909407 -24.620009\n",
       "984  2022-04-18  0.520160 -70.203696  -2.537085 -25.629305\n",
       "985  2022-04-19  1.104393 -70.668290  -2.134614 -26.752131\n",
       "986  2022-04-20  0.361479 -71.247337  -1.096461 -26.874831\n",
       "987  2022-04-21  1.917566 -69.206250  -2.953403 -25.869207\n",
       "988  2022-04-22  2.166502 -69.311292  -3.568217 -23.587735\n",
       "989  2022-04-23  1.424429 -67.892342  -2.563738 -24.952785\n",
       "990  2022-04-24  1.990850 -67.768663  -4.075290 -25.041948\n",
       "991  2022-04-25  2.477314 -67.643498  -4.243069 -24.203111\n",
       "992  2022-04-26  1.245295 -67.530956  -5.459982 -23.902614\n",
       "993  2022-04-27 -1.775997 -67.377965  -6.563977 -23.397531\n",
       "994  2022-04-28 -0.869473 -67.148736  -7.409320 -22.244187\n",
       "995  2022-04-29 -1.264014 -67.372495  -7.053263 -21.730609\n",
       "996  2022-04-30 -1.101774 -66.616196  -6.950948 -23.895380\n",
       "997  2022-05-01 -0.561926 -66.831940  -6.492438 -23.581038\n",
       "998  2022-05-02 -1.112189 -66.656308  -6.936366 -23.008767\n",
       "999  2022-05-03 -4.741829 -67.133847  -7.294490 -24.853727\n",
       "\n",
       "[1000 rows x 5 columns]"
      ]
     },
     "execution_count": 222,
     "metadata": {},
     "output_type": "execute_result"
    }
   ],
   "source": [
    "pd.read_csv(\"too.csv\") # 기본적으로 C:\\Users\\USER 경로에 저장되어 있어야 한다."
   ]
  },
  {
   "cell_type": "markdown",
   "metadata": {},
   "source": [
    "# HDF5"
   ]
  },
  {
   "cell_type": "markdown",
   "metadata": {},
   "source": [
    "HDF5 형식으로 저장하기."
   ]
  },
  {
   "cell_type": "code",
   "execution_count": 223,
   "metadata": {},
   "outputs": [],
   "source": [
    "df.to_hdf(\"too.h5\", \"df\") # h5 형식으로 저장된다. 경로는 기본적으로 C:\\Users\\USER 에 있다."
   ]
  },
  {
   "cell_type": "markdown",
   "metadata": {},
   "source": [
    "HDF5 형식 데이터를 불러들이고, 읽어오기."
   ]
  },
  {
   "cell_type": "code",
   "execution_count": 224,
   "metadata": {},
   "outputs": [
    {
     "data": {
      "text/html": [
       "<div>\n",
       "<style scoped>\n",
       "    .dataframe tbody tr th:only-of-type {\n",
       "        vertical-align: middle;\n",
       "    }\n",
       "\n",
       "    .dataframe tbody tr th {\n",
       "        vertical-align: top;\n",
       "    }\n",
       "\n",
       "    .dataframe thead th {\n",
       "        text-align: right;\n",
       "    }\n",
       "</style>\n",
       "<table border=\"1\" class=\"dataframe\">\n",
       "  <thead>\n",
       "    <tr style=\"text-align: right;\">\n",
       "      <th></th>\n",
       "      <th>A</th>\n",
       "      <th>B</th>\n",
       "      <th>C</th>\n",
       "      <th>D</th>\n",
       "    </tr>\n",
       "  </thead>\n",
       "  <tbody>\n",
       "    <tr>\n",
       "      <th>2019-08-08</th>\n",
       "      <td>-0.606283</td>\n",
       "      <td>0.747514</td>\n",
       "      <td>1.289559</td>\n",
       "      <td>-0.221121</td>\n",
       "    </tr>\n",
       "    <tr>\n",
       "      <th>2019-08-09</th>\n",
       "      <td>-1.109114</td>\n",
       "      <td>1.062657</td>\n",
       "      <td>2.744839</td>\n",
       "      <td>-1.195501</td>\n",
       "    </tr>\n",
       "    <tr>\n",
       "      <th>2019-08-10</th>\n",
       "      <td>-1.645509</td>\n",
       "      <td>1.000087</td>\n",
       "      <td>3.105683</td>\n",
       "      <td>-0.278497</td>\n",
       "    </tr>\n",
       "    <tr>\n",
       "      <th>2019-08-11</th>\n",
       "      <td>-2.628208</td>\n",
       "      <td>2.504065</td>\n",
       "      <td>1.329226</td>\n",
       "      <td>0.393273</td>\n",
       "    </tr>\n",
       "    <tr>\n",
       "      <th>2019-08-12</th>\n",
       "      <td>-2.590933</td>\n",
       "      <td>1.220918</td>\n",
       "      <td>1.547890</td>\n",
       "      <td>0.897592</td>\n",
       "    </tr>\n",
       "    <tr>\n",
       "      <th>2019-08-13</th>\n",
       "      <td>-3.002735</td>\n",
       "      <td>0.495810</td>\n",
       "      <td>0.444578</td>\n",
       "      <td>-0.952850</td>\n",
       "    </tr>\n",
       "    <tr>\n",
       "      <th>2019-08-14</th>\n",
       "      <td>-1.547566</td>\n",
       "      <td>1.309882</td>\n",
       "      <td>1.028196</td>\n",
       "      <td>-0.925267</td>\n",
       "    </tr>\n",
       "    <tr>\n",
       "      <th>2019-08-15</th>\n",
       "      <td>-4.125862</td>\n",
       "      <td>2.315028</td>\n",
       "      <td>0.882703</td>\n",
       "      <td>-1.422915</td>\n",
       "    </tr>\n",
       "    <tr>\n",
       "      <th>2019-08-16</th>\n",
       "      <td>-3.079400</td>\n",
       "      <td>1.593520</td>\n",
       "      <td>-1.483858</td>\n",
       "      <td>-1.249238</td>\n",
       "    </tr>\n",
       "    <tr>\n",
       "      <th>2019-08-17</th>\n",
       "      <td>-2.395874</td>\n",
       "      <td>0.967483</td>\n",
       "      <td>-0.658113</td>\n",
       "      <td>-1.101175</td>\n",
       "    </tr>\n",
       "    <tr>\n",
       "      <th>2019-08-18</th>\n",
       "      <td>-0.716611</td>\n",
       "      <td>1.287858</td>\n",
       "      <td>-0.770351</td>\n",
       "      <td>-1.730217</td>\n",
       "    </tr>\n",
       "    <tr>\n",
       "      <th>2019-08-19</th>\n",
       "      <td>-0.676991</td>\n",
       "      <td>-0.167773</td>\n",
       "      <td>-0.051614</td>\n",
       "      <td>-1.284258</td>\n",
       "    </tr>\n",
       "    <tr>\n",
       "      <th>2019-08-20</th>\n",
       "      <td>-1.663124</td>\n",
       "      <td>-0.953121</td>\n",
       "      <td>0.775861</td>\n",
       "      <td>-0.758744</td>\n",
       "    </tr>\n",
       "    <tr>\n",
       "      <th>2019-08-21</th>\n",
       "      <td>-2.594731</td>\n",
       "      <td>-1.914788</td>\n",
       "      <td>-1.631537</td>\n",
       "      <td>0.046575</td>\n",
       "    </tr>\n",
       "    <tr>\n",
       "      <th>2019-08-22</th>\n",
       "      <td>-1.270093</td>\n",
       "      <td>0.525799</td>\n",
       "      <td>-2.529405</td>\n",
       "      <td>1.003009</td>\n",
       "    </tr>\n",
       "    <tr>\n",
       "      <th>2019-08-23</th>\n",
       "      <td>-2.807414</td>\n",
       "      <td>0.085243</td>\n",
       "      <td>-2.362466</td>\n",
       "      <td>0.024338</td>\n",
       "    </tr>\n",
       "    <tr>\n",
       "      <th>2019-08-24</th>\n",
       "      <td>-1.694410</td>\n",
       "      <td>-0.407490</td>\n",
       "      <td>-1.469628</td>\n",
       "      <td>-0.408317</td>\n",
       "    </tr>\n",
       "    <tr>\n",
       "      <th>2019-08-25</th>\n",
       "      <td>-1.553081</td>\n",
       "      <td>-1.601359</td>\n",
       "      <td>-2.145389</td>\n",
       "      <td>-0.717778</td>\n",
       "    </tr>\n",
       "    <tr>\n",
       "      <th>2019-08-26</th>\n",
       "      <td>-0.734916</td>\n",
       "      <td>-1.354862</td>\n",
       "      <td>-3.610780</td>\n",
       "      <td>0.589368</td>\n",
       "    </tr>\n",
       "    <tr>\n",
       "      <th>2019-08-27</th>\n",
       "      <td>1.153484</td>\n",
       "      <td>-3.670377</td>\n",
       "      <td>-6.253266</td>\n",
       "      <td>0.218165</td>\n",
       "    </tr>\n",
       "    <tr>\n",
       "      <th>2019-08-28</th>\n",
       "      <td>1.455082</td>\n",
       "      <td>-4.860871</td>\n",
       "      <td>-5.364633</td>\n",
       "      <td>-0.408111</td>\n",
       "    </tr>\n",
       "    <tr>\n",
       "      <th>2019-08-29</th>\n",
       "      <td>1.476806</td>\n",
       "      <td>-5.073754</td>\n",
       "      <td>-5.226790</td>\n",
       "      <td>0.211981</td>\n",
       "    </tr>\n",
       "    <tr>\n",
       "      <th>2019-08-30</th>\n",
       "      <td>-0.467030</td>\n",
       "      <td>-5.035324</td>\n",
       "      <td>-3.256564</td>\n",
       "      <td>1.848691</td>\n",
       "    </tr>\n",
       "    <tr>\n",
       "      <th>2019-08-31</th>\n",
       "      <td>-0.389287</td>\n",
       "      <td>-4.998432</td>\n",
       "      <td>-3.567899</td>\n",
       "      <td>1.180181</td>\n",
       "    </tr>\n",
       "    <tr>\n",
       "      <th>2019-09-01</th>\n",
       "      <td>-1.540602</td>\n",
       "      <td>-3.967075</td>\n",
       "      <td>-3.815107</td>\n",
       "      <td>1.356540</td>\n",
       "    </tr>\n",
       "    <tr>\n",
       "      <th>2019-09-02</th>\n",
       "      <td>-1.615310</td>\n",
       "      <td>-3.839438</td>\n",
       "      <td>-2.369348</td>\n",
       "      <td>0.409627</td>\n",
       "    </tr>\n",
       "    <tr>\n",
       "      <th>2019-09-03</th>\n",
       "      <td>-0.296793</td>\n",
       "      <td>-4.157987</td>\n",
       "      <td>-2.317221</td>\n",
       "      <td>2.026028</td>\n",
       "    </tr>\n",
       "    <tr>\n",
       "      <th>2019-09-04</th>\n",
       "      <td>-2.077965</td>\n",
       "      <td>-3.033356</td>\n",
       "      <td>-3.000346</td>\n",
       "      <td>1.374558</td>\n",
       "    </tr>\n",
       "    <tr>\n",
       "      <th>2019-09-05</th>\n",
       "      <td>-2.326075</td>\n",
       "      <td>-3.183830</td>\n",
       "      <td>-3.338735</td>\n",
       "      <td>1.578718</td>\n",
       "    </tr>\n",
       "    <tr>\n",
       "      <th>2019-09-06</th>\n",
       "      <td>-2.452542</td>\n",
       "      <td>-3.539157</td>\n",
       "      <td>-3.660731</td>\n",
       "      <td>1.743065</td>\n",
       "    </tr>\n",
       "    <tr>\n",
       "      <th>...</th>\n",
       "      <td>...</td>\n",
       "      <td>...</td>\n",
       "      <td>...</td>\n",
       "      <td>...</td>\n",
       "    </tr>\n",
       "    <tr>\n",
       "      <th>2022-04-04</th>\n",
       "      <td>-5.024470</td>\n",
       "      <td>-74.197569</td>\n",
       "      <td>-13.967081</td>\n",
       "      <td>-23.403558</td>\n",
       "    </tr>\n",
       "    <tr>\n",
       "      <th>2022-04-05</th>\n",
       "      <td>-4.534205</td>\n",
       "      <td>-74.391736</td>\n",
       "      <td>-13.047768</td>\n",
       "      <td>-23.225135</td>\n",
       "    </tr>\n",
       "    <tr>\n",
       "      <th>2022-04-06</th>\n",
       "      <td>-3.397389</td>\n",
       "      <td>-76.066521</td>\n",
       "      <td>-11.631268</td>\n",
       "      <td>-23.690088</td>\n",
       "    </tr>\n",
       "    <tr>\n",
       "      <th>2022-04-07</th>\n",
       "      <td>-2.829041</td>\n",
       "      <td>-74.515087</td>\n",
       "      <td>-9.409796</td>\n",
       "      <td>-24.815780</td>\n",
       "    </tr>\n",
       "    <tr>\n",
       "      <th>2022-04-08</th>\n",
       "      <td>-2.727126</td>\n",
       "      <td>-73.114339</td>\n",
       "      <td>-9.190743</td>\n",
       "      <td>-25.769046</td>\n",
       "    </tr>\n",
       "    <tr>\n",
       "      <th>2022-04-09</th>\n",
       "      <td>-3.706577</td>\n",
       "      <td>-72.903850</td>\n",
       "      <td>-7.101269</td>\n",
       "      <td>-25.319054</td>\n",
       "    </tr>\n",
       "    <tr>\n",
       "      <th>2022-04-10</th>\n",
       "      <td>-2.499574</td>\n",
       "      <td>-73.011361</td>\n",
       "      <td>-4.311230</td>\n",
       "      <td>-24.474855</td>\n",
       "    </tr>\n",
       "    <tr>\n",
       "      <th>2022-04-11</th>\n",
       "      <td>-2.363791</td>\n",
       "      <td>-72.294792</td>\n",
       "      <td>-4.133563</td>\n",
       "      <td>-25.359914</td>\n",
       "    </tr>\n",
       "    <tr>\n",
       "      <th>2022-04-12</th>\n",
       "      <td>-1.645308</td>\n",
       "      <td>-73.096931</td>\n",
       "      <td>-4.166618</td>\n",
       "      <td>-24.972584</td>\n",
       "    </tr>\n",
       "    <tr>\n",
       "      <th>2022-04-13</th>\n",
       "      <td>-2.301116</td>\n",
       "      <td>-70.709663</td>\n",
       "      <td>-4.358106</td>\n",
       "      <td>-24.243527</td>\n",
       "    </tr>\n",
       "    <tr>\n",
       "      <th>2022-04-14</th>\n",
       "      <td>-1.904479</td>\n",
       "      <td>-70.017149</td>\n",
       "      <td>-4.446468</td>\n",
       "      <td>-22.288803</td>\n",
       "    </tr>\n",
       "    <tr>\n",
       "      <th>2022-04-15</th>\n",
       "      <td>-0.490211</td>\n",
       "      <td>-68.856146</td>\n",
       "      <td>-5.028467</td>\n",
       "      <td>-23.320927</td>\n",
       "    </tr>\n",
       "    <tr>\n",
       "      <th>2022-04-16</th>\n",
       "      <td>1.422961</td>\n",
       "      <td>-68.442011</td>\n",
       "      <td>-4.638294</td>\n",
       "      <td>-24.408841</td>\n",
       "    </tr>\n",
       "    <tr>\n",
       "      <th>2022-04-17</th>\n",
       "      <td>0.851332</td>\n",
       "      <td>-69.635877</td>\n",
       "      <td>-3.909407</td>\n",
       "      <td>-24.620009</td>\n",
       "    </tr>\n",
       "    <tr>\n",
       "      <th>2022-04-18</th>\n",
       "      <td>0.520160</td>\n",
       "      <td>-70.203696</td>\n",
       "      <td>-2.537085</td>\n",
       "      <td>-25.629305</td>\n",
       "    </tr>\n",
       "    <tr>\n",
       "      <th>2022-04-19</th>\n",
       "      <td>1.104393</td>\n",
       "      <td>-70.668290</td>\n",
       "      <td>-2.134614</td>\n",
       "      <td>-26.752131</td>\n",
       "    </tr>\n",
       "    <tr>\n",
       "      <th>2022-04-20</th>\n",
       "      <td>0.361479</td>\n",
       "      <td>-71.247337</td>\n",
       "      <td>-1.096461</td>\n",
       "      <td>-26.874831</td>\n",
       "    </tr>\n",
       "    <tr>\n",
       "      <th>2022-04-21</th>\n",
       "      <td>1.917566</td>\n",
       "      <td>-69.206250</td>\n",
       "      <td>-2.953403</td>\n",
       "      <td>-25.869207</td>\n",
       "    </tr>\n",
       "    <tr>\n",
       "      <th>2022-04-22</th>\n",
       "      <td>2.166502</td>\n",
       "      <td>-69.311292</td>\n",
       "      <td>-3.568217</td>\n",
       "      <td>-23.587735</td>\n",
       "    </tr>\n",
       "    <tr>\n",
       "      <th>2022-04-23</th>\n",
       "      <td>1.424429</td>\n",
       "      <td>-67.892342</td>\n",
       "      <td>-2.563738</td>\n",
       "      <td>-24.952785</td>\n",
       "    </tr>\n",
       "    <tr>\n",
       "      <th>2022-04-24</th>\n",
       "      <td>1.990850</td>\n",
       "      <td>-67.768663</td>\n",
       "      <td>-4.075290</td>\n",
       "      <td>-25.041948</td>\n",
       "    </tr>\n",
       "    <tr>\n",
       "      <th>2022-04-25</th>\n",
       "      <td>2.477314</td>\n",
       "      <td>-67.643498</td>\n",
       "      <td>-4.243069</td>\n",
       "      <td>-24.203111</td>\n",
       "    </tr>\n",
       "    <tr>\n",
       "      <th>2022-04-26</th>\n",
       "      <td>1.245295</td>\n",
       "      <td>-67.530956</td>\n",
       "      <td>-5.459982</td>\n",
       "      <td>-23.902614</td>\n",
       "    </tr>\n",
       "    <tr>\n",
       "      <th>2022-04-27</th>\n",
       "      <td>-1.775997</td>\n",
       "      <td>-67.377965</td>\n",
       "      <td>-6.563977</td>\n",
       "      <td>-23.397531</td>\n",
       "    </tr>\n",
       "    <tr>\n",
       "      <th>2022-04-28</th>\n",
       "      <td>-0.869473</td>\n",
       "      <td>-67.148736</td>\n",
       "      <td>-7.409320</td>\n",
       "      <td>-22.244187</td>\n",
       "    </tr>\n",
       "    <tr>\n",
       "      <th>2022-04-29</th>\n",
       "      <td>-1.264014</td>\n",
       "      <td>-67.372495</td>\n",
       "      <td>-7.053263</td>\n",
       "      <td>-21.730609</td>\n",
       "    </tr>\n",
       "    <tr>\n",
       "      <th>2022-04-30</th>\n",
       "      <td>-1.101774</td>\n",
       "      <td>-66.616196</td>\n",
       "      <td>-6.950948</td>\n",
       "      <td>-23.895380</td>\n",
       "    </tr>\n",
       "    <tr>\n",
       "      <th>2022-05-01</th>\n",
       "      <td>-0.561926</td>\n",
       "      <td>-66.831940</td>\n",
       "      <td>-6.492438</td>\n",
       "      <td>-23.581038</td>\n",
       "    </tr>\n",
       "    <tr>\n",
       "      <th>2022-05-02</th>\n",
       "      <td>-1.112189</td>\n",
       "      <td>-66.656308</td>\n",
       "      <td>-6.936366</td>\n",
       "      <td>-23.008767</td>\n",
       "    </tr>\n",
       "    <tr>\n",
       "      <th>2022-05-03</th>\n",
       "      <td>-4.741829</td>\n",
       "      <td>-67.133847</td>\n",
       "      <td>-7.294490</td>\n",
       "      <td>-24.853727</td>\n",
       "    </tr>\n",
       "  </tbody>\n",
       "</table>\n",
       "<p>1000 rows × 4 columns</p>\n",
       "</div>"
      ],
      "text/plain": [
       "                   A          B          C          D\n",
       "2019-08-08 -0.606283   0.747514   1.289559  -0.221121\n",
       "2019-08-09 -1.109114   1.062657   2.744839  -1.195501\n",
       "2019-08-10 -1.645509   1.000087   3.105683  -0.278497\n",
       "2019-08-11 -2.628208   2.504065   1.329226   0.393273\n",
       "2019-08-12 -2.590933   1.220918   1.547890   0.897592\n",
       "2019-08-13 -3.002735   0.495810   0.444578  -0.952850\n",
       "2019-08-14 -1.547566   1.309882   1.028196  -0.925267\n",
       "2019-08-15 -4.125862   2.315028   0.882703  -1.422915\n",
       "2019-08-16 -3.079400   1.593520  -1.483858  -1.249238\n",
       "2019-08-17 -2.395874   0.967483  -0.658113  -1.101175\n",
       "2019-08-18 -0.716611   1.287858  -0.770351  -1.730217\n",
       "2019-08-19 -0.676991  -0.167773  -0.051614  -1.284258\n",
       "2019-08-20 -1.663124  -0.953121   0.775861  -0.758744\n",
       "2019-08-21 -2.594731  -1.914788  -1.631537   0.046575\n",
       "2019-08-22 -1.270093   0.525799  -2.529405   1.003009\n",
       "2019-08-23 -2.807414   0.085243  -2.362466   0.024338\n",
       "2019-08-24 -1.694410  -0.407490  -1.469628  -0.408317\n",
       "2019-08-25 -1.553081  -1.601359  -2.145389  -0.717778\n",
       "2019-08-26 -0.734916  -1.354862  -3.610780   0.589368\n",
       "2019-08-27  1.153484  -3.670377  -6.253266   0.218165\n",
       "2019-08-28  1.455082  -4.860871  -5.364633  -0.408111\n",
       "2019-08-29  1.476806  -5.073754  -5.226790   0.211981\n",
       "2019-08-30 -0.467030  -5.035324  -3.256564   1.848691\n",
       "2019-08-31 -0.389287  -4.998432  -3.567899   1.180181\n",
       "2019-09-01 -1.540602  -3.967075  -3.815107   1.356540\n",
       "2019-09-02 -1.615310  -3.839438  -2.369348   0.409627\n",
       "2019-09-03 -0.296793  -4.157987  -2.317221   2.026028\n",
       "2019-09-04 -2.077965  -3.033356  -3.000346   1.374558\n",
       "2019-09-05 -2.326075  -3.183830  -3.338735   1.578718\n",
       "2019-09-06 -2.452542  -3.539157  -3.660731   1.743065\n",
       "...              ...        ...        ...        ...\n",
       "2022-04-04 -5.024470 -74.197569 -13.967081 -23.403558\n",
       "2022-04-05 -4.534205 -74.391736 -13.047768 -23.225135\n",
       "2022-04-06 -3.397389 -76.066521 -11.631268 -23.690088\n",
       "2022-04-07 -2.829041 -74.515087  -9.409796 -24.815780\n",
       "2022-04-08 -2.727126 -73.114339  -9.190743 -25.769046\n",
       "2022-04-09 -3.706577 -72.903850  -7.101269 -25.319054\n",
       "2022-04-10 -2.499574 -73.011361  -4.311230 -24.474855\n",
       "2022-04-11 -2.363791 -72.294792  -4.133563 -25.359914\n",
       "2022-04-12 -1.645308 -73.096931  -4.166618 -24.972584\n",
       "2022-04-13 -2.301116 -70.709663  -4.358106 -24.243527\n",
       "2022-04-14 -1.904479 -70.017149  -4.446468 -22.288803\n",
       "2022-04-15 -0.490211 -68.856146  -5.028467 -23.320927\n",
       "2022-04-16  1.422961 -68.442011  -4.638294 -24.408841\n",
       "2022-04-17  0.851332 -69.635877  -3.909407 -24.620009\n",
       "2022-04-18  0.520160 -70.203696  -2.537085 -25.629305\n",
       "2022-04-19  1.104393 -70.668290  -2.134614 -26.752131\n",
       "2022-04-20  0.361479 -71.247337  -1.096461 -26.874831\n",
       "2022-04-21  1.917566 -69.206250  -2.953403 -25.869207\n",
       "2022-04-22  2.166502 -69.311292  -3.568217 -23.587735\n",
       "2022-04-23  1.424429 -67.892342  -2.563738 -24.952785\n",
       "2022-04-24  1.990850 -67.768663  -4.075290 -25.041948\n",
       "2022-04-25  2.477314 -67.643498  -4.243069 -24.203111\n",
       "2022-04-26  1.245295 -67.530956  -5.459982 -23.902614\n",
       "2022-04-27 -1.775997 -67.377965  -6.563977 -23.397531\n",
       "2022-04-28 -0.869473 -67.148736  -7.409320 -22.244187\n",
       "2022-04-29 -1.264014 -67.372495  -7.053263 -21.730609\n",
       "2022-04-30 -1.101774 -66.616196  -6.950948 -23.895380\n",
       "2022-05-01 -0.561926 -66.831940  -6.492438 -23.581038\n",
       "2022-05-02 -1.112189 -66.656308  -6.936366 -23.008767\n",
       "2022-05-03 -4.741829 -67.133847  -7.294490 -24.853727\n",
       "\n",
       "[1000 rows x 4 columns]"
      ]
     },
     "execution_count": 224,
     "metadata": {},
     "output_type": "execute_result"
    }
   ],
   "source": [
    "pd.read_hdf(\"too.h5\", \"df\") # 기본적으로 C:\\Users\\USER 경로에 저장되어 있어야 한다."
   ]
  },
  {
   "cell_type": "markdown",
   "metadata": {},
   "source": [
    "# Excel"
   ]
  },
  {
   "cell_type": "markdown",
   "metadata": {},
   "source": [
    "데이터 프레임을 엑셀 파일로 저장하기."
   ]
  },
  {
   "cell_type": "code",
   "execution_count": 225,
   "metadata": {},
   "outputs": [],
   "source": [
    "df.to_excel(\"too.xlsx\", sheet_name = \"Sheet\") # 경로는 기본적으로 C:\\Users\\USER 에 저장되어 있다."
   ]
  },
  {
   "cell_type": "markdown",
   "metadata": {},
   "source": [
    "엑셀 파일을 불러오고, 데이터 프레임 형식으로 읽어오기."
   ]
  },
  {
   "cell_type": "code",
   "execution_count": 226,
   "metadata": {},
   "outputs": [
    {
     "data": {
      "text/html": [
       "<div>\n",
       "<style scoped>\n",
       "    .dataframe tbody tr th:only-of-type {\n",
       "        vertical-align: middle;\n",
       "    }\n",
       "\n",
       "    .dataframe tbody tr th {\n",
       "        vertical-align: top;\n",
       "    }\n",
       "\n",
       "    .dataframe thead th {\n",
       "        text-align: right;\n",
       "    }\n",
       "</style>\n",
       "<table border=\"1\" class=\"dataframe\">\n",
       "  <thead>\n",
       "    <tr style=\"text-align: right;\">\n",
       "      <th></th>\n",
       "      <th>A</th>\n",
       "      <th>B</th>\n",
       "      <th>C</th>\n",
       "      <th>D</th>\n",
       "    </tr>\n",
       "  </thead>\n",
       "  <tbody>\n",
       "    <tr>\n",
       "      <th>2019-08-08</th>\n",
       "      <td>-0.606283</td>\n",
       "      <td>0.747514</td>\n",
       "      <td>1.289559</td>\n",
       "      <td>-0.221121</td>\n",
       "    </tr>\n",
       "    <tr>\n",
       "      <th>2019-08-09</th>\n",
       "      <td>-1.109114</td>\n",
       "      <td>1.062657</td>\n",
       "      <td>2.744839</td>\n",
       "      <td>-1.195501</td>\n",
       "    </tr>\n",
       "    <tr>\n",
       "      <th>2019-08-10</th>\n",
       "      <td>-1.645509</td>\n",
       "      <td>1.000087</td>\n",
       "      <td>3.105683</td>\n",
       "      <td>-0.278497</td>\n",
       "    </tr>\n",
       "    <tr>\n",
       "      <th>2019-08-11</th>\n",
       "      <td>-2.628208</td>\n",
       "      <td>2.504065</td>\n",
       "      <td>1.329226</td>\n",
       "      <td>0.393273</td>\n",
       "    </tr>\n",
       "    <tr>\n",
       "      <th>2019-08-12</th>\n",
       "      <td>-2.590933</td>\n",
       "      <td>1.220918</td>\n",
       "      <td>1.547890</td>\n",
       "      <td>0.897592</td>\n",
       "    </tr>\n",
       "    <tr>\n",
       "      <th>2019-08-13</th>\n",
       "      <td>-3.002735</td>\n",
       "      <td>0.495810</td>\n",
       "      <td>0.444578</td>\n",
       "      <td>-0.952850</td>\n",
       "    </tr>\n",
       "    <tr>\n",
       "      <th>2019-08-14</th>\n",
       "      <td>-1.547566</td>\n",
       "      <td>1.309882</td>\n",
       "      <td>1.028196</td>\n",
       "      <td>-0.925267</td>\n",
       "    </tr>\n",
       "    <tr>\n",
       "      <th>2019-08-15</th>\n",
       "      <td>-4.125862</td>\n",
       "      <td>2.315028</td>\n",
       "      <td>0.882703</td>\n",
       "      <td>-1.422915</td>\n",
       "    </tr>\n",
       "    <tr>\n",
       "      <th>2019-08-16</th>\n",
       "      <td>-3.079400</td>\n",
       "      <td>1.593520</td>\n",
       "      <td>-1.483858</td>\n",
       "      <td>-1.249238</td>\n",
       "    </tr>\n",
       "    <tr>\n",
       "      <th>2019-08-17</th>\n",
       "      <td>-2.395874</td>\n",
       "      <td>0.967483</td>\n",
       "      <td>-0.658113</td>\n",
       "      <td>-1.101175</td>\n",
       "    </tr>\n",
       "    <tr>\n",
       "      <th>2019-08-18</th>\n",
       "      <td>-0.716611</td>\n",
       "      <td>1.287858</td>\n",
       "      <td>-0.770351</td>\n",
       "      <td>-1.730217</td>\n",
       "    </tr>\n",
       "    <tr>\n",
       "      <th>2019-08-19</th>\n",
       "      <td>-0.676991</td>\n",
       "      <td>-0.167773</td>\n",
       "      <td>-0.051614</td>\n",
       "      <td>-1.284258</td>\n",
       "    </tr>\n",
       "    <tr>\n",
       "      <th>2019-08-20</th>\n",
       "      <td>-1.663124</td>\n",
       "      <td>-0.953121</td>\n",
       "      <td>0.775861</td>\n",
       "      <td>-0.758744</td>\n",
       "    </tr>\n",
       "    <tr>\n",
       "      <th>2019-08-21</th>\n",
       "      <td>-2.594731</td>\n",
       "      <td>-1.914788</td>\n",
       "      <td>-1.631537</td>\n",
       "      <td>0.046575</td>\n",
       "    </tr>\n",
       "    <tr>\n",
       "      <th>2019-08-22</th>\n",
       "      <td>-1.270093</td>\n",
       "      <td>0.525799</td>\n",
       "      <td>-2.529405</td>\n",
       "      <td>1.003009</td>\n",
       "    </tr>\n",
       "    <tr>\n",
       "      <th>2019-08-23</th>\n",
       "      <td>-2.807414</td>\n",
       "      <td>0.085243</td>\n",
       "      <td>-2.362466</td>\n",
       "      <td>0.024338</td>\n",
       "    </tr>\n",
       "    <tr>\n",
       "      <th>2019-08-24</th>\n",
       "      <td>-1.694410</td>\n",
       "      <td>-0.407490</td>\n",
       "      <td>-1.469628</td>\n",
       "      <td>-0.408317</td>\n",
       "    </tr>\n",
       "    <tr>\n",
       "      <th>2019-08-25</th>\n",
       "      <td>-1.553081</td>\n",
       "      <td>-1.601359</td>\n",
       "      <td>-2.145389</td>\n",
       "      <td>-0.717778</td>\n",
       "    </tr>\n",
       "    <tr>\n",
       "      <th>2019-08-26</th>\n",
       "      <td>-0.734916</td>\n",
       "      <td>-1.354862</td>\n",
       "      <td>-3.610780</td>\n",
       "      <td>0.589368</td>\n",
       "    </tr>\n",
       "    <tr>\n",
       "      <th>2019-08-27</th>\n",
       "      <td>1.153484</td>\n",
       "      <td>-3.670377</td>\n",
       "      <td>-6.253266</td>\n",
       "      <td>0.218165</td>\n",
       "    </tr>\n",
       "    <tr>\n",
       "      <th>2019-08-28</th>\n",
       "      <td>1.455082</td>\n",
       "      <td>-4.860871</td>\n",
       "      <td>-5.364633</td>\n",
       "      <td>-0.408111</td>\n",
       "    </tr>\n",
       "    <tr>\n",
       "      <th>2019-08-29</th>\n",
       "      <td>1.476806</td>\n",
       "      <td>-5.073754</td>\n",
       "      <td>-5.226790</td>\n",
       "      <td>0.211981</td>\n",
       "    </tr>\n",
       "    <tr>\n",
       "      <th>2019-08-30</th>\n",
       "      <td>-0.467030</td>\n",
       "      <td>-5.035324</td>\n",
       "      <td>-3.256564</td>\n",
       "      <td>1.848691</td>\n",
       "    </tr>\n",
       "    <tr>\n",
       "      <th>2019-08-31</th>\n",
       "      <td>-0.389287</td>\n",
       "      <td>-4.998432</td>\n",
       "      <td>-3.567899</td>\n",
       "      <td>1.180181</td>\n",
       "    </tr>\n",
       "    <tr>\n",
       "      <th>2019-09-01</th>\n",
       "      <td>-1.540602</td>\n",
       "      <td>-3.967075</td>\n",
       "      <td>-3.815107</td>\n",
       "      <td>1.356540</td>\n",
       "    </tr>\n",
       "    <tr>\n",
       "      <th>2019-09-02</th>\n",
       "      <td>-1.615310</td>\n",
       "      <td>-3.839438</td>\n",
       "      <td>-2.369348</td>\n",
       "      <td>0.409627</td>\n",
       "    </tr>\n",
       "    <tr>\n",
       "      <th>2019-09-03</th>\n",
       "      <td>-0.296793</td>\n",
       "      <td>-4.157987</td>\n",
       "      <td>-2.317221</td>\n",
       "      <td>2.026028</td>\n",
       "    </tr>\n",
       "    <tr>\n",
       "      <th>2019-09-04</th>\n",
       "      <td>-2.077965</td>\n",
       "      <td>-3.033356</td>\n",
       "      <td>-3.000346</td>\n",
       "      <td>1.374558</td>\n",
       "    </tr>\n",
       "    <tr>\n",
       "      <th>2019-09-05</th>\n",
       "      <td>-2.326075</td>\n",
       "      <td>-3.183830</td>\n",
       "      <td>-3.338735</td>\n",
       "      <td>1.578718</td>\n",
       "    </tr>\n",
       "    <tr>\n",
       "      <th>2019-09-06</th>\n",
       "      <td>-2.452542</td>\n",
       "      <td>-3.539157</td>\n",
       "      <td>-3.660731</td>\n",
       "      <td>1.743065</td>\n",
       "    </tr>\n",
       "    <tr>\n",
       "      <th>...</th>\n",
       "      <td>...</td>\n",
       "      <td>...</td>\n",
       "      <td>...</td>\n",
       "      <td>...</td>\n",
       "    </tr>\n",
       "    <tr>\n",
       "      <th>2022-04-04</th>\n",
       "      <td>-5.024470</td>\n",
       "      <td>-74.197569</td>\n",
       "      <td>-13.967081</td>\n",
       "      <td>-23.403558</td>\n",
       "    </tr>\n",
       "    <tr>\n",
       "      <th>2022-04-05</th>\n",
       "      <td>-4.534205</td>\n",
       "      <td>-74.391736</td>\n",
       "      <td>-13.047768</td>\n",
       "      <td>-23.225135</td>\n",
       "    </tr>\n",
       "    <tr>\n",
       "      <th>2022-04-06</th>\n",
       "      <td>-3.397389</td>\n",
       "      <td>-76.066521</td>\n",
       "      <td>-11.631268</td>\n",
       "      <td>-23.690088</td>\n",
       "    </tr>\n",
       "    <tr>\n",
       "      <th>2022-04-07</th>\n",
       "      <td>-2.829041</td>\n",
       "      <td>-74.515087</td>\n",
       "      <td>-9.409796</td>\n",
       "      <td>-24.815780</td>\n",
       "    </tr>\n",
       "    <tr>\n",
       "      <th>2022-04-08</th>\n",
       "      <td>-2.727126</td>\n",
       "      <td>-73.114339</td>\n",
       "      <td>-9.190743</td>\n",
       "      <td>-25.769046</td>\n",
       "    </tr>\n",
       "    <tr>\n",
       "      <th>2022-04-09</th>\n",
       "      <td>-3.706577</td>\n",
       "      <td>-72.903850</td>\n",
       "      <td>-7.101269</td>\n",
       "      <td>-25.319054</td>\n",
       "    </tr>\n",
       "    <tr>\n",
       "      <th>2022-04-10</th>\n",
       "      <td>-2.499574</td>\n",
       "      <td>-73.011361</td>\n",
       "      <td>-4.311230</td>\n",
       "      <td>-24.474855</td>\n",
       "    </tr>\n",
       "    <tr>\n",
       "      <th>2022-04-11</th>\n",
       "      <td>-2.363791</td>\n",
       "      <td>-72.294792</td>\n",
       "      <td>-4.133563</td>\n",
       "      <td>-25.359914</td>\n",
       "    </tr>\n",
       "    <tr>\n",
       "      <th>2022-04-12</th>\n",
       "      <td>-1.645308</td>\n",
       "      <td>-73.096931</td>\n",
       "      <td>-4.166618</td>\n",
       "      <td>-24.972584</td>\n",
       "    </tr>\n",
       "    <tr>\n",
       "      <th>2022-04-13</th>\n",
       "      <td>-2.301116</td>\n",
       "      <td>-70.709663</td>\n",
       "      <td>-4.358106</td>\n",
       "      <td>-24.243527</td>\n",
       "    </tr>\n",
       "    <tr>\n",
       "      <th>2022-04-14</th>\n",
       "      <td>-1.904479</td>\n",
       "      <td>-70.017149</td>\n",
       "      <td>-4.446468</td>\n",
       "      <td>-22.288803</td>\n",
       "    </tr>\n",
       "    <tr>\n",
       "      <th>2022-04-15</th>\n",
       "      <td>-0.490211</td>\n",
       "      <td>-68.856146</td>\n",
       "      <td>-5.028467</td>\n",
       "      <td>-23.320927</td>\n",
       "    </tr>\n",
       "    <tr>\n",
       "      <th>2022-04-16</th>\n",
       "      <td>1.422961</td>\n",
       "      <td>-68.442011</td>\n",
       "      <td>-4.638294</td>\n",
       "      <td>-24.408841</td>\n",
       "    </tr>\n",
       "    <tr>\n",
       "      <th>2022-04-17</th>\n",
       "      <td>0.851332</td>\n",
       "      <td>-69.635877</td>\n",
       "      <td>-3.909407</td>\n",
       "      <td>-24.620009</td>\n",
       "    </tr>\n",
       "    <tr>\n",
       "      <th>2022-04-18</th>\n",
       "      <td>0.520160</td>\n",
       "      <td>-70.203696</td>\n",
       "      <td>-2.537085</td>\n",
       "      <td>-25.629305</td>\n",
       "    </tr>\n",
       "    <tr>\n",
       "      <th>2022-04-19</th>\n",
       "      <td>1.104393</td>\n",
       "      <td>-70.668290</td>\n",
       "      <td>-2.134614</td>\n",
       "      <td>-26.752131</td>\n",
       "    </tr>\n",
       "    <tr>\n",
       "      <th>2022-04-20</th>\n",
       "      <td>0.361479</td>\n",
       "      <td>-71.247337</td>\n",
       "      <td>-1.096461</td>\n",
       "      <td>-26.874831</td>\n",
       "    </tr>\n",
       "    <tr>\n",
       "      <th>2022-04-21</th>\n",
       "      <td>1.917566</td>\n",
       "      <td>-69.206250</td>\n",
       "      <td>-2.953403</td>\n",
       "      <td>-25.869207</td>\n",
       "    </tr>\n",
       "    <tr>\n",
       "      <th>2022-04-22</th>\n",
       "      <td>2.166502</td>\n",
       "      <td>-69.311292</td>\n",
       "      <td>-3.568217</td>\n",
       "      <td>-23.587735</td>\n",
       "    </tr>\n",
       "    <tr>\n",
       "      <th>2022-04-23</th>\n",
       "      <td>1.424429</td>\n",
       "      <td>-67.892342</td>\n",
       "      <td>-2.563738</td>\n",
       "      <td>-24.952785</td>\n",
       "    </tr>\n",
       "    <tr>\n",
       "      <th>2022-04-24</th>\n",
       "      <td>1.990850</td>\n",
       "      <td>-67.768663</td>\n",
       "      <td>-4.075290</td>\n",
       "      <td>-25.041948</td>\n",
       "    </tr>\n",
       "    <tr>\n",
       "      <th>2022-04-25</th>\n",
       "      <td>2.477314</td>\n",
       "      <td>-67.643498</td>\n",
       "      <td>-4.243069</td>\n",
       "      <td>-24.203111</td>\n",
       "    </tr>\n",
       "    <tr>\n",
       "      <th>2022-04-26</th>\n",
       "      <td>1.245295</td>\n",
       "      <td>-67.530956</td>\n",
       "      <td>-5.459982</td>\n",
       "      <td>-23.902614</td>\n",
       "    </tr>\n",
       "    <tr>\n",
       "      <th>2022-04-27</th>\n",
       "      <td>-1.775997</td>\n",
       "      <td>-67.377965</td>\n",
       "      <td>-6.563977</td>\n",
       "      <td>-23.397531</td>\n",
       "    </tr>\n",
       "    <tr>\n",
       "      <th>2022-04-28</th>\n",
       "      <td>-0.869473</td>\n",
       "      <td>-67.148736</td>\n",
       "      <td>-7.409320</td>\n",
       "      <td>-22.244187</td>\n",
       "    </tr>\n",
       "    <tr>\n",
       "      <th>2022-04-29</th>\n",
       "      <td>-1.264014</td>\n",
       "      <td>-67.372495</td>\n",
       "      <td>-7.053263</td>\n",
       "      <td>-21.730609</td>\n",
       "    </tr>\n",
       "    <tr>\n",
       "      <th>2022-04-30</th>\n",
       "      <td>-1.101774</td>\n",
       "      <td>-66.616196</td>\n",
       "      <td>-6.950948</td>\n",
       "      <td>-23.895380</td>\n",
       "    </tr>\n",
       "    <tr>\n",
       "      <th>2022-05-01</th>\n",
       "      <td>-0.561926</td>\n",
       "      <td>-66.831940</td>\n",
       "      <td>-6.492438</td>\n",
       "      <td>-23.581038</td>\n",
       "    </tr>\n",
       "    <tr>\n",
       "      <th>2022-05-02</th>\n",
       "      <td>-1.112189</td>\n",
       "      <td>-66.656308</td>\n",
       "      <td>-6.936366</td>\n",
       "      <td>-23.008767</td>\n",
       "    </tr>\n",
       "    <tr>\n",
       "      <th>2022-05-03</th>\n",
       "      <td>-4.741829</td>\n",
       "      <td>-67.133847</td>\n",
       "      <td>-7.294490</td>\n",
       "      <td>-24.853727</td>\n",
       "    </tr>\n",
       "  </tbody>\n",
       "</table>\n",
       "<p>1000 rows × 4 columns</p>\n",
       "</div>"
      ],
      "text/plain": [
       "                   A          B          C          D\n",
       "2019-08-08 -0.606283   0.747514   1.289559  -0.221121\n",
       "2019-08-09 -1.109114   1.062657   2.744839  -1.195501\n",
       "2019-08-10 -1.645509   1.000087   3.105683  -0.278497\n",
       "2019-08-11 -2.628208   2.504065   1.329226   0.393273\n",
       "2019-08-12 -2.590933   1.220918   1.547890   0.897592\n",
       "2019-08-13 -3.002735   0.495810   0.444578  -0.952850\n",
       "2019-08-14 -1.547566   1.309882   1.028196  -0.925267\n",
       "2019-08-15 -4.125862   2.315028   0.882703  -1.422915\n",
       "2019-08-16 -3.079400   1.593520  -1.483858  -1.249238\n",
       "2019-08-17 -2.395874   0.967483  -0.658113  -1.101175\n",
       "2019-08-18 -0.716611   1.287858  -0.770351  -1.730217\n",
       "2019-08-19 -0.676991  -0.167773  -0.051614  -1.284258\n",
       "2019-08-20 -1.663124  -0.953121   0.775861  -0.758744\n",
       "2019-08-21 -2.594731  -1.914788  -1.631537   0.046575\n",
       "2019-08-22 -1.270093   0.525799  -2.529405   1.003009\n",
       "2019-08-23 -2.807414   0.085243  -2.362466   0.024338\n",
       "2019-08-24 -1.694410  -0.407490  -1.469628  -0.408317\n",
       "2019-08-25 -1.553081  -1.601359  -2.145389  -0.717778\n",
       "2019-08-26 -0.734916  -1.354862  -3.610780   0.589368\n",
       "2019-08-27  1.153484  -3.670377  -6.253266   0.218165\n",
       "2019-08-28  1.455082  -4.860871  -5.364633  -0.408111\n",
       "2019-08-29  1.476806  -5.073754  -5.226790   0.211981\n",
       "2019-08-30 -0.467030  -5.035324  -3.256564   1.848691\n",
       "2019-08-31 -0.389287  -4.998432  -3.567899   1.180181\n",
       "2019-09-01 -1.540602  -3.967075  -3.815107   1.356540\n",
       "2019-09-02 -1.615310  -3.839438  -2.369348   0.409627\n",
       "2019-09-03 -0.296793  -4.157987  -2.317221   2.026028\n",
       "2019-09-04 -2.077965  -3.033356  -3.000346   1.374558\n",
       "2019-09-05 -2.326075  -3.183830  -3.338735   1.578718\n",
       "2019-09-06 -2.452542  -3.539157  -3.660731   1.743065\n",
       "...              ...        ...        ...        ...\n",
       "2022-04-04 -5.024470 -74.197569 -13.967081 -23.403558\n",
       "2022-04-05 -4.534205 -74.391736 -13.047768 -23.225135\n",
       "2022-04-06 -3.397389 -76.066521 -11.631268 -23.690088\n",
       "2022-04-07 -2.829041 -74.515087  -9.409796 -24.815780\n",
       "2022-04-08 -2.727126 -73.114339  -9.190743 -25.769046\n",
       "2022-04-09 -3.706577 -72.903850  -7.101269 -25.319054\n",
       "2022-04-10 -2.499574 -73.011361  -4.311230 -24.474855\n",
       "2022-04-11 -2.363791 -72.294792  -4.133563 -25.359914\n",
       "2022-04-12 -1.645308 -73.096931  -4.166618 -24.972584\n",
       "2022-04-13 -2.301116 -70.709663  -4.358106 -24.243527\n",
       "2022-04-14 -1.904479 -70.017149  -4.446468 -22.288803\n",
       "2022-04-15 -0.490211 -68.856146  -5.028467 -23.320927\n",
       "2022-04-16  1.422961 -68.442011  -4.638294 -24.408841\n",
       "2022-04-17  0.851332 -69.635877  -3.909407 -24.620009\n",
       "2022-04-18  0.520160 -70.203696  -2.537085 -25.629305\n",
       "2022-04-19  1.104393 -70.668290  -2.134614 -26.752131\n",
       "2022-04-20  0.361479 -71.247337  -1.096461 -26.874831\n",
       "2022-04-21  1.917566 -69.206250  -2.953403 -25.869207\n",
       "2022-04-22  2.166502 -69.311292  -3.568217 -23.587735\n",
       "2022-04-23  1.424429 -67.892342  -2.563738 -24.952785\n",
       "2022-04-24  1.990850 -67.768663  -4.075290 -25.041948\n",
       "2022-04-25  2.477314 -67.643498  -4.243069 -24.203111\n",
       "2022-04-26  1.245295 -67.530956  -5.459982 -23.902614\n",
       "2022-04-27 -1.775997 -67.377965  -6.563977 -23.397531\n",
       "2022-04-28 -0.869473 -67.148736  -7.409320 -22.244187\n",
       "2022-04-29 -1.264014 -67.372495  -7.053263 -21.730609\n",
       "2022-04-30 -1.101774 -66.616196  -6.950948 -23.895380\n",
       "2022-05-01 -0.561926 -66.831940  -6.492438 -23.581038\n",
       "2022-05-02 -1.112189 -66.656308  -6.936366 -23.008767\n",
       "2022-05-03 -4.741829 -67.133847  -7.294490 -24.853727\n",
       "\n",
       "[1000 rows x 4 columns]"
      ]
     },
     "execution_count": 226,
     "metadata": {},
     "output_type": "execute_result"
    }
   ],
   "source": [
    "pd.read_excel(\"too.xlsx\", \"Sheet\", index_col = None, na_values = [\"NA\"]) # 자기 경로에 저장되어 있어야 한다."
   ]
  },
  {
   "cell_type": "code",
   "execution_count": null,
   "metadata": {},
   "outputs": [],
   "source": []
  }
 ],
 "metadata": {
  "kernelspec": {
   "display_name": "Python 3",
   "language": "python",
   "name": "python3"
  },
  "language_info": {
   "codemirror_mode": {
    "name": "ipython",
    "version": 3
   },
   "file_extension": ".py",
   "mimetype": "text/x-python",
   "name": "python",
   "nbconvert_exporter": "python",
   "pygments_lexer": "ipython3",
   "version": "3.6.5"
  }
 },
 "nbformat": 4,
 "nbformat_minor": 2
}
